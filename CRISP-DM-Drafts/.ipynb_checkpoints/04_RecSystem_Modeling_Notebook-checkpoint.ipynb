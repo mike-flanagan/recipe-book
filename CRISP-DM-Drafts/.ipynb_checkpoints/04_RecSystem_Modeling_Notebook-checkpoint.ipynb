{
 "cells": [
  {
   "cell_type": "markdown",
   "metadata": {},
   "source": [
    "<head><h1 align=\"center\">\n",
    "Food.com Recipe Interactions\n",
    "</h1></head>  \n",
    "  \n",
    "<head><h3 align=\"center\">Recipe Recommender System Modeling</h3></head>"
   ]
  },
  {
   "cell_type": "markdown",
   "metadata": {},
   "source": [
    "We will develop a **personalized recommender system**. With such systems, there are different options for methods in which to approach recommendations:\n",
    "  \n",
    "- The first method is to ask for *explicit* defined ratings from a user regarding the content that they have used/viewed/consumed.  \n",
    "\n",
    "- Another method is to gather data *implicitly* as the user interacts with the system or service.\n",
    "  \n",
    "In this dataset, we have both:  \n",
    "- **Explicit Data** — the `rating` feature of the **interactions dataset** for each `user`.\n",
    "- **Implicit Data** — the `x` feature of the **x dataset**.  \n",
    "  \n",
    "Technically, I would suppose the `review` feature would fall under explicit data as well, but to use it as such would require *Natural Language Processing*, which we may get involved in later, but not in this notebook.  \n",
    "  \n",
    "Additionally with personalized recommender systems, we can center our system around either around suggesting similar *content* (recipes) or suggestions based on other *users of similar preference*. Both systems are succinctly described below:\n",
    "  \n",
    "**Content-Based Recommenders**  \n",
    "> Main Idea: If you like an item, you will also like \"similar\" items.$_1$  \n",
    "  \n",
    "**Collaborative Filtering Systems**  \n",
    "> Main Idea: If user A likes items 5, 6, 7, and 8 and user B likes items 5, 6, and 7, then it is highly likely that user B will also like item 8.$_1$  \n",
    "  \n",
    "We will use `scikit-surprise` for a user-based collaborative filtering model."
   ]
  },
  {
   "cell_type": "markdown",
   "metadata": {},
   "source": [
    "#### Setup"
   ]
  },
  {
   "cell_type": "code",
   "execution_count": 2,
   "metadata": {
    "ExecuteTime": {
     "end_time": "2021-05-08T18:18:27.361733Z",
     "start_time": "2021-05-08T18:16:45.113501Z"
    }
   },
   "outputs": [
    {
     "name": "stdout",
     "output_type": "stream",
     "text": [
      "Collecting package metadata (current_repodata.json): done\n",
      "Solving environment: - \n",
      "The environment is inconsistent, please check the package plan carefully\n",
      "The following packages are causing the inconsistency:\n",
      "\n",
      "  - conda-forge/noarch::seaborn-base==0.11.1=pyhd8ed1ab_1\n",
      "  - conda-forge/noarch::nbclassic==0.2.6=pyhd8ed1ab_0\n",
      "  - conda-forge/linux-64::blaze==0.11.3=py36_0\n",
      "  - conda-forge/linux-64::matplotlib==3.3.4=py36h5fab9bb_0\n",
      "  - defaults/linux-64::_anaconda_depends==5.1.0=py36_2\n",
      "  - conda-forge/noarch::jupyterlab==3.0.9=pyhd8ed1ab_0\n",
      "  - conda-forge/noarch::python-language-server==0.36.2=pyhd8ed1ab_0\n",
      "  - conda-forge/noarch::jupyterlab_server==2.3.0=pyhd8ed1ab_0\n",
      "  - conda-forge/noarch::pyls-black==0.4.6=pyh9f0ad1d_0\n",
      "  - conda-forge/linux-64::scikit-image==0.16.2=py36hb3f55d8_0\n",
      "  - conda-forge/noarch::black==20.8b1=py_1\n",
      "  - conda-forge/linux-64::anyio==2.1.0=py36h5fab9bb_0\n",
      "  - conda-forge/linux-64::jupyter_server==1.4.1=py36h5fab9bb_0\n",
      "  - conda-forge/linux-64::bokeh==2.2.3=py36h5fab9bb_0\n",
      "  - conda-forge/noarch::aiobotocore==1.2.1=pyhd8ed1ab_0\n",
      "  - conda-forge/noarch::numpydoc==1.1.0=py_1\n",
      "  - conda-forge/linux-64::spyder==4.2.0=py36h5fab9bb_0\n",
      "  - conda-forge/noarch::pyls-spyder==0.3.2=pyhd8ed1ab_0\n",
      "  - conda-forge/noarch::odo==0.5.1=py_1\n",
      "  - conda-forge/noarch::imageio==2.9.0=py_0\n",
      "  - conda-forge/linux-64::yarl==1.6.3=py36h8f6f2f9_1\n",
      "  - conda-forge/noarch::sphinx==3.5.1=pyhd8ed1ab_0\n",
      "  - conda-forge/noarch::seaborn==0.11.1=hd8ed1ab_1\n",
      "  - conda-forge/linux-64::jupyter==1.0.0=py36h5fab9bb_6\n",
      "  - conda-forge/noarch::dask==2021.2.0=pyhd8ed1ab_0\n",
      "  - conda-forge/linux-64::idna_ssl==1.1.0=py36h9f0ad1d_1001\n",
      "  - conda-forge/linux-64::matplotlib-base==3.3.4=py36hd391965_0\n",
      "  - conda-forge/noarch::anaconda-client==1.7.2=py_0\n",
      "  - conda-forge/noarch::anaconda-project==0.9.1=pyhd8ed1ab_0\n",
      "done\n",
      "\n",
      "\n",
      "==> WARNING: A newer version of conda exists. <==\n",
      "  current version: 4.8.4\n",
      "  latest version: 4.10.1\n",
      "\n",
      "Please update conda by running\n",
      "\n",
      "    $ conda update -n base -c defaults conda\n",
      "\n",
      "\n",
      "\n",
      "## Package Plan ##\n",
      "\n",
      "  environment location: /home/ec2-user/anaconda3/envs/python3\n",
      "\n",
      "  added / updated specs:\n",
      "    - scikit-surprise\n",
      "\n",
      "\n",
      "The following packages will be downloaded:\n",
      "\n",
      "    package                    |            build\n",
      "    ---------------------------|-----------------\n",
      "    aiobotocore-1.3.0          |     pyhd8ed1ab_0          40 KB  conda-forge\n",
      "    astroid-2.5.6              |   py36h5fab9bb_0         300 KB  conda-forge\n",
      "    botocore-1.20.49           |     pyhd8ed1ab_0         4.6 MB  conda-forge\n",
      "    dataclasses-0.8            |     pyh787bdff_0          22 KB  conda-forge\n",
      "    docutils-0.17.1            |   py36h5fab9bb_0         762 KB  conda-forge\n",
      "    flask-cors-3.0.8           |             py_0          14 KB  conda-forge\n",
      "    lxml-4.6.3                 |   py36h04a5ba7_0         1.5 MB  conda-forge\n",
      "    pillow-8.1.2               |   py36ha6010c0_1         691 KB  conda-forge\n",
      "    pylint-2.7.2               |   py36h5fab9bb_0         466 KB  conda-forge\n",
      "    ------------------------------------------------------------\n",
      "                                           Total:         8.3 MB\n",
      "\n",
      "The following NEW packages will be INSTALLED:\n",
      "\n",
      "  aiohttp            conda-forge/linux-64::aiohttp-3.7.4-py36h8f6f2f9_0\n",
      "  astroid            conda-forge/linux-64::astroid-2.5.6-py36h5fab9bb_0\n",
      "  botocore           conda-forge/noarch::botocore-1.20.49-pyhd8ed1ab_0\n",
      "  colorama           conda-forge/noarch::colorama-0.4.4-pyh9f0ad1d_0\n",
      "  dataclasses        conda-forge/noarch::dataclasses-0.8-pyh787bdff_0\n",
      "  docutils           conda-forge/linux-64::docutils-0.17.1-py36h5fab9bb_0\n",
      "  flask-cors         conda-forge/noarch::flask-cors-3.0.8-py_0\n",
      "  idna               conda-forge/noarch::idna-2.10-pyh9f0ad1d_0\n",
      "  jupyter_console    conda-forge/linux-64::jupyter_console-5.2.0-py36_1\n",
      "  lxml               conda-forge/linux-64::lxml-4.6.3-py36h04a5ba7_0\n",
      "  openjpeg           conda-forge/linux-64::openjpeg-2.4.0-hf7af979_0\n",
      "  pillow             conda-forge/linux-64::pillow-8.1.2-py36ha6010c0_1\n",
      "  pylint             conda-forge/linux-64::pylint-2.7.2-py36h5fab9bb_0\n",
      "  requests           conda-forge/noarch::requests-2.25.1-pyhd3deb0d_0\n",
      "  scikit-surprise    conda-forge/linux-64::scikit-surprise-1.1.1-py36h68bb277_1\n",
      "  urllib3            conda-forge/noarch::urllib3-1.26.4-pyhd8ed1ab_0\n",
      "\n",
      "The following packages will be UPDATED:\n",
      "\n",
      "  aiobotocore                            1.2.1-pyhd8ed1ab_0 --> 1.3.0-pyhd8ed1ab_0\n",
      "\n",
      "\n",
      "\n",
      "Downloading and Extracting Packages\n",
      "pylint-2.7.2         | 466 KB    | ##################################### | 100% \n",
      "aiobotocore-1.3.0    | 40 KB     | ##################################### | 100% \n",
      "botocore-1.20.49     | 4.6 MB    | ##################################### | 100% \n",
      "lxml-4.6.3           | 1.5 MB    | ##################################### | 100% \n",
      "astroid-2.5.6        | 300 KB    | ##################################### | 100% \n",
      "flask-cors-3.0.8     | 14 KB     | ##################################### | 100% \n",
      "docutils-0.17.1      | 762 KB    | ##################################### | 100% \n",
      "pillow-8.1.2         | 691 KB    | ##################################### | 100% \n",
      "dataclasses-0.8      | 22 KB     | ##################################### | 100% \n",
      "Preparing transaction: done\n",
      "Verifying transaction: done\n",
      "Executing transaction: done\n",
      "\n",
      "Note: you may need to restart the kernel to use updated packages.\n"
     ]
    }
   ],
   "source": [
    "%conda install --yes --prefix {sys.prefix} -c conda-forge scikit-surprise"
   ]
  },
  {
   "cell_type": "code",
   "execution_count": 5,
   "metadata": {
    "ExecuteTime": {
     "end_time": "2021-05-08T18:22:38.008681Z",
     "start_time": "2021-05-08T18:22:37.612926Z"
    }
   },
   "outputs": [
    {
     "name": "stdout",
     "output_type": "stream",
     "text": [
      "Success - the MySageMakerInstance is in the us-east-2 region. You will use the 404615174143.dkr.ecr.us-east-2.amazonaws.com/knn:1 container for your SageMaker endpoint.\n"
     ]
    }
   ],
   "source": [
    "# import libraries\n",
    "import boto3, re, sys, time, math, csv, json, os, pickle, sagemaker, urllib.request\n",
    "from os import system\n",
    "from math import floor\n",
    "from time import gmtime, strftime\n",
    "from copy import deepcopy\n",
    "from sagemaker import get_execution_role\n",
    "from sagemaker.predictor import csv_serializer\n",
    "\n",
    "import numpy as np                                \n",
    "import pandas as pd                               \n",
    "import matplotlib.pyplot as plt \n",
    "import seaborn as sns\n",
    "\n",
    "from sklearn.cluster import KMeans\n",
    "from sklearn.preprocessing import StandardScaler\n",
    "from sklearn.pipeline import Pipeline\n",
    "from sklearn.manifold import TSNE\n",
    "from sklearn.decomposition import PCA\n",
    "from sklearn.metrics import euclidean_distances\n",
    "from sklearn.metrics.pairwise import cosine_similarity\n",
    "from sklearn.feature_extraction.text import CountVectorizer\n",
    "from scipy.spatial.distance import cdist\n",
    "from surprise.similarities import cosine, msd, pearson # for Memory-based Methods (Neighborhood-based)\n",
    "from surprise.prediction_algorithms import SVD, knns, KNNWithMeans, KNNBasic, KNNBaseline, KNNWithZScore, CoClustering, BaselineOnly, NormalPredictor, NMF, SVDpp, SlopeOne\n",
    "from surprise.model_selection import GridSearchCV, cross_validate, train_test_split\n",
    "from surprise import Reader, Dataset, accuracy, dump\n",
    "                  \n",
    "from IPython.display import Image                 \n",
    "from IPython.display import display               \n",
    "\n",
    "pd.set_option('display.max_rows', 6)\n",
    "pd.set_option('display.max_columns', 20)\n",
    "pd.set_option('display.max_colwidth', 200)\n",
    "\n",
    "# Define IAM role\n",
    "role = get_execution_role()\n",
    "prefix = 'sagemaker/knn'\n",
    "containers = {'us-west-2': '174872318107.dkr.ecr.us-west-2.amazonaws.com/knn:1',\n",
    "              'us-east-1': '382416733822.dkr.ecr.us-east-1.amazonaws.com/knn:1',\n",
    "              'us-east-2': '404615174143.dkr.ecr.us-east-2.amazonaws.com/knn:1',\n",
    "              'eu-west-1': '438346466558.dkr.ecr.eu-west-1.amazonaws.com/knn:1',\n",
    "              'ap-northeast-1': '351501993468.dkr.ecr.ap-northeast-1.amazonaws.com/knn:1',\n",
    "              'ap-northeast-2': '835164637446.dkr.ecr.ap-northeast-2.amazonaws.com/knn:1',\n",
    "              'ap-southeast-2': '712309505854.dkr.ecr.ap-southeast-2.amazonaws.com/knn:1'}\n",
    "\n",
    "my_region = boto3.session.Session().region_name # set the region of the instance\n",
    "print(\"Success - the MySageMakerInstance is in the \" + my_region + \" region. You will use the \" + containers[my_region] + \" container for your SageMaker endpoint.\")"
   ]
  },
  {
   "cell_type": "code",
   "execution_count": 6,
   "metadata": {
    "ExecuteTime": {
     "end_time": "2021-05-08T18:22:40.250664Z",
     "start_time": "2021-05-08T18:22:40.058432Z"
    }
   },
   "outputs": [],
   "source": [
    "bucket = 'sagemaker-studio-t1ems8mtnoj'\n",
    "subfolder = ''\n",
    "s3 = boto3.client('s3')\n",
    "contents = s3.list_objects(Bucket=bucket, Prefix=subfolder)['Contents']\n",
    "# for f in contents:\n",
    "#     print(f['Key'])"
   ]
  },
  {
   "cell_type": "markdown",
   "metadata": {},
   "source": [
    "# Data Import & Preparation"
   ]
  },
  {
   "cell_type": "code",
   "execution_count": 7,
   "metadata": {
    "ExecuteTime": {
     "end_time": "2021-05-08T18:22:47.747243Z",
     "start_time": "2021-05-08T18:22:42.463337Z"
    }
   },
   "outputs": [],
   "source": [
    "idf = pd.read_csv('../data/RAW_interactions.csv')\n",
    "idf['date'] = pd.to_datetime(idf.date)\n",
    "# A reader is still needed but only the rating_scale param is requiered.\n",
    "reader = Reader(rating_scale=(1, 5))\n",
    "# The columns must correspond to user id, item id and ratings (in that order).\n",
    "sidf = Dataset.load_from_df(idf[['user_id', 'recipe_id', 'rating']], reader)"
   ]
  },
  {
   "cell_type": "code",
   "execution_count": 10,
   "metadata": {},
   "outputs": [],
   "source": [
    "rdf = pd.read_csv('../data/RAW_recipes.csv')\n",
    "idf = pd.read_csv('../data/RAW_interactions.csv')\n",
    "\n",
    "# pp_rdf = pd.read_csv('../data/PP_recipes.csv')\n",
    "# pp_idf = pd.read_csv('../data/PP_users.csv')\n",
    "\n",
    "# ingID = pd.read_pickle('../data/ingr_map.pkl')\n",
    "\n",
    "# tdf = pd.read_csv('../data/interactions_train.csv')\n",
    "# vdf = pd.read_csv('../data/interactions_validation.csv')\n",
    "\n",
    "# \"\"\"Cleaning: All steps carried over from EDA Notebook\"\"\"\n",
    "rdf.drop(labels=721, inplace = True)\n",
    "\n",
    "# Cleaning/FE: Creating columns for recipe's respective nutrients\n",
    "rdf['kcal'] = rdf.nutrition.apply(lambda x: x[1:-1].split(sep=', ')[0])\n",
    "rdf['fat'] = rdf.nutrition.apply(lambda x: x[1:-1].split(sep=', ')[1])\n",
    "rdf['sugar'] = rdf.nutrition.apply(lambda x: x[1:-1].split(sep=', ')[2])\n",
    "rdf['salt'] = rdf.nutrition.apply(lambda x: x[1:-1].split(sep=', ')[3])\n",
    "rdf['protein'] = rdf.nutrition.apply(lambda x: x[1:-1].split(sep=', ')[4])\n",
    "rdf['sat_fat'] = rdf.nutrition.apply(lambda x: x[1:-1].split(sep=', ')[5])\n",
    "rdf['carbs'] = rdf.nutrition.apply(lambda x: x[1:-1].split(sep=', ')[6])\n",
    "\n",
    "# Cleaning: Imputing outlier value to median\n",
    "rdf['minutes'] = np.where(rdf.minutes == 2147483647,\n",
    "                         rdf.minutes.median(),\n",
    "                         rdf.minutes)\n",
    "\n",
    "idf['date'] = pd.to_datetime(idf.date)"
   ]
  },
  {
   "cell_type": "markdown",
   "metadata": {},
   "source": [
    "# Model-based Collaborative Filtering with `scikit-Surprise`"
   ]
  },
  {
   "cell_type": "code",
   "execution_count": 3,
   "metadata": {
    "ExecuteTime": {
     "end_time": "2021-05-08T18:14:33.883080Z",
     "start_time": "2021-05-08T18:14:33.876838Z"
    }
   },
   "outputs": [
    {
     "data": {
      "text/plain": [
       "Index(['user_id', 'recipe_id', 'date', 'rating', 'review'], dtype='object')"
      ]
     },
     "execution_count": 3,
     "metadata": {},
     "output_type": "execute_result"
    }
   ],
   "source": [
    "idf.columns"
   ]
  },
  {
   "cell_type": "markdown",
   "metadata": {},
   "source": [
    "### Data Preparation"
   ]
  },
  {
   "cell_type": "code",
   "execution_count": 9,
   "metadata": {},
   "outputs": [],
   "source": [
    "# A reader is still needed but only the rating_scale param is requiered.\n",
    "reader = Reader(rating_scale=(1, 5))"
   ]
  },
  {
   "cell_type": "code",
   "execution_count": 10,
   "metadata": {},
   "outputs": [],
   "source": [
    "# The columns must correspond to user id, item id and ratings (in that order).\n",
    "sidf = Dataset.load_from_df(idf[['user_id', 'recipe_id', 'rating']], reader)"
   ]
  },
  {
   "cell_type": "code",
   "execution_count": 11,
   "metadata": {},
   "outputs": [
    {
     "data": {
      "text/plain": [
       "surprise.dataset.DatasetAutoFolds"
      ]
     },
     "execution_count": 11,
     "metadata": {},
     "output_type": "execute_result"
    }
   ],
   "source": [
    "type(sidf)"
   ]
  },
  {
   "cell_type": "markdown",
   "metadata": {},
   "source": [
    "### Prediction Algorithm Cross Validation Splits"
   ]
  },
  {
   "cell_type": "markdown",
   "metadata": {},
   "source": [
    "#### BaselineOnly Algorithm with ALS"
   ]
  },
  {
   "cell_type": "markdown",
   "metadata": {},
   "source": [
    "Our first model, with 5 cross validation folds and hyperparameter tuning otherwise set to default settings, performed with a predicted rating mean RMSE of **1.2127**. I would be interested in seeing how tweaking the method used by the baseline estimator to Stochastic Gradient Descent instead changes outcomes, as well as changing the number of cross validation folds."
   ]
  },
  {
   "cell_type": "markdown",
   "metadata": {},
   "source": [
    "Results:\n",
    "- mean across folds: **1.2127**  \n",
    "- std across folds: **0.0034**\n",
    "- mean fit time across folds: **5.84**\n",
    "- mean test time across folds: **1.93**"
   ]
  },
  {
   "cell_type": "code",
   "execution_count": 12,
   "metadata": {},
   "outputs": [
    {
     "name": "stdout",
     "output_type": "stream",
     "text": [
      "Estimating biases using als...\n",
      "Estimating biases using als...\n",
      "Estimating biases using als...\n",
      "Estimating biases using als...\n",
      "Estimating biases using als...\n",
      "Evaluating RMSE, MAE of algorithm BaselineOnly on 5 split(s).\n",
      "\n",
      "                  Fold 1  Fold 2  Fold 3  Fold 4  Fold 5  Mean    Std     \n",
      "RMSE (testset)    1.2074  1.2152  1.2161  1.2100  1.2150  1.2127  0.0034  \n",
      "MAE (testset)     0.7342  0.7374  0.7389  0.7372  0.7383  0.7372  0.0016  \n",
      "Fit time          5.24    5.96    6.01    5.92    6.05    5.84    0.30    \n",
      "Test time         1.92    1.93    1.94    2.44    1.41    1.93    0.33    \n"
     ]
    },
    {
     "data": {
      "text/plain": [
       "{'test_rmse': array([1.20743482, 1.21524522, 1.21607505, 1.21002917, 1.21495625]),\n",
       " 'test_mae': array([0.7341978 , 0.73737237, 0.7389167 , 0.73718265, 0.73831716]),\n",
       " 'fit_time': (5.243390083312988,\n",
       "  5.9565110206604,\n",
       "  6.009812355041504,\n",
       "  5.9188947677612305,\n",
       "  6.051447153091431),\n",
       " 'test_time': (1.9163506031036377,\n",
       "  1.9299907684326172,\n",
       "  1.9351892471313477,\n",
       "  2.441502809524536,\n",
       "  1.4138259887695312)}"
      ]
     },
     "execution_count": 12,
     "metadata": {},
     "output_type": "execute_result"
    }
   ],
   "source": [
    "cross_validate(BaselineOnly(bsl_options={'method':'als'}), sidf, cv=5, verbose=True)"
   ]
  },
  {
   "cell_type": "markdown",
   "metadata": {},
   "source": [
    "#### Baseline with Stochastic Gradient Descent"
   ]
  },
  {
   "cell_type": "markdown",
   "metadata": {},
   "source": [
    "This model performed with the most marginal difference when compared to the previous baseline ALS model. With a mean RMSE across the 5 folds of **1.2126**, it performed *slightly better* (by only **.0001!**). However, the marginal improvement doesn't take fit time in to consideration, with our ALS model performing 63.8% faster."
   ]
  },
  {
   "cell_type": "code",
   "execution_count": 12,
   "metadata": {},
   "outputs": [
    {
     "data": {
      "text/plain": [
       "0.6283524904214559"
      ]
     },
     "execution_count": 12,
     "metadata": {},
     "output_type": "execute_result"
    }
   ],
   "source": [
    "6.56/10.44"
   ]
  },
  {
   "cell_type": "code",
   "execution_count": 22,
   "metadata": {},
   "outputs": [
    {
     "name": "stdout",
     "output_type": "stream",
     "text": [
      "Estimating biases using sgd...\n",
      "Estimating biases using sgd...\n",
      "Estimating biases using sgd...\n",
      "Estimating biases using sgd...\n",
      "Estimating biases using sgd...\n",
      "Evaluating RMSE, MAE of algorithm BaselineOnly on 5 split(s).\n",
      "\n",
      "                  Fold 1  Fold 2  Fold 3  Fold 4  Fold 5  Mean    Std     \n",
      "RMSE (testset)    1.2110  1.2179  1.2107  1.2116  1.2115  1.2126  0.0027  \n",
      "MAE (testset)     0.7347  0.7374  0.7345  0.7344  0.7337  0.7349  0.0013  \n",
      "Fit time          9.78    10.36   10.90   10.66   10.51   10.44   0.38    \n",
      "Test time         2.51    1.47    1.51    1.49    2.04    1.80    0.41    \n"
     ]
    },
    {
     "data": {
      "text/plain": [
       "{'test_rmse': array([1.21103128, 1.21793577, 1.21072264, 1.21160403, 1.21147109]),\n",
       " 'test_mae': array([0.73465602, 0.73739129, 0.73451846, 0.7343926 , 0.73368812]),\n",
       " 'fit_time': (9.78078579902649,\n",
       "  10.355447053909302,\n",
       "  10.901717185974121,\n",
       "  10.656184911727905,\n",
       "  10.510430335998535),\n",
       " 'test_time': (2.512019157409668,\n",
       "  1.472841739654541,\n",
       "  1.5068244934082031,\n",
       "  1.4883172512054443,\n",
       "  2.0438711643218994)}"
      ]
     },
     "execution_count": 22,
     "metadata": {},
     "output_type": "execute_result"
    }
   ],
   "source": [
    "cross_validate(BaselineOnly(bsl_options={'method':'sgd'}), sidf, cv=5, verbose=True)"
   ]
  },
  {
   "cell_type": "markdown",
   "metadata": {},
   "source": [
    "#### ALS with 25 Cross Validation Folds"
   ]
  },
  {
   "cell_type": "markdown",
   "metadata": {},
   "source": [
    "As the dataset is so large, I was curious to see how increasing the number of testing folds impacted performance. While difficult to read the output, the model performed better, with a mean RMSE across all folds of **1.2099**. and a higher standard deviation of 0.0070."
   ]
  },
  {
   "cell_type": "code",
   "execution_count": 24,
   "metadata": {
    "ExecuteTime": {
     "end_time": "2021-05-08T20:35:31.916894Z",
     "start_time": "2021-05-08T20:30:26.168857Z"
    },
    "collapsed": true
   },
   "outputs": [
    {
     "name": "stdout",
     "output_type": "stream",
     "text": [
      "Estimating biases using als...\n",
      "Estimating biases using als...\n",
      "Estimating biases using als...\n",
      "Estimating biases using als...\n",
      "Estimating biases using als...\n",
      "Estimating biases using als...\n",
      "Estimating biases using als...\n",
      "Estimating biases using als...\n",
      "Estimating biases using als...\n",
      "Estimating biases using als...\n",
      "Estimating biases using als...\n",
      "Estimating biases using als...\n",
      "Estimating biases using als...\n",
      "Estimating biases using als...\n",
      "Estimating biases using als...\n",
      "Estimating biases using als...\n",
      "Estimating biases using als...\n",
      "Estimating biases using als...\n",
      "Estimating biases using als...\n",
      "Estimating biases using als...\n",
      "Estimating biases using als...\n",
      "Estimating biases using als...\n",
      "Estimating biases using als...\n",
      "Estimating biases using als...\n",
      "Estimating biases using als...\n"
     ]
    },
    {
     "data": {
      "text/plain": [
       "{'test_rmse': array([1.21121645, 1.21533642, 1.20510059, 1.19654886, 1.20262649,\n",
       "        1.19608838, 1.21444027, 1.22091298, 1.2036998 , 1.22010393,\n",
       "        1.20979793, 1.2182443 , 1.20386926, 1.1846379 , 1.19784282,\n",
       "        1.19744802, 1.20849942, 1.2213187 , 1.21482322, 1.22405952,\n",
       "        1.21095789, 1.22512724, 1.20504865, 1.22632917, 1.21335891]),\n",
       " 'test_mae': array([0.73420097, 0.7374428 , 0.73089555, 0.72893016, 0.73054617,\n",
       "        0.72756061, 0.73797551, 0.74184481, 0.73254516, 0.74045312,\n",
       "        0.73363478, 0.73811918, 0.73186938, 0.71924968, 0.72957397,\n",
       "        0.72771911, 0.73403776, 0.74130163, 0.73758994, 0.74146319,\n",
       "        0.73611061, 0.74367763, 0.73163778, 0.74340695, 0.73610619]),\n",
       " 'fit_time': (6.769203186035156,\n",
       "  7.256915330886841,\n",
       "  7.428053379058838,\n",
       "  7.269388914108276,\n",
       "  7.540513515472412,\n",
       "  7.337223052978516,\n",
       "  7.693350553512573,\n",
       "  7.514584302902222,\n",
       "  7.498729467391968,\n",
       "  7.537734508514404,\n",
       "  7.461846828460693,\n",
       "  7.50420355796814,\n",
       "  7.5506346225738525,\n",
       "  7.232697486877441,\n",
       "  7.383342981338501,\n",
       "  7.417150259017944,\n",
       "  7.444563388824463,\n",
       "  7.565317869186401,\n",
       "  7.514194488525391,\n",
       "  7.475509881973267,\n",
       "  7.423620700836182,\n",
       "  7.4573585987091064,\n",
       "  7.645596027374268,\n",
       "  7.738231182098389,\n",
       "  7.650006055831909),\n",
       " 'test_time': (0.26984548568725586,\n",
       "  0.27461910247802734,\n",
       "  1.3710715770721436,\n",
       "  0.28258585929870605,\n",
       "  1.329768419265747,\n",
       "  0.27551984786987305,\n",
       "  0.27829504013061523,\n",
       "  0.2783505916595459,\n",
       "  0.28017401695251465,\n",
       "  0.27248644828796387,\n",
       "  0.27340245246887207,\n",
       "  0.2729315757751465,\n",
       "  1.3110747337341309,\n",
       "  0.27021312713623047,\n",
       "  0.2731003761291504,\n",
       "  0.27070164680480957,\n",
       "  0.2763838768005371,\n",
       "  0.27506256103515625,\n",
       "  0.27799296379089355,\n",
       "  0.2725362777709961,\n",
       "  0.275928258895874,\n",
       "  0.270078182220459,\n",
       "  0.27587151527404785,\n",
       "  0.27582526206970215,\n",
       "  0.2833282947540283)}"
      ]
     },
     "execution_count": 24,
     "metadata": {},
     "output_type": "execute_result"
    }
   ],
   "source": [
    "cross_validate(BaselineOnly(bsl_options={'method':'als'}), sidf, cv=25, verbose=False)"
   ]
  },
  {
   "cell_type": "markdown",
   "metadata": {},
   "source": [
    "#### CoClustering"
   ]
  },
  {
   "cell_type": "markdown",
   "metadata": {},
   "source": [
    "While this algorithm produced performance metrics not very far off from our other models, it performed worse all around—mean across folds, variance across folds, and fit time for each fold."
   ]
  },
  {
   "cell_type": "code",
   "execution_count": null,
   "metadata": {},
   "outputs": [],
   "source": [
    "cross_validate(CoClustering(random_state=1984), sidf, cv=5, verbose=True)"
   ]
  },
  {
   "cell_type": "markdown",
   "metadata": {},
   "source": [
    "#### SVD"
   ]
  },
  {
   "cell_type": "markdown",
   "metadata": {},
   "source": [
    "This model performed with a mean RMSE of **1.2201** and a standard deviation of 0.0026 across all folds, but the fit time was *obscenely high* in comparison to the previous models. There are also many hyperparameters that may be tuned. Despite the much longer train time, let's see how hyper parameter tuning with **GridSearchCV** changes performance.  \n",
    "  \n",
    "Note that this model is performed with surprise's SVD algorithm's default hyperparameters:  \n",
    "- `n_factors`: **100**\n",
    "- `n_epochs`: **20**\n",
    "- `lr_all`: **0.005** – The learning rate for all parameters.\n",
    "- `reg_all`: **0.02** – The regularization term for all parameters."
   ]
  },
  {
   "cell_type": "code",
   "execution_count": 42,
   "metadata": {},
   "outputs": [
    {
     "name": "stdout",
     "output_type": "stream",
     "text": [
      "Evaluating RMSE, MAE of algorithm SVD on 5 split(s).\n",
      "\n",
      "                  Fold 1  Fold 2  Fold 3  Fold 4  Fold 5  Mean    Std     \n",
      "RMSE (testset)    1.2253  1.2232  1.2208  1.2100  1.2214  1.2201  0.0053  \n",
      "MAE (testset)     0.7413  0.7409  0.7393  0.7344  0.7399  0.7391  0.0025  \n",
      "Fit time          55.76   55.60   55.61   55.55   55.14   55.53   0.21    \n",
      "Test time         2.25    2.23    2.36    2.22    2.16    2.25    0.06    \n"
     ]
    },
    {
     "data": {
      "text/plain": [
       "{'test_rmse': array([1.22526615, 1.22324572, 1.22075873, 1.20997109, 1.22137993]),\n",
       " 'test_mae': array([0.74128305, 0.74086325, 0.7393137 , 0.73437507, 0.73991007]),\n",
       " 'fit_time': (55.75669455528259,\n",
       "  55.60287833213806,\n",
       "  55.61086654663086,\n",
       "  55.54658079147339,\n",
       "  55.135498046875),\n",
       " 'test_time': (2.2547242641448975,\n",
       "  2.233457088470459,\n",
       "  2.358004093170166,\n",
       "  2.2175631523132324,\n",
       "  2.1614022254943848)}"
      ]
     },
     "execution_count": 42,
     "metadata": {},
     "output_type": "execute_result"
    }
   ],
   "source": [
    "cross_validate(SVD(random_state=1984), sidf, cv=5, verbose=True, n_jobs=-1)"
   ]
  },
  {
   "cell_type": "markdown",
   "metadata": {},
   "source": [
    "## Hyperparameter Tuning"
   ]
  },
  {
   "cell_type": "markdown",
   "metadata": {},
   "source": [
    "After many attempts with surprises' GridSearchCV, attempts have been unsuccessful in getting it to function appropriately for evaluating hyperparameter tuning of the few options available in the BaselineOnly algorithm. I will tune these manually, one hyperparameter at a time, holding all else equal."
   ]
  },
  {
   "cell_type": "markdown",
   "metadata": {},
   "source": [
    "### Baseline ALS"
   ]
  },
  {
   "cell_type": "markdown",
   "metadata": {},
   "source": [
    "**Default Hyperparameters for Baseline ALS:**  \n",
    ">     bsl_options = {\n",
    "                'method': 'als', # setting method to Alternating Least Squares\n",
    "                'n_epochs': 10, # number of iterations of the ALS procedure.\n",
    "                'reg_u': 15, # user regularization. Corresponding to 𝜆3 in Koren:2010\n",
    "                'reg_i': 10 # item similarity regularization. Corresponding to 𝜆2 in Koren:2010\n",
    "}"
   ]
  },
  {
   "cell_type": "code",
   "execution_count": 3,
   "metadata": {
    "ExecuteTime": {
     "end_time": "2021-05-08T18:20:18.810933Z",
     "start_time": "2021-05-08T18:20:18.807206Z"
    }
   },
   "outputs": [],
   "source": [
    "bsl_options = {'method':'als',\n",
    "               'n_epochs':[5, 10, 15, 20],  \n",
    "               'reg_u':[10, 15, 20], \n",
    "               'reg_i':[5, 10, 15]}"
   ]
  },
  {
   "cell_type": "markdown",
   "metadata": {},
   "source": [
    "#### Tuning Epochs, All Else Same"
   ]
  },
  {
   "cell_type": "markdown",
   "metadata": {},
   "source": [
    "Both ALS models tuned with 5 epochs and 15 epochs performed exactly as well as each other on RMSE, and .0001 *worse* than the model with 10 epochs.  \n",
    "  \n",
    "It appears that tuning the epochs (though tuning is modest) is having little to no effect on the performance of the model on the evaluation metric. Despite this, I will opt to use 5 epochs, as fit time is significantly better."
   ]
  },
  {
   "cell_type": "markdown",
   "metadata": {},
   "source": [
    "**epochs = 10, reg_u = 15, reg_i = 10 (Defaults):**\n",
    "- Mean RMSE across folds: **1.2099**  \n",
    "- Std across folds: **0.0040**\n",
    "- Mean fit time across folds: **9.24**\n",
    "- Mean test time across folds: **0.37**"
   ]
  },
  {
   "cell_type": "markdown",
   "metadata": {},
   "source": [
    "**5 epochs:**\n",
    "- Mean RMSE: **1.2100**\n",
    "- Std: **0.0079**\n",
    "- Mean Fit Time: **4.71**\n",
    "- Mean Test Time: **0.39**"
   ]
  },
  {
   "cell_type": "markdown",
   "metadata": {},
   "source": [
    "**15 epochs:**\n",
    "- Mean RMSE: **1.2100**\n",
    "- Std: **0.0090**\n",
    "- Mean Fit Time: **11.05**\n",
    "- Mean Test Time: **0.39**"
   ]
  },
  {
   "cell_type": "code",
   "execution_count": 8,
   "metadata": {
    "ExecuteTime": {
     "end_time": "2021-05-08T18:27:16.021312Z",
     "start_time": "2021-05-08T18:23:14.221867Z"
    },
    "collapsed": true
   },
   "outputs": [
    {
     "name": "stdout",
     "output_type": "stream",
     "text": [
      "Estimating biases using als...\n",
      "Estimating biases using als...\n",
      "Estimating biases using als...\n",
      "Estimating biases using als...\n",
      "Estimating biases using als...\n",
      "Estimating biases using als...\n",
      "Estimating biases using als...\n",
      "Estimating biases using als...\n",
      "Estimating biases using als...\n",
      "Estimating biases using als...\n",
      "Estimating biases using als...\n",
      "Estimating biases using als...\n",
      "Estimating biases using als...\n",
      "Estimating biases using als...\n",
      "Estimating biases using als...\n",
      "Estimating biases using als...\n",
      "Estimating biases using als...\n",
      "Estimating biases using als...\n",
      "Estimating biases using als...\n",
      "Estimating biases using als...\n",
      "Estimating biases using als...\n",
      "Estimating biases using als...\n",
      "Estimating biases using als...\n",
      "Estimating biases using als...\n",
      "Estimating biases using als...\n",
      "Evaluating RMSE, MAE of algorithm BaselineOnly on 25 split(s).\n",
      "\n",
      "                  Fold 1  Fold 2  Fold 3  Fold 4  Fold 5  Fold 6  Fold 7  Fold 8  Fold 9  Fold 10 Fold 11 Fold 12 Fold 13 Fold 14 Fold 15 Fold 16 Fold 17 Fold 18 Fold 19 Fold 20 Fold 21 Fold 22 Fold 23 Fold 24 Fold 25 Mean    Std     \n",
      "RMSE (testset)    1.2157  1.2053  1.2144  1.2104  1.2106  1.2030  1.2206  1.2056  1.2127  1.1968  1.2017  1.2109  1.2286  1.1998  1.2027  1.2082  1.2082  1.2073  1.2206  1.2113  1.2050  1.2073  1.2076  1.2292  1.2054  1.2100  0.0079  \n",
      "MAE (testset)     0.7368  0.7308  0.7351  0.7313  0.7355  0.7313  0.7397  0.7338  0.7345  0.7282  0.7304  0.7351  0.7446  0.7316  0.7301  0.7330  0.7326  0.7345  0.7410  0.7368  0.7310  0.7341  0.7350  0.7460  0.7323  0.7346  0.0043  \n",
      "Fit time          3.72    4.61    4.57    4.59    4.58    4.67    4.75    4.81    4.75    4.70    4.60    4.63    4.66    4.77    4.80    4.67    4.86    4.74    4.75    4.76    5.81    4.71    4.79    4.73    4.61    4.71    0.31    \n",
      "Test time         0.28    0.29    0.28    0.29    0.28    0.29    0.29    0.29    0.30    0.90    0.29    0.29    0.28    0.29    0.90    0.28    0.29    0.28    0.90    0.30    0.30    0.29    0.91    0.28    0.28    0.39    0.23    \n"
     ]
    },
    {
     "data": {
      "text/plain": [
       "{'test_rmse': array([1.2156831 , 1.20531208, 1.21442359, 1.21042687, 1.21060443,\n",
       "        1.20296688, 1.22064749, 1.20564088, 1.21272104, 1.19679772,\n",
       "        1.20170394, 1.21091501, 1.22864905, 1.19975855, 1.20265508,\n",
       "        1.20824238, 1.20823335, 1.20732816, 1.22056131, 1.21127556,\n",
       "        1.20497221, 1.20730944, 1.20761959, 1.2292085 , 1.20542145]),\n",
       " 'test_mae': array([0.73681407, 0.73080775, 0.73510277, 0.73130956, 0.73554578,\n",
       "        0.73125715, 0.73973386, 0.73382419, 0.73450594, 0.72822356,\n",
       "        0.73044812, 0.73514672, 0.74464898, 0.73164037, 0.73005156,\n",
       "        0.7329784 , 0.73264626, 0.73446754, 0.74102113, 0.73682453,\n",
       "        0.73095641, 0.73413787, 0.73498359, 0.74602854, 0.73228744]),\n",
       " 'fit_time': (3.71569561958313,\n",
       "  4.6102776527404785,\n",
       "  4.569671154022217,\n",
       "  4.591548681259155,\n",
       "  4.5800697803497314,\n",
       "  4.667249441146851,\n",
       "  4.749887466430664,\n",
       "  4.808042287826538,\n",
       "  4.748213052749634,\n",
       "  4.70083212852478,\n",
       "  4.602090835571289,\n",
       "  4.6301469802856445,\n",
       "  4.658377170562744,\n",
       "  4.765359878540039,\n",
       "  4.798920392990112,\n",
       "  4.671612501144409,\n",
       "  4.864652156829834,\n",
       "  4.743303537368774,\n",
       "  4.754665851593018,\n",
       "  4.761217832565308,\n",
       "  5.814310550689697,\n",
       "  4.714632034301758,\n",
       "  4.787870645523071,\n",
       "  4.73103666305542,\n",
       "  4.610520124435425),\n",
       " 'test_time': (0.27695155143737793,\n",
       "  0.2851696014404297,\n",
       "  0.27959656715393066,\n",
       "  0.2920238971710205,\n",
       "  0.2849297523498535,\n",
       "  0.29106664657592773,\n",
       "  0.28754615783691406,\n",
       "  0.2946751117706299,\n",
       "  0.3001518249511719,\n",
       "  0.9041121006011963,\n",
       "  0.2919960021972656,\n",
       "  0.28667497634887695,\n",
       "  0.284409761428833,\n",
       "  0.2901580333709717,\n",
       "  0.8989458084106445,\n",
       "  0.28460049629211426,\n",
       "  0.29097580909729004,\n",
       "  0.2834501266479492,\n",
       "  0.9040987491607666,\n",
       "  0.30023789405822754,\n",
       "  0.29846692085266113,\n",
       "  0.28903651237487793,\n",
       "  0.9100339412689209,\n",
       "  0.2845137119293213,\n",
       "  0.28333425521850586)}"
      ]
     },
     "execution_count": 8,
     "metadata": {},
     "output_type": "execute_result"
    }
   ],
   "source": [
    "cross_validate(BaselineOnly(bsl_options = {'method':'als',\n",
    "                                           'n_epochs': 5,\n",
    "                                           'reg_u': 15,\n",
    "                                           'reg_i': 10}), sidf, cv=25, verbose=True)"
   ]
  },
  {
   "cell_type": "code",
   "execution_count": 9,
   "metadata": {
    "ExecuteTime": {
     "end_time": "2021-05-08T18:36:30.810828Z",
     "start_time": "2021-05-08T18:29:48.893422Z"
    },
    "collapsed": true
   },
   "outputs": [
    {
     "name": "stdout",
     "output_type": "stream",
     "text": [
      "Estimating biases using als...\n",
      "Estimating biases using als...\n",
      "Estimating biases using als...\n",
      "Estimating biases using als...\n",
      "Estimating biases using als...\n",
      "Estimating biases using als...\n",
      "Estimating biases using als...\n",
      "Estimating biases using als...\n",
      "Estimating biases using als...\n",
      "Estimating biases using als...\n",
      "Estimating biases using als...\n",
      "Estimating biases using als...\n",
      "Estimating biases using als...\n",
      "Estimating biases using als...\n",
      "Estimating biases using als...\n",
      "Estimating biases using als...\n",
      "Estimating biases using als...\n",
      "Estimating biases using als...\n",
      "Estimating biases using als...\n",
      "Estimating biases using als...\n",
      "Estimating biases using als...\n",
      "Estimating biases using als...\n",
      "Estimating biases using als...\n",
      "Estimating biases using als...\n",
      "Estimating biases using als...\n",
      "Evaluating RMSE, MAE of algorithm BaselineOnly on 25 split(s).\n",
      "\n",
      "                  Fold 1  Fold 2  Fold 3  Fold 4  Fold 5  Fold 6  Fold 7  Fold 8  Fold 9  Fold 10 Fold 11 Fold 12 Fold 13 Fold 14 Fold 15 Fold 16 Fold 17 Fold 18 Fold 19 Fold 20 Fold 21 Fold 22 Fold 23 Fold 24 Fold 25 Mean    Std     \n",
      "RMSE (testset)    1.2112  1.2141  1.2076  1.2133  1.1994  1.2184  1.1984  1.1974  1.2040  1.2198  1.2088  1.1934  1.2049  1.2109  1.2025  1.1988  1.2054  1.2049  1.2116  1.2231  1.2207  1.2237  1.2096  1.2256  1.2212  1.2100  0.0090  \n",
      "MAE (testset)     0.7353  0.7377  0.7341  0.7379  0.7309  0.7384  0.7277  0.7284  0.7319  0.7369  0.7351  0.7270  0.7326  0.7331  0.7307  0.7279  0.7338  0.7309  0.7356  0.7405  0.7420  0.7418  0.7338  0.7435  0.7410  0.7347  0.0047  \n",
      "Fit time          10.46   10.97   10.77   11.44   11.50   11.45   10.47   11.06   11.90   11.34   10.71   11.21   10.78   11.27   11.01   11.10   10.82   11.25   10.99   11.10   10.63   11.22   11.14   10.79   11.00   11.05   0.33    \n",
      "Test time         0.28    0.89    0.29    0.30    0.30    0.91    0.29    0.28    0.29    0.29    0.29    0.29    0.29    0.29    0.29    0.28    0.29    0.29    0.28    0.90    0.29    0.30    0.89    0.29    0.28    0.39    0.22    \n"
     ]
    },
    {
     "data": {
      "text/plain": [
       "{'test_rmse': array([1.21123854, 1.21410024, 1.20764912, 1.2132602 , 1.19942733,\n",
       "        1.21843453, 1.1984201 , 1.19744475, 1.20403879, 1.21975023,\n",
       "        1.20884325, 1.19338084, 1.20493593, 1.21088942, 1.20246804,\n",
       "        1.1988338 , 1.20540815, 1.20486006, 1.21158384, 1.22306126,\n",
       "        1.22065923, 1.22368543, 1.20961307, 1.22559585, 1.22124651]),\n",
       " 'test_mae': array([0.73532118, 0.73769301, 0.73409756, 0.73794902, 0.73087512,\n",
       "        0.73837743, 0.72774927, 0.72835429, 0.73192807, 0.73687361,\n",
       "        0.7350756 , 0.72703858, 0.73255866, 0.73308677, 0.73074432,\n",
       "        0.72789013, 0.73376061, 0.73090334, 0.73560363, 0.74047395,\n",
       "        0.74203062, 0.74182881, 0.73379024, 0.74350172, 0.74098366]),\n",
       " 'fit_time': (10.45699429512024,\n",
       "  10.967830896377563,\n",
       "  10.76924467086792,\n",
       "  11.436404466629028,\n",
       "  11.500694274902344,\n",
       "  11.449135303497314,\n",
       "  10.468889713287354,\n",
       "  11.055140018463135,\n",
       "  11.904171466827393,\n",
       "  11.338705062866211,\n",
       "  10.709330558776855,\n",
       "  11.2050199508667,\n",
       "  10.78197956085205,\n",
       "  11.273065567016602,\n",
       "  11.014718532562256,\n",
       "  11.096307039260864,\n",
       "  10.816614627838135,\n",
       "  11.24955153465271,\n",
       "  10.992303133010864,\n",
       "  11.103912830352783,\n",
       "  10.629185914993286,\n",
       "  11.217503309249878,\n",
       "  11.136496782302856,\n",
       "  10.792091846466064,\n",
       "  11.002454280853271),\n",
       " 'test_time': (0.28030920028686523,\n",
       "  0.8907148838043213,\n",
       "  0.2873232364654541,\n",
       "  0.3014998435974121,\n",
       "  0.2965888977050781,\n",
       "  0.9137618541717529,\n",
       "  0.28662800788879395,\n",
       "  0.2825632095336914,\n",
       "  0.2892439365386963,\n",
       "  0.29474949836730957,\n",
       "  0.28732848167419434,\n",
       "  0.2887144088745117,\n",
       "  0.2857081890106201,\n",
       "  0.2863788604736328,\n",
       "  0.2854743003845215,\n",
       "  0.2848069667816162,\n",
       "  0.29161596298217773,\n",
       "  0.2941451072692871,\n",
       "  0.28191280364990234,\n",
       "  0.9002506732940674,\n",
       "  0.2927727699279785,\n",
       "  0.3003561496734619,\n",
       "  0.8870089054107666,\n",
       "  0.2910444736480713,\n",
       "  0.28435635566711426)}"
      ]
     },
     "execution_count": 9,
     "metadata": {},
     "output_type": "execute_result"
    }
   ],
   "source": [
    "cross_validate(BaselineOnly(bsl_options = {'method':'als',\n",
    "                                           'n_epochs': 15,\n",
    "                                           'reg_u': 15,\n",
    "                                           'reg_i': 10}), sidf, cv=25, verbose=True)"
   ]
  },
  {
   "cell_type": "markdown",
   "metadata": {},
   "source": [
    "#### Tuning User Regularization, All Else Same"
   ]
  },
  {
   "cell_type": "markdown",
   "metadata": {},
   "source": [
    "Lowering user regularization marginally improved RMSE, while raising u_reg performed worse.  \n",
    "  \n",
    "Note: Fit time for default was run on a machine without a GPU, and is the cause of the near halving of fit time."
   ]
  },
  {
   "cell_type": "markdown",
   "metadata": {},
   "source": [
    "**reg_u = 15 (Default)**, epochs = 5, reg_i = 10:\n",
    "- Mean RMSE: **1.2100**\n",
    "- Std: **0.0079**\n",
    "- Mean Fit Time: **4.71**\n",
    "- Mean Test Time: **0.39**"
   ]
  },
  {
   "cell_type": "markdown",
   "metadata": {},
   "source": [
    "**reg_u = 10:**\n",
    "- Mean RMSE: **1.2082**\n",
    "- Std: **0.0069**\n",
    "- Mean Fit Time: **4.72**\n",
    "- Mean Test Time: **0.41**"
   ]
  },
  {
   "cell_type": "markdown",
   "metadata": {},
   "source": [
    "**reg_u = 20:**\n",
    "- Mean RMSE: **1.2115**\n",
    "- Std: **0.0061**\n",
    "- Mean Fit Time: **4.71**\n",
    "- Mean Test Time: **0.31**"
   ]
  },
  {
   "cell_type": "code",
   "execution_count": 10,
   "metadata": {
    "ExecuteTime": {
     "end_time": "2021-05-08T18:42:24.059728Z",
     "start_time": "2021-05-08T18:38:21.567748Z"
    },
    "collapsed": true
   },
   "outputs": [
    {
     "name": "stdout",
     "output_type": "stream",
     "text": [
      "Estimating biases using als...\n",
      "Estimating biases using als...\n",
      "Estimating biases using als...\n",
      "Estimating biases using als...\n",
      "Estimating biases using als...\n",
      "Estimating biases using als...\n",
      "Estimating biases using als...\n",
      "Estimating biases using als...\n",
      "Estimating biases using als...\n",
      "Estimating biases using als...\n",
      "Estimating biases using als...\n",
      "Estimating biases using als...\n",
      "Estimating biases using als...\n",
      "Estimating biases using als...\n",
      "Estimating biases using als...\n",
      "Estimating biases using als...\n",
      "Estimating biases using als...\n",
      "Estimating biases using als...\n",
      "Estimating biases using als...\n",
      "Estimating biases using als...\n",
      "Estimating biases using als...\n",
      "Estimating biases using als...\n",
      "Estimating biases using als...\n",
      "Estimating biases using als...\n",
      "Estimating biases using als...\n",
      "Evaluating RMSE, MAE of algorithm BaselineOnly on 25 split(s).\n",
      "\n",
      "                  Fold 1  Fold 2  Fold 3  Fold 4  Fold 5  Fold 6  Fold 7  Fold 8  Fold 9  Fold 10 Fold 11 Fold 12 Fold 13 Fold 14 Fold 15 Fold 16 Fold 17 Fold 18 Fold 19 Fold 20 Fold 21 Fold 22 Fold 23 Fold 24 Fold 25 Mean    Std     \n",
      "RMSE (testset)    1.2071  1.2012  1.2106  1.2158  1.2068  1.2032  1.2315  1.2006  1.2043  1.2046  1.2166  1.2079  1.2031  1.2029  1.2115  1.2075  1.2088  1.2144  1.2159  1.2069  1.1987  1.2089  1.2090  1.1985  1.2077  1.2082  0.0069  \n",
      "MAE (testset)     0.7306  0.7269  0.7307  0.7322  0.7302  0.7282  0.7447  0.7252  0.7269  0.7296  0.7326  0.7303  0.7286  0.7267  0.7318  0.7312  0.7316  0.7334  0.7339  0.7309  0.7252  0.7298  0.7308  0.7260  0.7315  0.7304  0.0038  \n",
      "Fit time          3.89    4.48    4.68    4.70    4.71    4.77    6.19    4.67    4.72    4.67    4.66    4.57    4.65    4.64    4.77    4.61    4.91    4.71    4.55    4.68    4.63    4.72    4.83    4.82    4.79    4.72    0.35    \n",
      "Test time         0.88    0.29    0.29    0.30    0.28    0.29    0.29    0.29    0.91    0.30    0.29    0.28    0.28    0.29    0.91    0.29    0.29    0.92    0.29    0.29    0.28    0.90    0.30    0.30    0.29    0.41    0.25    \n"
     ]
    },
    {
     "data": {
      "text/plain": [
       "{'test_rmse': array([1.20714884, 1.20121438, 1.21058119, 1.21583974, 1.20684211,\n",
       "        1.20323102, 1.23149948, 1.20058317, 1.20426017, 1.20460216,\n",
       "        1.2166258 , 1.20788559, 1.20310975, 1.20290037, 1.21148016,\n",
       "        1.20749178, 1.20880296, 1.21442186, 1.2159409 , 1.20694339,\n",
       "        1.19870733, 1.20885092, 1.20897566, 1.19853503, 1.20769587]),\n",
       " 'test_mae': array([0.73061982, 0.72694581, 0.73067118, 0.73219393, 0.73016403,\n",
       "        0.72820726, 0.74472718, 0.72515984, 0.72688582, 0.72956497,\n",
       "        0.73263705, 0.7302993 , 0.72855374, 0.72673863, 0.73183739,\n",
       "        0.73115183, 0.73163261, 0.73339941, 0.73394131, 0.73087587,\n",
       "        0.72515561, 0.72984768, 0.73083145, 0.72600945, 0.731461  ]),\n",
       " 'fit_time': (3.8925015926361084,\n",
       "  4.476735830307007,\n",
       "  4.6840126514434814,\n",
       "  4.698370695114136,\n",
       "  4.714624404907227,\n",
       "  4.771652460098267,\n",
       "  6.188734292984009,\n",
       "  4.67169451713562,\n",
       "  4.717334270477295,\n",
       "  4.6708824634552,\n",
       "  4.662247657775879,\n",
       "  4.565034627914429,\n",
       "  4.649930000305176,\n",
       "  4.6391379833221436,\n",
       "  4.766997575759888,\n",
       "  4.6100568771362305,\n",
       "  4.906578540802002,\n",
       "  4.706876516342163,\n",
       "  4.549879312515259,\n",
       "  4.6785149574279785,\n",
       "  4.630903244018555,\n",
       "  4.718125820159912,\n",
       "  4.825658321380615,\n",
       "  4.8180506229400635,\n",
       "  4.786951065063477),\n",
       " 'test_time': (0.8811850547790527,\n",
       "  0.28633642196655273,\n",
       "  0.29169654846191406,\n",
       "  0.298020601272583,\n",
       "  0.28429484367370605,\n",
       "  0.2937631607055664,\n",
       "  0.2928194999694824,\n",
       "  0.29369187355041504,\n",
       "  0.9137189388275146,\n",
       "  0.29718613624572754,\n",
       "  0.2910420894622803,\n",
       "  0.28441548347473145,\n",
       "  0.28452348709106445,\n",
       "  0.2906332015991211,\n",
       "  0.906707763671875,\n",
       "  0.29340386390686035,\n",
       "  0.29218339920043945,\n",
       "  0.9189283847808838,\n",
       "  0.28867554664611816,\n",
       "  0.2872304916381836,\n",
       "  0.2811007499694824,\n",
       "  0.9031534194946289,\n",
       "  0.29624509811401367,\n",
       "  0.29500913619995117,\n",
       "  0.28897953033447266)}"
      ]
     },
     "execution_count": 10,
     "metadata": {},
     "output_type": "execute_result"
    }
   ],
   "source": [
    "cross_validate(BaselineOnly(bsl_options = {'method':'als',\n",
    "                                           'n_epochs': 5,\n",
    "                                           'reg_u': 10,\n",
    "                                           'reg_i': 10}), sidf, cv=25, verbose=True)"
   ]
  },
  {
   "cell_type": "code",
   "execution_count": 11,
   "metadata": {
    "ExecuteTime": {
     "end_time": "2021-05-08T18:46:53.868165Z",
     "start_time": "2021-05-08T18:42:50.380331Z"
    },
    "collapsed": true
   },
   "outputs": [
    {
     "name": "stdout",
     "output_type": "stream",
     "text": [
      "Estimating biases using als...\n",
      "Estimating biases using als...\n",
      "Estimating biases using als...\n",
      "Estimating biases using als...\n",
      "Estimating biases using als...\n",
      "Estimating biases using als...\n",
      "Estimating biases using als...\n",
      "Estimating biases using als...\n",
      "Estimating biases using als...\n",
      "Estimating biases using als...\n",
      "Estimating biases using als...\n",
      "Estimating biases using als...\n",
      "Estimating biases using als...\n",
      "Estimating biases using als...\n",
      "Estimating biases using als...\n",
      "Estimating biases using als...\n",
      "Estimating biases using als...\n",
      "Estimating biases using als...\n",
      "Estimating biases using als...\n",
      "Estimating biases using als...\n",
      "Estimating biases using als...\n",
      "Estimating biases using als...\n",
      "Estimating biases using als...\n",
      "Estimating biases using als...\n",
      "Estimating biases using als...\n",
      "Evaluating RMSE, MAE of algorithm BaselineOnly on 25 split(s).\n",
      "\n",
      "                  Fold 1  Fold 2  Fold 3  Fold 4  Fold 5  Fold 6  Fold 7  Fold 8  Fold 9  Fold 10 Fold 11 Fold 12 Fold 13 Fold 14 Fold 15 Fold 16 Fold 17 Fold 18 Fold 19 Fold 20 Fold 21 Fold 22 Fold 23 Fold 24 Fold 25 Mean    Std     \n",
      "RMSE (testset)    1.2083  1.2108  1.2230  1.2129  1.2113  1.2032  1.2058  1.2179  1.2093  1.2071  1.2165  1.2105  1.2036  1.2177  1.2088  1.2156  1.2134  1.2087  1.2000  1.2238  1.2161  1.2080  1.2212  1.2076  1.2055  1.2115  0.0061  \n",
      "MAE (testset)     0.7366  0.7375  0.7433  0.7391  0.7374  0.7300  0.7333  0.7397  0.7366  0.7343  0.7412  0.7363  0.7352  0.7415  0.7381  0.7410  0.7374  0.7380  0.7323  0.7456  0.7415  0.7354  0.7448  0.7348  0.7340  0.7378  0.0038  \n",
      "Fit time          3.91    4.60    4.86    4.64    4.69    4.79    4.60    4.70    4.74    4.80    4.72    4.70    4.79    4.78    4.81    4.79    4.83    4.76    4.72    4.84    4.62    4.70    4.82    4.84    4.74    4.71    0.18    \n",
      "Test time         0.90    0.30    0.29    0.29    0.29    0.29    0.27    0.29    0.29    0.29    0.29    0.29    0.29    0.29    0.29    0.30    0.29    0.29    0.29    0.29    0.28    0.30    0.29    0.29    0.29    0.31    0.12    \n"
     ]
    },
    {
     "data": {
      "text/plain": [
       "{'test_rmse': array([1.20827877, 1.21075024, 1.22295025, 1.21289304, 1.21133508,\n",
       "        1.20321136, 1.20582665, 1.21788514, 1.20931708, 1.20710198,\n",
       "        1.21647564, 1.21053922, 1.20364794, 1.21765005, 1.20877544,\n",
       "        1.21562359, 1.21337561, 1.20873889, 1.19995432, 1.22377187,\n",
       "        1.21609477, 1.20803192, 1.22119856, 1.20755259, 1.20553626]),\n",
       " 'test_mae': array([0.73657844, 0.7375299 , 0.74332997, 0.73911289, 0.73740842,\n",
       "        0.72999135, 0.7333319 , 0.73968649, 0.73657516, 0.73431937,\n",
       "        0.74120999, 0.73626872, 0.73523042, 0.74147685, 0.73810945,\n",
       "        0.74100639, 0.73739694, 0.73800694, 0.73226175, 0.7456189 ,\n",
       "        0.74146456, 0.73541301, 0.74478187, 0.7348043 , 0.73396115]),\n",
       " 'fit_time': (3.9059348106384277,\n",
       "  4.595790147781372,\n",
       "  4.858780145645142,\n",
       "  4.641463279724121,\n",
       "  4.6920177936553955,\n",
       "  4.792471885681152,\n",
       "  4.599896669387817,\n",
       "  4.702898025512695,\n",
       "  4.744200706481934,\n",
       "  4.804708480834961,\n",
       "  4.720059633255005,\n",
       "  4.702065467834473,\n",
       "  4.7934465408325195,\n",
       "  4.782679557800293,\n",
       "  4.806743860244751,\n",
       "  4.79034948348999,\n",
       "  4.826229572296143,\n",
       "  4.764520883560181,\n",
       "  4.715097904205322,\n",
       "  4.838655710220337,\n",
       "  4.622928142547607,\n",
       "  4.7038304805755615,\n",
       "  4.819380044937134,\n",
       "  4.842894792556763,\n",
       "  4.740869045257568),\n",
       " 'test_time': (0.8961944580078125,\n",
       "  0.2955753803253174,\n",
       "  0.2908341884613037,\n",
       "  0.29296064376831055,\n",
       "  0.2882421016693115,\n",
       "  0.2898240089416504,\n",
       "  0.274594783782959,\n",
       "  0.29004931449890137,\n",
       "  0.29363131523132324,\n",
       "  0.29265832901000977,\n",
       "  0.29315876960754395,\n",
       "  0.2922673225402832,\n",
       "  0.2897465229034424,\n",
       "  0.2880384922027588,\n",
       "  0.29161906242370605,\n",
       "  0.2987251281738281,\n",
       "  0.2862412929534912,\n",
       "  0.2924010753631592,\n",
       "  0.2862548828125,\n",
       "  0.29186081886291504,\n",
       "  0.28401732444763184,\n",
       "  0.29523181915283203,\n",
       "  0.2886695861816406,\n",
       "  0.29293227195739746,\n",
       "  0.2936384677886963)}"
      ]
     },
     "execution_count": 11,
     "metadata": {},
     "output_type": "execute_result"
    }
   ],
   "source": [
    "cross_validate(BaselineOnly(bsl_options = {'method':'als',\n",
    "                                           'n_epochs': 5,\n",
    "                                           'reg_u': 20,\n",
    "                                           'reg_i': 10}), sidf, cv=25, verbose=True)"
   ]
  },
  {
   "cell_type": "markdown",
   "metadata": {},
   "source": [
    "#### Tuning Item Regularization, All Else Same"
   ]
  },
  {
   "cell_type": "markdown",
   "metadata": {},
   "source": [
    "Tuning item regularization did not produce a better performing model than default setting for reg_i."
   ]
  },
  {
   "cell_type": "markdown",
   "metadata": {},
   "source": [
    "**reg_i = 10 (Default), n_epochs = 5, reg_u = 10 — BEST MODEL:**\n",
    "- Mean RMSE: **1.2082**\n",
    "- Std: **0.0069**\n",
    "- Mean Fit Time: **4.72**\n",
    "- Mean Test Time: **0.41**"
   ]
  },
  {
   "cell_type": "markdown",
   "metadata": {},
   "source": [
    "**reg_i = 5:**\n",
    "- Mean RMSE: **1.2097**\n",
    "- Std: **0.0071**\n",
    "- Mean Fit Time: **4.69**\n",
    "- Mean Test Time: **0.39**"
   ]
  },
  {
   "cell_type": "markdown",
   "metadata": {},
   "source": [
    "**reg_i = 15:**\n",
    "- Mean RMSE: **1.2085**\n",
    "- Std: **0.0090**\n",
    "- Mean Fit Time: **4.65**\n",
    "- Mean Test Time: **0.44**"
   ]
  },
  {
   "cell_type": "code",
   "execution_count": 13,
   "metadata": {
    "ExecuteTime": {
     "end_time": "2021-05-08T18:56:31.031268Z",
     "start_time": "2021-05-08T18:52:26.843586Z"
    },
    "collapsed": true
   },
   "outputs": [
    {
     "name": "stdout",
     "output_type": "stream",
     "text": [
      "Estimating biases using als...\n",
      "Estimating biases using als...\n",
      "Estimating biases using als...\n",
      "Estimating biases using als...\n",
      "Estimating biases using als...\n",
      "Estimating biases using als...\n",
      "Estimating biases using als...\n",
      "Estimating biases using als...\n",
      "Estimating biases using als...\n",
      "Estimating biases using als...\n",
      "Estimating biases using als...\n",
      "Estimating biases using als...\n",
      "Estimating biases using als...\n",
      "Estimating biases using als...\n",
      "Estimating biases using als...\n",
      "Estimating biases using als...\n",
      "Estimating biases using als...\n",
      "Estimating biases using als...\n",
      "Estimating biases using als...\n",
      "Estimating biases using als...\n",
      "Estimating biases using als...\n",
      "Estimating biases using als...\n",
      "Estimating biases using als...\n",
      "Estimating biases using als...\n",
      "Estimating biases using als...\n",
      "Evaluating RMSE, MAE of algorithm BaselineOnly on 25 split(s).\n",
      "\n",
      "                  Fold 1  Fold 2  Fold 3  Fold 4  Fold 5  Fold 6  Fold 7  Fold 8  Fold 9  Fold 10 Fold 11 Fold 12 Fold 13 Fold 14 Fold 15 Fold 16 Fold 17 Fold 18 Fold 19 Fold 20 Fold 21 Fold 22 Fold 23 Fold 24 Fold 25 Mean    Std     \n",
      "RMSE (testset)    1.2001  1.2161  1.1941  1.2128  1.2130  1.2059  1.2123  1.2136  1.2033  1.2086  1.2068  1.2131  1.2055  1.2170  1.1973  1.2191  1.2127  1.2155  1.2122  1.2241  1.2024  1.2134  1.2146  1.2085  1.2004  1.2097  0.0071  \n",
      "MAE (testset)     0.7261  0.7351  0.7241  0.7342  0.7318  0.7312  0.7332  0.7364  0.7269  0.7332  0.7290  0.7318  0.7293  0.7362  0.7256  0.7354  0.7332  0.7339  0.7347  0.7398  0.7278  0.7338  0.7327  0.7319  0.7279  0.7318  0.0038  \n",
      "Fit time          3.87    4.70    4.77    4.76    4.74    5.00    4.84    4.62    4.73    4.83    4.58    4.65    4.70    4.58    4.55    4.63    4.75    4.81    4.60    4.89    4.69    4.78    4.79    4.72    4.56    4.69    0.20    \n",
      "Test time         0.28    0.29    0.90    0.29    0.29    0.31    0.29    0.29    0.29    0.92    0.28    0.29    0.89    0.29    0.28    0.30    0.30    0.90    0.29    0.30    0.29    0.30    0.29    0.29    0.28    0.39    0.22    \n"
     ]
    },
    {
     "data": {
      "text/plain": [
       "{'test_rmse': array([1.20011225, 1.21610688, 1.1941272 , 1.21277844, 1.21296482,\n",
       "        1.20585891, 1.21229227, 1.21364301, 1.20326473, 1.20861119,\n",
       "        1.20681514, 1.21308355, 1.20550493, 1.21699762, 1.19726467,\n",
       "        1.2191143 , 1.21269778, 1.21553359, 1.21223593, 1.22406491,\n",
       "        1.20241989, 1.21343879, 1.21457296, 1.20845686, 1.20039505]),\n",
       " 'test_mae': array([0.72611451, 0.73508491, 0.72407678, 0.73424717, 0.73177381,\n",
       "        0.73122741, 0.73323214, 0.73641432, 0.72688209, 0.73315378,\n",
       "        0.72895522, 0.73178252, 0.7292847 , 0.73616064, 0.72555242,\n",
       "        0.7354149 , 0.73321171, 0.73387431, 0.73471776, 0.73976546,\n",
       "        0.72779369, 0.73378704, 0.73272884, 0.73190836, 0.72794007]),\n",
       " 'fit_time': (3.8653292655944824,\n",
       "  4.699767112731934,\n",
       "  4.765350103378296,\n",
       "  4.76214075088501,\n",
       "  4.738460540771484,\n",
       "  5.003239870071411,\n",
       "  4.841422080993652,\n",
       "  4.622073173522949,\n",
       "  4.732499122619629,\n",
       "  4.828778982162476,\n",
       "  4.582040309906006,\n",
       "  4.652557849884033,\n",
       "  4.698713779449463,\n",
       "  4.5816733837127686,\n",
       "  4.551703929901123,\n",
       "  4.62703013420105,\n",
       "  4.748844146728516,\n",
       "  4.812437534332275,\n",
       "  4.603384733200073,\n",
       "  4.893001317977905,\n",
       "  4.69439172744751,\n",
       "  4.7827911376953125,\n",
       "  4.7940146923065186,\n",
       "  4.715400457382202,\n",
       "  4.557505130767822),\n",
       " 'test_time': (0.2768282890319824,\n",
       "  0.289412260055542,\n",
       "  0.8950083255767822,\n",
       "  0.2883429527282715,\n",
       "  0.2914433479309082,\n",
       "  0.30560898780822754,\n",
       "  0.2894113063812256,\n",
       "  0.2873725891113281,\n",
       "  0.287550687789917,\n",
       "  0.9225389957427979,\n",
       "  0.2826552391052246,\n",
       "  0.28850698471069336,\n",
       "  0.8870861530303955,\n",
       "  0.2864646911621094,\n",
       "  0.2836294174194336,\n",
       "  0.29657816886901855,\n",
       "  0.29712796211242676,\n",
       "  0.8953096866607666,\n",
       "  0.28855109214782715,\n",
       "  0.2992219924926758,\n",
       "  0.29103660583496094,\n",
       "  0.30010151863098145,\n",
       "  0.28631091117858887,\n",
       "  0.2888062000274658,\n",
       "  0.2801933288574219)}"
      ]
     },
     "execution_count": 13,
     "metadata": {},
     "output_type": "execute_result"
    }
   ],
   "source": [
    "cross_validate(BaselineOnly(bsl_options = {'method':'als',\n",
    "                                           'n_epochs': 5,\n",
    "                                           'reg_u': 10,\n",
    "                                           'reg_i': 5}), sidf, cv=25, verbose=True)"
   ]
  },
  {
   "cell_type": "code",
   "execution_count": 14,
   "metadata": {
    "ExecuteTime": {
     "end_time": "2021-05-08T19:01:19.942777Z",
     "start_time": "2021-05-08T18:57:19.837364Z"
    },
    "collapsed": true
   },
   "outputs": [
    {
     "name": "stdout",
     "output_type": "stream",
     "text": [
      "Estimating biases using als...\n",
      "Estimating biases using als...\n",
      "Estimating biases using als...\n",
      "Estimating biases using als...\n",
      "Estimating biases using als...\n",
      "Estimating biases using als...\n",
      "Estimating biases using als...\n",
      "Estimating biases using als...\n",
      "Estimating biases using als...\n",
      "Estimating biases using als...\n",
      "Estimating biases using als...\n",
      "Estimating biases using als...\n",
      "Estimating biases using als...\n",
      "Estimating biases using als...\n",
      "Estimating biases using als...\n",
      "Estimating biases using als...\n",
      "Estimating biases using als...\n",
      "Estimating biases using als...\n",
      "Estimating biases using als...\n",
      "Estimating biases using als...\n",
      "Estimating biases using als...\n",
      "Estimating biases using als...\n",
      "Estimating biases using als...\n",
      "Estimating biases using als...\n",
      "Estimating biases using als...\n",
      "Evaluating RMSE, MAE of algorithm BaselineOnly on 25 split(s).\n",
      "\n",
      "                  Fold 1  Fold 2  Fold 3  Fold 4  Fold 5  Fold 6  Fold 7  Fold 8  Fold 9  Fold 10 Fold 11 Fold 12 Fold 13 Fold 14 Fold 15 Fold 16 Fold 17 Fold 18 Fold 19 Fold 20 Fold 21 Fold 22 Fold 23 Fold 24 Fold 25 Mean    Std     \n",
      "RMSE (testset)    1.2270  1.2229  1.2109  1.1994  1.2087  1.2009  1.2203  1.2061  1.2093  1.2118  1.2038  1.2335  1.2100  1.2125  1.2014  1.1977  1.1994  1.2061  1.2037  1.1959  1.2054  1.2030  1.2040  1.2102  1.2091  1.2085  0.0090  \n",
      "MAE (testset)     0.7387  0.7391  0.7326  0.7248  0.7322  0.7251  0.7366  0.7304  0.7316  0.7313  0.7272  0.7450  0.7317  0.7300  0.7261  0.7248  0.7258  0.7301  0.7267  0.7230  0.7295  0.7285  0.7297  0.7312  0.7296  0.7304  0.0050  \n",
      "Fit time          3.79    4.43    4.77    4.74    4.69    4.56    4.66    4.62    4.52    4.77    4.89    4.54    4.64    4.72    4.64    4.63    4.75    4.87    4.81    4.58    4.69    4.57    4.72    4.74    4.85    4.65    0.21    \n",
      "Test time         0.27    0.29    0.94    0.30    0.29    0.28    0.28    0.88    0.30    0.29    0.92    0.30    0.29    0.29    0.90    0.29    0.30    0.30    0.93    0.29    0.28    0.29    0.93    0.29    0.29    0.44    0.27    \n"
     ]
    },
    {
     "data": {
      "text/plain": [
       "{'test_rmse': array([1.22697409, 1.22286124, 1.21090211, 1.19935455, 1.20868231,\n",
       "        1.20090302, 1.22033005, 1.20610609, 1.20925004, 1.21179948,\n",
       "        1.203818  , 1.23352745, 1.20997696, 1.21250823, 1.20138467,\n",
       "        1.19768687, 1.1993582 , 1.20614894, 1.20365172, 1.19588711,\n",
       "        1.20538913, 1.20296167, 1.20398047, 1.21021566, 1.20909681]),\n",
       " 'test_mae': array([0.73867667, 0.73910186, 0.73259891, 0.72475181, 0.73219916,\n",
       "        0.72513856, 0.73664811, 0.73038966, 0.73161902, 0.73132552,\n",
       "        0.72716801, 0.74496738, 0.73165702, 0.72997128, 0.72608674,\n",
       "        0.72483558, 0.72576896, 0.73012536, 0.72665199, 0.72302526,\n",
       "        0.72947319, 0.72851314, 0.72972181, 0.7311861 , 0.72955809]),\n",
       " 'fit_time': (3.7923097610473633,\n",
       "  4.43336296081543,\n",
       "  4.768854141235352,\n",
       "  4.736692190170288,\n",
       "  4.692785739898682,\n",
       "  4.555355072021484,\n",
       "  4.6628875732421875,\n",
       "  4.6176159381866455,\n",
       "  4.524052619934082,\n",
       "  4.766663074493408,\n",
       "  4.8947296142578125,\n",
       "  4.5377724170684814,\n",
       "  4.644901990890503,\n",
       "  4.724816799163818,\n",
       "  4.641173839569092,\n",
       "  4.62734055519104,\n",
       "  4.7462334632873535,\n",
       "  4.865162134170532,\n",
       "  4.805609464645386,\n",
       "  4.5750486850738525,\n",
       "  4.686482667922974,\n",
       "  4.565549612045288,\n",
       "  4.7217206954956055,\n",
       "  4.736848592758179,\n",
       "  4.847053050994873),\n",
       " 'test_time': (0.27382588386535645,\n",
       "  0.2905604839324951,\n",
       "  0.9393892288208008,\n",
       "  0.29660487174987793,\n",
       "  0.28794074058532715,\n",
       "  0.2829160690307617,\n",
       "  0.283480167388916,\n",
       "  0.8807637691497803,\n",
       "  0.29619741439819336,\n",
       "  0.2915935516357422,\n",
       "  0.9190154075622559,\n",
       "  0.3016510009765625,\n",
       "  0.2876923084259033,\n",
       "  0.2943294048309326,\n",
       "  0.9006431102752686,\n",
       "  0.29227304458618164,\n",
       "  0.29704713821411133,\n",
       "  0.29994678497314453,\n",
       "  0.9338409900665283,\n",
       "  0.2918205261230469,\n",
       "  0.28449225425720215,\n",
       "  0.2868800163269043,\n",
       "  0.9285891056060791,\n",
       "  0.2917759418487549,\n",
       "  0.29185056686401367)}"
      ]
     },
     "execution_count": 14,
     "metadata": {},
     "output_type": "execute_result"
    }
   ],
   "source": [
    "cross_validate(BaselineOnly(bsl_options = {'method':'als',\n",
    "                                           'n_epochs': 5,\n",
    "                                           'reg_u': 10,\n",
    "                                           'reg_i': 15}), sidf, cv=25, verbose=True)"
   ]
  },
  {
   "cell_type": "markdown",
   "metadata": {},
   "source": [
    "### Baseline SGD"
   ]
  },
  {
   "cell_type": "markdown",
   "metadata": {},
   "source": [
    "After training several models with tuning hyperparameters individually, keeping others the same per iterations, was unable to produce a better model than BaselineOnly SGD with default parameters."
   ]
  },
  {
   "cell_type": "markdown",
   "metadata": {},
   "source": [
    "**Default Hyperparameters for Baseline SGD:**  \n",
    ">     bsl_options = {\n",
    "                'method': 'sgd', # setting method to Stochastic Gradient Descent\n",
    "                'n_epochs': 20, # number of epochs\n",
    "                'reg': .02, # regularization parameter of the cost function that is optimized, \n",
    ">                             # corresponding to 𝜆1 in Koren:2010  \n",
    "                'learning_rate': .005 # learning rate of SGD. Corresponding to 𝛾 in Koren:2010\n",
    "}"
   ]
  },
  {
   "cell_type": "markdown",
   "metadata": {
    "heading_collapsed": true
   },
   "source": [
    "#### Tuning Epochs, All Else Same"
   ]
  },
  {
   "cell_type": "markdown",
   "metadata": {
    "hidden": true
   },
   "source": [
    "Tuning number of epochs resulted in no better performance than Baseline SGD with default hyperparameters."
   ]
  },
  {
   "cell_type": "markdown",
   "metadata": {
    "hidden": true
   },
   "source": [
    "**Results with Default bsl_options — sgd, 20 epochs:**\n",
    "- mean across folds: **1.2095**  \n",
    "- std across folds: **0.0066**\n",
    "- mean fit time across folds: **11.80**\n",
    "- mean test time across folds: **0.39**"
   ]
  },
  {
   "cell_type": "markdown",
   "metadata": {
    "hidden": true
   },
   "source": [
    "**15 epochs:**\n",
    "- Mean RMSE: **1.2102**\n",
    "- Std: **0.0076**\n",
    "- Mean Fit Time: **9.35**\n",
    "- Mean Test Time: **0.37**"
   ]
  },
  {
   "cell_type": "markdown",
   "metadata": {
    "hidden": true
   },
   "source": [
    "**25 epochs:**\n",
    "- Mean RMSE: **1.2096**\n",
    "- Std: **0.0070**\n",
    "- Mean Fit Time: **14.38**\n",
    "- Mean Test Time: **0.37**"
   ]
  },
  {
   "cell_type": "code",
   "execution_count": null,
   "metadata": {
    "hidden": true
   },
   "outputs": [],
   "source": [
    "bsl_options = {'method':'sgd',\n",
    "               'n_epochs':[10, 15, 20, 25, 30], \n",
    "               'reg':[.008, .015, .2, .25, .3], \n",
    "               'learning_rate':[.003, .005, .01, .015, .025]}"
   ]
  },
  {
   "cell_type": "code",
   "execution_count": null,
   "metadata": {
    "ExecuteTime": {
     "start_time": "2021-05-08T19:09:41.037Z"
    },
    "collapsed": true,
    "hidden": true
   },
   "outputs": [
    {
     "name": "stdout",
     "output_type": "stream",
     "text": [
      "Estimating biases using sgd...\n",
      "Estimating biases using sgd...\n",
      "Estimating biases using sgd...\n",
      "Estimating biases using sgd...\n",
      "Estimating biases using sgd...\n",
      "Estimating biases using sgd...\n",
      "Estimating biases using sgd...\n",
      "Estimating biases using sgd...\n",
      "Estimating biases using sgd...\n",
      "Estimating biases using sgd...\n",
      "Estimating biases using sgd...\n",
      "Estimating biases using sgd...\n",
      "Estimating biases using sgd...\n",
      "Estimating biases using sgd...\n",
      "Estimating biases using sgd...\n",
      "Estimating biases using sgd...\n",
      "Estimating biases using sgd...\n",
      "Estimating biases using sgd...\n",
      "Estimating biases using sgd...\n",
      "Estimating biases using sgd...\n",
      "Estimating biases using sgd...\n",
      "Estimating biases using sgd...\n",
      "Estimating biases using sgd...\n",
      "Estimating biases using sgd...\n",
      "Estimating biases using sgd...\n",
      "Evaluating RMSE, MAE of algorithm BaselineOnly on 25 split(s).\n",
      "\n",
      "                  Fold 1  Fold 2  Fold 3  Fold 4  Fold 5  Fold 6  Fold 7  Fold 8  Fold 9  Fold 10 Fold 11 Fold 12 Fold 13 Fold 14 Fold 15 Fold 16 Fold 17 Fold 18 Fold 19 Fold 20 Fold 21 Fold 22 Fold 23 Fold 24 Fold 25 Mean    Std     \n",
      "RMSE (testset)    1.2141  1.2186  1.2181  1.1978  1.2064  1.2236  1.2171  1.2056  1.2204  1.2071  1.2089  1.2072  1.2003  1.2090  1.2099  1.2102  1.2229  1.2117  1.1989  1.2124  1.2034  1.2001  1.2039  1.2222  1.2044  1.2102  0.0076  \n",
      "MAE (testset)     0.7387  0.7399  0.7389  0.7318  0.7339  0.7434  0.7406  0.7341  0.7439  0.7335  0.7357  0.7327  0.7306  0.7363  0.7381  0.7341  0.7418  0.7357  0.7284  0.7354  0.7314  0.7309  0.7335  0.7408  0.7313  0.7358  0.0042  \n",
      "Fit time          8.52    9.58    10.00   9.67    9.71    9.67    9.02    9.39    9.28    9.42    9.18    9.19    11.05   9.16    9.21    8.85    9.77    9.47    9.20    9.07    9.09    9.28    9.01    9.15    8.83    9.35    0.48    \n",
      "Test time         0.29    0.29    0.30    0.29    0.29    0.29    1.36    0.29    0.28    0.28    0.29    0.30    0.29    0.28    0.29    0.29    0.29    1.36    0.29    0.28    0.29    0.29    0.28    0.29    0.28    0.37    0.29    \n"
     ]
    },
    {
     "data": {
      "text/plain": [
       "{'test_rmse': array([1.21407101, 1.218625  , 1.2180732 , 1.19782818, 1.20639959,\n",
       "        1.22361802, 1.21712643, 1.20563144, 1.22039735, 1.20708831,\n",
       "        1.2089327 , 1.20719348, 1.20034672, 1.20899045, 1.20990721,\n",
       "        1.21018586, 1.22291804, 1.21166   , 1.19889312, 1.21243516,\n",
       "        1.20336713, 1.20011389, 1.20385825, 1.22220494, 1.20439464]),\n",
       " 'test_mae': array([0.73868325, 0.73988448, 0.73893291, 0.73181645, 0.73393651,\n",
       "        0.74337195, 0.74056963, 0.73410075, 0.74391567, 0.73345754,\n",
       "        0.73567347, 0.73266845, 0.73057977, 0.73629699, 0.73807876,\n",
       "        0.73409698, 0.74179626, 0.73569477, 0.72836689, 0.7353866 ,\n",
       "        0.73140085, 0.73088171, 0.73346588, 0.74084528, 0.73130563]),\n",
       " 'fit_time': (8.517118215560913,\n",
       "  9.582951307296753,\n",
       "  10.000103235244751,\n",
       "  9.673792600631714,\n",
       "  9.707358598709106,\n",
       "  9.674190521240234,\n",
       "  9.018184900283813,\n",
       "  9.393586158752441,\n",
       "  9.276110410690308,\n",
       "  9.419939517974854,\n",
       "  9.182628393173218,\n",
       "  9.185728549957275,\n",
       "  11.054856300354004,\n",
       "  9.164618492126465,\n",
       "  9.207143068313599,\n",
       "  8.853134155273438,\n",
       "  9.765716075897217,\n",
       "  9.467289686203003,\n",
       "  9.196017265319824,\n",
       "  9.074426174163818,\n",
       "  9.089686155319214,\n",
       "  9.283668041229248,\n",
       "  9.012500286102295,\n",
       "  9.147910118103027,\n",
       "  8.827048778533936),\n",
       " 'test_time': (0.28811097145080566,\n",
       "  0.2934849262237549,\n",
       "  0.30251336097717285,\n",
       "  0.29038262367248535,\n",
       "  0.28667521476745605,\n",
       "  0.2918214797973633,\n",
       "  1.361119270324707,\n",
       "  0.2940034866333008,\n",
       "  0.2841343879699707,\n",
       "  0.28394222259521484,\n",
       "  0.289700984954834,\n",
       "  0.29999470710754395,\n",
       "  0.2933223247528076,\n",
       "  0.2848200798034668,\n",
       "  0.2895689010620117,\n",
       "  0.2867417335510254,\n",
       "  0.2902696132659912,\n",
       "  1.3631670475006104,\n",
       "  0.29010796546936035,\n",
       "  0.2810680866241455,\n",
       "  0.2881138324737549,\n",
       "  0.2850344181060791,\n",
       "  0.2843773365020752,\n",
       "  0.28742074966430664,\n",
       "  0.284651517868042)}"
      ]
     },
     "execution_count": 16,
     "metadata": {},
     "output_type": "execute_result"
    }
   ],
   "source": [
    "cross_validate(BaselineOnly(bsl_options = {'method':'sgd',\n",
    "                                           'n_epochs': 15,\n",
    "                                           'reg': .02,\n",
    "                                           'learning_rate': .005}), sidf, cv=25, verbose=True)"
   ]
  },
  {
   "cell_type": "code",
   "execution_count": 17,
   "metadata": {
    "ExecuteTime": {
     "end_time": "2021-05-08T19:25:51.575382Z",
     "start_time": "2021-05-08T19:17:44.757892Z"
    },
    "collapsed": true,
    "hidden": true
   },
   "outputs": [
    {
     "name": "stdout",
     "output_type": "stream",
     "text": [
      "Estimating biases using sgd...\n",
      "Estimating biases using sgd...\n",
      "Estimating biases using sgd...\n",
      "Estimating biases using sgd...\n",
      "Estimating biases using sgd...\n",
      "Estimating biases using sgd...\n",
      "Estimating biases using sgd...\n",
      "Estimating biases using sgd...\n",
      "Estimating biases using sgd...\n",
      "Estimating biases using sgd...\n",
      "Estimating biases using sgd...\n",
      "Estimating biases using sgd...\n",
      "Estimating biases using sgd...\n",
      "Estimating biases using sgd...\n",
      "Estimating biases using sgd...\n",
      "Estimating biases using sgd...\n",
      "Estimating biases using sgd...\n",
      "Estimating biases using sgd...\n",
      "Estimating biases using sgd...\n",
      "Estimating biases using sgd...\n",
      "Estimating biases using sgd...\n",
      "Estimating biases using sgd...\n",
      "Estimating biases using sgd...\n",
      "Estimating biases using sgd...\n",
      "Estimating biases using sgd...\n",
      "Evaluating RMSE, MAE of algorithm BaselineOnly on 25 split(s).\n",
      "\n",
      "                  Fold 1  Fold 2  Fold 3  Fold 4  Fold 5  Fold 6  Fold 7  Fold 8  Fold 9  Fold 10 Fold 11 Fold 12 Fold 13 Fold 14 Fold 15 Fold 16 Fold 17 Fold 18 Fold 19 Fold 20 Fold 21 Fold 22 Fold 23 Fold 24 Fold 25 Mean    Std     \n",
      "RMSE (testset)    1.1999  1.2148  1.2252  1.2142  1.2271  1.2020  1.1995  1.2113  1.2151  1.2105  1.2084  1.2042  1.2151  1.2075  1.2079  1.2042  1.2178  1.2100  1.2024  1.2076  1.2002  1.2092  1.2064  1.2103  1.2097  1.2096  0.0070  \n",
      "MAE (testset)     0.7295  0.7328  0.7409  0.7339  0.7426  0.7288  0.7284  0.7337  0.7368  0.7337  0.7334  0.7315  0.7358  0.7323  0.7286  0.7287  0.7383  0.7321  0.7313  0.7321  0.7266  0.7371  0.7305  0.7342  0.7349  0.7331  0.0038  \n",
      "Fit time          13.61   14.19   14.20   13.88   14.52   14.23   14.15   14.40   14.30   14.22   13.94   14.47   13.68   14.51   14.33   14.54   14.30   14.46   14.28   13.97   14.75   15.40   14.80   14.42   16.10   14.38   0.50    \n",
      "Test time         0.29    0.29    0.29    0.28    0.29    0.28    0.28    1.34    0.29    0.28    0.29    1.36    0.28    0.29    0.28    0.28    0.29    0.28    0.28    0.29    0.29    0.28    0.29    0.30    0.30    0.37    0.29    \n"
     ]
    },
    {
     "data": {
      "text/plain": [
       "{'test_rmse': array([1.19985546, 1.21479142, 1.22521905, 1.21416169, 1.22714511,\n",
       "        1.20202305, 1.19952615, 1.2112846 , 1.21510649, 1.21047674,\n",
       "        1.20840966, 1.20420255, 1.21512381, 1.20752626, 1.20790597,\n",
       "        1.20420335, 1.21784529, 1.2100457 , 1.20239103, 1.20755282,\n",
       "        1.20020422, 1.20921819, 1.20640525, 1.21033077, 1.20969671]),\n",
       " 'test_mae': array([0.72950505, 0.73280373, 0.74088326, 0.73392583, 0.74255428,\n",
       "        0.72882203, 0.7284359 , 0.73372109, 0.73678396, 0.73368503,\n",
       "        0.73340829, 0.73152668, 0.7357676 , 0.7323201 , 0.72858883,\n",
       "        0.728679  , 0.73831002, 0.73211047, 0.73130264, 0.73213878,\n",
       "        0.72660472, 0.73707812, 0.73054503, 0.73415075, 0.73492161]),\n",
       " 'fit_time': (13.608980178833008,\n",
       "  14.193682432174683,\n",
       "  14.202935934066772,\n",
       "  13.878445863723755,\n",
       "  14.522101640701294,\n",
       "  14.22553014755249,\n",
       "  14.146848201751709,\n",
       "  14.39509892463684,\n",
       "  14.300932884216309,\n",
       "  14.216705083847046,\n",
       "  13.940992832183838,\n",
       "  14.465631008148193,\n",
       "  13.67626690864563,\n",
       "  14.506002187728882,\n",
       "  14.327911615371704,\n",
       "  14.5354905128479,\n",
       "  14.299824953079224,\n",
       "  14.464218139648438,\n",
       "  14.280970096588135,\n",
       "  13.9683256149292,\n",
       "  14.746080160140991,\n",
       "  15.395696640014648,\n",
       "  14.795479536056519,\n",
       "  14.417694807052612,\n",
       "  16.096674919128418),\n",
       " 'test_time': (0.2856881618499756,\n",
       "  0.2893331050872803,\n",
       "  0.2867910861968994,\n",
       "  0.28469181060791016,\n",
       "  0.2852954864501953,\n",
       "  0.2838263511657715,\n",
       "  0.2786061763763428,\n",
       "  1.3430263996124268,\n",
       "  0.2908163070678711,\n",
       "  0.28472900390625,\n",
       "  0.2850489616394043,\n",
       "  1.3603098392486572,\n",
       "  0.2774662971496582,\n",
       "  0.2885398864746094,\n",
       "  0.28218913078308105,\n",
       "  0.28206634521484375,\n",
       "  0.29291391372680664,\n",
       "  0.28277087211608887,\n",
       "  0.28470683097839355,\n",
       "  0.285952091217041,\n",
       "  0.29120516777038574,\n",
       "  0.28467345237731934,\n",
       "  0.2873401641845703,\n",
       "  0.29944562911987305,\n",
       "  0.298443078994751)}"
      ]
     },
     "execution_count": 17,
     "metadata": {},
     "output_type": "execute_result"
    }
   ],
   "source": [
    "cross_validate(BaselineOnly(bsl_options = {'method':'sgd',\n",
    "                                           'n_epochs': 25,\n",
    "                                           'reg': .02,\n",
    "                                           'learning_rate': .005}), sidf, cv=25, verbose=True)"
   ]
  },
  {
   "cell_type": "markdown",
   "metadata": {
    "heading_collapsed": true
   },
   "source": [
    "#### Tuning Regularization, All Else Same"
   ]
  },
  {
   "cell_type": "markdown",
   "metadata": {
    "hidden": true
   },
   "source": [
    "Tuning of regularization resulted in no better performance than Baseline SGD with default hyperparameters."
   ]
  },
  {
   "cell_type": "markdown",
   "metadata": {
    "hidden": true
   },
   "source": [
    "**Results with Default bsl_options — sgd, 20 epochs, .02 reg:**\n",
    "- mean across folds: **1.2095**  \n",
    "- std across folds: **0.0066**\n",
    "- mean fit time across folds: **11.80**\n",
    "- mean test time across folds: **0.39**"
   ]
  },
  {
   "cell_type": "markdown",
   "metadata": {
    "hidden": true
   },
   "source": [
    "**reg = .003:**\n",
    "- Mean RMSE: **1.2097**\n",
    "- Std: **0.0076**\n",
    "- Mean Fit Time: **12.22**\n",
    "- Mean Test Time: **0.44**"
   ]
  },
  {
   "cell_type": "markdown",
   "metadata": {
    "hidden": true
   },
   "source": [
    "**reg = .01:**\n",
    "- Mean RMSE: **1.2096**\n",
    "- Std: **0.0070**\n",
    "- Mean Fit Time: **12.12**\n",
    "- Mean Test Time: **0.47**"
   ]
  },
  {
   "cell_type": "markdown",
   "metadata": {
    "hidden": true
   },
   "source": [
    "**reg = .035:**\n",
    "- Mean RMSE: **1.2095**\n",
    "- Std: **0.0063**\n",
    "- Mean Fit Time: **12.16**\n",
    "- Mean Test Time: **0.51**"
   ]
  },
  {
   "cell_type": "markdown",
   "metadata": {
    "hidden": true
   },
   "source": [
    "**reg = .1:**\n",
    "- Mean RMSE: **1.2095**\n",
    "- Std: **0.0090**\n",
    "- Mean Fit Time: **11.72**\n",
    "- Mean Test Time: **0.37**"
   ]
  },
  {
   "cell_type": "code",
   "execution_count": null,
   "metadata": {
    "ExecuteTime": {
     "start_time": "2021-05-08T19:26:56.302Z"
    },
    "collapsed": true,
    "hidden": true
   },
   "outputs": [
    {
     "name": "stdout",
     "output_type": "stream",
     "text": [
      "Estimating biases using sgd...\n",
      "Estimating biases using sgd...\n",
      "Estimating biases using sgd...\n",
      "Estimating biases using sgd...\n",
      "Estimating biases using sgd...\n",
      "Estimating biases using sgd...\n",
      "Estimating biases using sgd...\n",
      "Estimating biases using sgd...\n",
      "Estimating biases using sgd...\n",
      "Estimating biases using sgd...\n",
      "Estimating biases using sgd...\n",
      "Estimating biases using sgd...\n",
      "Estimating biases using sgd...\n",
      "Estimating biases using sgd...\n",
      "Estimating biases using sgd...\n",
      "Estimating biases using sgd...\n",
      "Estimating biases using sgd...\n",
      "Estimating biases using sgd...\n",
      "Estimating biases using sgd...\n",
      "Estimating biases using sgd...\n",
      "Estimating biases using sgd...\n",
      "Estimating biases using sgd...\n",
      "Estimating biases using sgd...\n",
      "Estimating biases using sgd...\n",
      "Estimating biases using sgd...\n",
      "Evaluating RMSE, MAE of algorithm BaselineOnly on 25 split(s).\n",
      "\n",
      "                  Fold 1  Fold 2  Fold 3  Fold 4  Fold 5  Fold 6  Fold 7  Fold 8  Fold 9  Fold 10 Fold 11 Fold 12 Fold 13 Fold 14 Fold 15 Fold 16 Fold 17 Fold 18 Fold 19 Fold 20 Fold 21 Fold 22 Fold 23 Fold 24 Fold 25 Mean    Std     \n",
      "RMSE (testset)    1.2110  1.2068  1.2122  1.2000  1.2210  1.2098  1.2080  1.2127  1.2076  1.2127  1.2165  1.2001  1.2137  1.2142  1.2098  1.2154  1.2020  1.1967  1.2212  1.2038  1.2140  1.2150  1.2073  1.2037  1.2067  1.2097  0.0062  \n",
      "MAE (testset)     0.7331  0.7310  0.7362  0.7287  0.7419  0.7337  0.7331  0.7347  0.7312  0.7329  0.7351  0.7269  0.7348  0.7359  0.7326  0.7340  0.7315  0.7267  0.7358  0.7296  0.7346  0.7367  0.7319  0.7303  0.7328  0.7330  0.0032  \n",
      "Fit time          10.99   12.48   11.98   12.99   11.95   12.12   12.35   12.15   11.91   12.53   12.30   12.58   11.56   12.61   12.09   11.92   11.90   12.45   12.00   11.99   11.83   12.40   13.73   11.92   12.74   12.22   0.51    \n",
      "Test time         0.28    0.30    0.29    0.30    0.29    0.29    1.37    0.28    0.29    0.30    0.29    0.68    0.29    0.29    0.29    0.29    0.29    1.40    0.30    1.41    0.29    0.30    0.30    0.28    0.29    0.44    0.36    \n"
     ]
    },
    {
     "data": {
      "text/plain": [
       "{'test_rmse': array([1.21103162, 1.20676699, 1.21215612, 1.19995927, 1.22104996,\n",
       "        1.20983895, 1.20804236, 1.21267105, 1.2076057 , 1.21265158,\n",
       "        1.21646886, 1.20013987, 1.21367468, 1.21418666, 1.20983461,\n",
       "        1.21541414, 1.20204813, 1.19667458, 1.22119627, 1.20377912,\n",
       "        1.21399696, 1.21498696, 1.20727899, 1.20366579, 1.20672754]),\n",
       " 'test_mae': array([0.73308217, 0.73096642, 0.73621393, 0.72873047, 0.74185925,\n",
       "        0.73372914, 0.7331411 , 0.73469543, 0.73122074, 0.7328748 ,\n",
       "        0.73506291, 0.72685496, 0.73481657, 0.73586421, 0.73264048,\n",
       "        0.73397197, 0.73151578, 0.72673064, 0.73576039, 0.72955246,\n",
       "        0.73458108, 0.7366578 , 0.7318989 , 0.73026221, 0.7327711 ]),\n",
       " 'fit_time': (10.98929500579834,\n",
       "  12.48154067993164,\n",
       "  11.980997800827026,\n",
       "  12.992700576782227,\n",
       "  11.95482349395752,\n",
       "  12.123815536499023,\n",
       "  12.352720022201538,\n",
       "  12.146445274353027,\n",
       "  11.907366037368774,\n",
       "  12.529923677444458,\n",
       "  12.30427622795105,\n",
       "  12.583238363265991,\n",
       "  11.557314395904541,\n",
       "  12.612771272659302,\n",
       "  12.087443113327026,\n",
       "  11.923498153686523,\n",
       "  11.897773504257202,\n",
       "  12.453726530075073,\n",
       "  12.001675128936768,\n",
       "  11.989924669265747,\n",
       "  11.834656953811646,\n",
       "  12.399491310119629,\n",
       "  13.729241847991943,\n",
       "  11.923209190368652,\n",
       "  12.740581750869751),\n",
       " 'test_time': (0.28075218200683594,\n",
       "  0.3032236099243164,\n",
       "  0.29190707206726074,\n",
       "  0.29745030403137207,\n",
       "  0.2888646125793457,\n",
       "  0.2871270179748535,\n",
       "  1.3673725128173828,\n",
       "  0.283782958984375,\n",
       "  0.2866230010986328,\n",
       "  0.29659461975097656,\n",
       "  0.29390931129455566,\n",
       "  0.6831541061401367,\n",
       "  0.28806209564208984,\n",
       "  0.2931833267211914,\n",
       "  0.28897643089294434,\n",
       "  0.28859472274780273,\n",
       "  0.2909412384033203,\n",
       "  1.4042353630065918,\n",
       "  0.3012828826904297,\n",
       "  1.4136345386505127,\n",
       "  0.29216718673706055,\n",
       "  0.29860615730285645,\n",
       "  0.29965758323669434,\n",
       "  0.2766730785369873,\n",
       "  0.28960180282592773)}"
      ]
     },
     "execution_count": 18,
     "metadata": {},
     "output_type": "execute_result"
    }
   ],
   "source": [
    "cross_validate(BaselineOnly(bsl_options = {'method':'sgd',\n",
    "                                           'n_epochs': 20,\n",
    "                                           'reg': .003,\n",
    "                                           'learning_rate': .005}), sidf, cv=25, verbose=True)"
   ]
  },
  {
   "cell_type": "code",
   "execution_count": 19,
   "metadata": {
    "ExecuteTime": {
     "end_time": "2021-05-08T19:42:42.312461Z",
     "start_time": "2021-05-08T19:35:28.543133Z"
    },
    "collapsed": true,
    "hidden": true
   },
   "outputs": [
    {
     "name": "stdout",
     "output_type": "stream",
     "text": [
      "Estimating biases using sgd...\n",
      "Estimating biases using sgd...\n",
      "Estimating biases using sgd...\n",
      "Estimating biases using sgd...\n",
      "Estimating biases using sgd...\n",
      "Estimating biases using sgd...\n",
      "Estimating biases using sgd...\n",
      "Estimating biases using sgd...\n",
      "Estimating biases using sgd...\n",
      "Estimating biases using sgd...\n",
      "Estimating biases using sgd...\n",
      "Estimating biases using sgd...\n",
      "Estimating biases using sgd...\n",
      "Estimating biases using sgd...\n",
      "Estimating biases using sgd...\n",
      "Estimating biases using sgd...\n",
      "Estimating biases using sgd...\n",
      "Estimating biases using sgd...\n",
      "Estimating biases using sgd...\n",
      "Estimating biases using sgd...\n",
      "Estimating biases using sgd...\n",
      "Estimating biases using sgd...\n",
      "Estimating biases using sgd...\n",
      "Estimating biases using sgd...\n",
      "Estimating biases using sgd...\n",
      "Evaluating RMSE, MAE of algorithm BaselineOnly on 25 split(s).\n",
      "\n",
      "                  Fold 1  Fold 2  Fold 3  Fold 4  Fold 5  Fold 6  Fold 7  Fold 8  Fold 9  Fold 10 Fold 11 Fold 12 Fold 13 Fold 14 Fold 15 Fold 16 Fold 17 Fold 18 Fold 19 Fold 20 Fold 21 Fold 22 Fold 23 Fold 24 Fold 25 Mean    Std     \n",
      "RMSE (testset)    1.2134  1.1945  1.2121  1.2162  1.2184  1.2080  1.2098  1.2159  1.2160  1.2129  1.2082  1.2144  1.2106  1.2174  1.2013  1.2104  1.1947  1.2202  1.2078  1.2055  1.1962  1.2099  1.2127  1.2112  1.2026  1.2096  0.0070  \n",
      "MAE (testset)     0.7343  0.7276  0.7364  0.7365  0.7384  0.7317  0.7339  0.7351  0.7356  0.7343  0.7327  0.7342  0.7341  0.7368  0.7260  0.7339  0.7235  0.7365  0.7327  0.7317  0.7249  0.7333  0.7347  0.7341  0.7289  0.7329  0.0038  \n",
      "Fit time          11.12   11.93   11.70   12.29   12.14   12.22   12.18   12.47   12.28   11.57   11.76   12.11   12.40   11.58   12.07   12.25   12.40   13.13   12.50   12.50   12.43   11.62   12.17   11.89   12.23   12.12   0.40    \n",
      "Test time         0.29    0.30    0.29    0.29    0.30    0.28    0.30    0.29    0.30    0.28    0.30    0.29    1.41    0.29    1.39    0.30    0.30    0.29    1.37    0.30    0.29    0.29    1.36    0.29    0.28    0.47    0.40    \n"
     ]
    },
    {
     "data": {
      "text/plain": [
       "{'test_rmse': array([1.21344092, 1.19454581, 1.212108  , 1.21615567, 1.21842737,\n",
       "        1.20803286, 1.20982635, 1.21588044, 1.21603051, 1.21294695,\n",
       "        1.2082264 , 1.21444881, 1.21059673, 1.21742175, 1.20133835,\n",
       "        1.21039627, 1.19469589, 1.2201993 , 1.20777673, 1.20554843,\n",
       "        1.19615831, 1.20986923, 1.2126634 , 1.21122739, 1.20256723]),\n",
       " 'test_mae': array([0.73425972, 0.72759958, 0.73636775, 0.73647889, 0.73835038,\n",
       "        0.73169786, 0.73386157, 0.73511632, 0.73563942, 0.73428002,\n",
       "        0.73268958, 0.73424425, 0.73405546, 0.73680487, 0.72602678,\n",
       "        0.73388816, 0.72353798, 0.73649612, 0.73265558, 0.73170171,\n",
       "        0.72485465, 0.73325653, 0.73466893, 0.73406423, 0.72890303]),\n",
       " 'fit_time': (11.12335729598999,\n",
       "  11.929053783416748,\n",
       "  11.703220844268799,\n",
       "  12.292922258377075,\n",
       "  12.141081094741821,\n",
       "  12.219889402389526,\n",
       "  12.184540033340454,\n",
       "  12.470080375671387,\n",
       "  12.279286861419678,\n",
       "  11.571953058242798,\n",
       "  11.75516390800476,\n",
       "  12.10994839668274,\n",
       "  12.396439552307129,\n",
       "  11.578455924987793,\n",
       "  12.074998140335083,\n",
       "  12.24692177772522,\n",
       "  12.400652647018433,\n",
       "  13.133665323257446,\n",
       "  12.498276948928833,\n",
       "  12.500929117202759,\n",
       "  12.426757335662842,\n",
       "  11.622570753097534,\n",
       "  12.170814990997314,\n",
       "  11.888999938964844,\n",
       "  12.232264757156372),\n",
       " 'test_time': (0.28809666633605957,\n",
       "  0.29665184020996094,\n",
       "  0.2938816547393799,\n",
       "  0.2939612865447998,\n",
       "  0.2958672046661377,\n",
       "  0.2845423221588135,\n",
       "  0.295849084854126,\n",
       "  0.29349660873413086,\n",
       "  0.3004124164581299,\n",
       "  0.279705286026001,\n",
       "  0.29796457290649414,\n",
       "  0.29069018363952637,\n",
       "  1.4053566455841064,\n",
       "  0.287367582321167,\n",
       "  1.393709659576416,\n",
       "  0.30233240127563477,\n",
       "  0.30059313774108887,\n",
       "  0.29447507858276367,\n",
       "  1.3658325672149658,\n",
       "  0.30054450035095215,\n",
       "  0.2933216094970703,\n",
       "  0.28625035285949707,\n",
       "  1.3553130626678467,\n",
       "  0.2924184799194336,\n",
       "  0.28449225425720215)}"
      ]
     },
     "execution_count": 19,
     "metadata": {},
     "output_type": "execute_result"
    }
   ],
   "source": [
    "cross_validate(BaselineOnly(bsl_options = {'method':'sgd',\n",
    "                                           'n_epochs': 20,\n",
    "                                           'reg': .01,\n",
    "                                           'learning_rate': .005}), sidf, cv=25, verbose=True)"
   ]
  },
  {
   "cell_type": "code",
   "execution_count": 20,
   "metadata": {
    "ExecuteTime": {
     "end_time": "2021-05-08T19:52:34.481811Z",
     "start_time": "2021-05-08T19:45:19.059922Z"
    },
    "collapsed": true,
    "hidden": true
   },
   "outputs": [
    {
     "name": "stdout",
     "output_type": "stream",
     "text": [
      "Estimating biases using sgd...\n",
      "Estimating biases using sgd...\n",
      "Estimating biases using sgd...\n",
      "Estimating biases using sgd...\n",
      "Estimating biases using sgd...\n",
      "Estimating biases using sgd...\n",
      "Estimating biases using sgd...\n",
      "Estimating biases using sgd...\n",
      "Estimating biases using sgd...\n",
      "Estimating biases using sgd...\n",
      "Estimating biases using sgd...\n",
      "Estimating biases using sgd...\n",
      "Estimating biases using sgd...\n",
      "Estimating biases using sgd...\n",
      "Estimating biases using sgd...\n",
      "Estimating biases using sgd...\n",
      "Estimating biases using sgd...\n",
      "Estimating biases using sgd...\n",
      "Estimating biases using sgd...\n",
      "Estimating biases using sgd...\n",
      "Estimating biases using sgd...\n",
      "Estimating biases using sgd...\n",
      "Estimating biases using sgd...\n",
      "Estimating biases using sgd...\n",
      "Estimating biases using sgd...\n",
      "Evaluating RMSE, MAE of algorithm BaselineOnly on 25 split(s).\n",
      "\n",
      "                  Fold 1  Fold 2  Fold 3  Fold 4  Fold 5  Fold 6  Fold 7  Fold 8  Fold 9  Fold 10 Fold 11 Fold 12 Fold 13 Fold 14 Fold 15 Fold 16 Fold 17 Fold 18 Fold 19 Fold 20 Fold 21 Fold 22 Fold 23 Fold 24 Fold 25 Mean    Std     \n",
      "RMSE (testset)    1.2032  1.2074  1.2083  1.2084  1.2210  1.1977  1.2010  1.2055  1.2086  1.2247  1.2103  1.2056  1.2130  1.2140  1.2123  1.2116  1.2031  1.2091  1.2157  1.2080  1.2070  1.2178  1.2011  1.2178  1.2063  1.2095  0.0063  \n",
      "MAE (testset)     0.7313  0.7311  0.7356  0.7350  0.7418  0.7293  0.7306  0.7327  0.7352  0.7410  0.7358  0.7329  0.7358  0.7364  0.7363  0.7348  0.7321  0.7350  0.7373  0.7374  0.7322  0.7400  0.7292  0.7408  0.7334  0.7349  0.0035  \n",
      "Fit time          11.23   12.20   12.52   11.88   12.60   13.08   12.02   12.30   12.22   12.15   11.87   12.20   12.39   12.30   11.70   12.07   12.28   12.33   12.24   12.35   12.20   12.31   11.76   11.75   11.99   12.16   0.35    \n",
      "Test time         0.29    0.29    0.29    1.34    0.38    0.30    0.30    1.38    0.30    0.29    0.30    1.34    0.30    0.29    0.29    1.37    0.30    0.29    0.30    1.37    0.30    0.29    0.30    0.29    0.29    0.51    0.42    \n"
     ]
    },
    {
     "data": {
      "text/plain": [
       "{'test_rmse': array([1.20322451, 1.20743656, 1.20828749, 1.20841954, 1.22097372,\n",
       "        1.19767641, 1.20104895, 1.20548254, 1.2086423 , 1.22469781,\n",
       "        1.21033804, 1.20563971, 1.21301865, 1.21398011, 1.21232144,\n",
       "        1.21163918, 1.2031189 , 1.20910453, 1.2157378 , 1.20800039,\n",
       "        1.20703494, 1.21781891, 1.20105655, 1.21775926, 1.2062671 ]),\n",
       " 'test_mae': array([0.73133902, 0.73112315, 0.73564523, 0.73502773, 0.7418092 ,\n",
       "        0.72931906, 0.73061178, 0.73270918, 0.7351611 , 0.74096242,\n",
       "        0.73582377, 0.73287481, 0.73582422, 0.7364383 , 0.73631289,\n",
       "        0.73477692, 0.73214389, 0.73502879, 0.73732417, 0.73735609,\n",
       "        0.73222487, 0.73995069, 0.72921831, 0.74078815, 0.73340776]),\n",
       " 'fit_time': (11.230709791183472,\n",
       "  12.198558330535889,\n",
       "  12.522706031799316,\n",
       "  11.880070924758911,\n",
       "  12.59970498085022,\n",
       "  13.08237886428833,\n",
       "  12.015311479568481,\n",
       "  12.300896167755127,\n",
       "  12.218340873718262,\n",
       "  12.1530282497406,\n",
       "  11.865094184875488,\n",
       "  12.203782796859741,\n",
       "  12.388236284255981,\n",
       "  12.302740812301636,\n",
       "  11.695017337799072,\n",
       "  12.07326865196228,\n",
       "  12.281200647354126,\n",
       "  12.32974100112915,\n",
       "  12.236415386199951,\n",
       "  12.348620414733887,\n",
       "  12.19945216178894,\n",
       "  12.314708471298218,\n",
       "  11.759883165359497,\n",
       "  11.745680809020996,\n",
       "  11.99051809310913),\n",
       " 'test_time': (0.2923247814178467,\n",
       "  0.28636741638183594,\n",
       "  0.29310011863708496,\n",
       "  1.3376390933990479,\n",
       "  0.38207387924194336,\n",
       "  0.2983083724975586,\n",
       "  0.2989044189453125,\n",
       "  1.3760526180267334,\n",
       "  0.2977128028869629,\n",
       "  0.2898283004760742,\n",
       "  0.2977020740509033,\n",
       "  1.3393194675445557,\n",
       "  0.29795265197753906,\n",
       "  0.29341793060302734,\n",
       "  0.28708839416503906,\n",
       "  1.3689484596252441,\n",
       "  0.29799437522888184,\n",
       "  0.2947843074798584,\n",
       "  0.2958259582519531,\n",
       "  1.3675532341003418,\n",
       "  0.29894399642944336,\n",
       "  0.29146814346313477,\n",
       "  0.29553890228271484,\n",
       "  0.2878880500793457,\n",
       "  0.29010748863220215)}"
      ]
     },
     "execution_count": 20,
     "metadata": {},
     "output_type": "execute_result"
    }
   ],
   "source": [
    "cross_validate(BaselineOnly(bsl_options = {'method':'sgd',\n",
    "                                           'n_epochs': 20,\n",
    "                                           'reg': .035,\n",
    "                                           'learning_rate': .005}), sidf, cv=25, verbose=True)"
   ]
  },
  {
   "cell_type": "code",
   "execution_count": null,
   "metadata": {
    "ExecuteTime": {
     "start_time": "2021-05-08T19:54:01.798Z"
    },
    "collapsed": true,
    "hidden": true
   },
   "outputs": [
    {
     "name": "stdout",
     "output_type": "stream",
     "text": [
      "Estimating biases using sgd...\n",
      "Estimating biases using sgd...\n",
      "Estimating biases using sgd...\n",
      "Estimating biases using sgd...\n",
      "Estimating biases using sgd...\n",
      "Estimating biases using sgd...\n",
      "Estimating biases using sgd...\n",
      "Estimating biases using sgd...\n",
      "Estimating biases using sgd...\n",
      "Estimating biases using sgd...\n",
      "Estimating biases using sgd...\n",
      "Estimating biases using sgd...\n",
      "Estimating biases using sgd...\n",
      "Estimating biases using sgd...\n",
      "Estimating biases using sgd...\n",
      "Estimating biases using sgd...\n",
      "Estimating biases using sgd...\n",
      "Estimating biases using sgd...\n",
      "Estimating biases using sgd...\n",
      "Estimating biases using sgd...\n",
      "Estimating biases using sgd...\n",
      "Estimating biases using sgd...\n",
      "Estimating biases using sgd...\n",
      "Estimating biases using sgd...\n",
      "Estimating biases using sgd...\n",
      "Evaluating RMSE, MAE of algorithm BaselineOnly on 25 split(s).\n",
      "\n",
      "                  Fold 1  Fold 2  Fold 3  Fold 4  Fold 5  Fold 6  Fold 7  Fold 8  Fold 9  Fold 10 Fold 11 Fold 12 Fold 13 Fold 14 Fold 15 Fold 16 Fold 17 Fold 18 Fold 19 Fold 20 Fold 21 Fold 22 Fold 23 Fold 24 Fold 25 Mean    Std     \n",
      "RMSE (testset)    1.2158  1.2119  1.2212  1.2187  1.2133  1.2129  1.2059  1.1995  1.2148  1.2218  1.2207  1.2039  1.2047  1.1940  1.2036  1.2340  1.2009  1.2000  1.2110  1.2067  1.2021  1.2052  1.2100  1.1981  1.2056  1.2095  0.0090  \n",
      "MAE (testset)     0.7408  0.7403  0.7458  0.7422  0.7404  0.7409  0.7391  0.7341  0.7441  0.7476  0.7430  0.7379  0.7370  0.7306  0.7359  0.7533  0.7353  0.7353  0.7408  0.7370  0.7359  0.7370  0.7392  0.7324  0.7369  0.7393  0.0049  \n",
      "Fit time          10.55   11.59   11.60   12.41   11.54   11.77   11.93   11.92   11.70   11.41   12.17   11.83   11.67   11.78   12.17   12.22   11.92   11.89   11.65   11.63   11.05   11.73   11.88   11.76   11.34   11.72   0.37    \n",
      "Test time         0.29    0.29    0.29    0.29    0.29    0.29    0.29    0.29    0.29    0.29    0.29    0.30    0.28    0.29    0.29    0.30    0.29    0.29    0.28    1.31    0.28    1.35    0.29    0.28    0.29    0.37    0.28    \n"
     ]
    },
    {
     "data": {
      "text/plain": [
       "{'test_rmse': array([1.21579448, 1.21189506, 1.22123904, 1.21872088, 1.21325073,\n",
       "        1.21286902, 1.20589957, 1.19952524, 1.21480653, 1.22183348,\n",
       "        1.22069064, 1.20388905, 1.20470136, 1.19401548, 1.20359753,\n",
       "        1.2340159 , 1.20091863, 1.19997939, 1.21103237, 1.20668259,\n",
       "        1.20207483, 1.20523629, 1.20999524, 1.19808487, 1.20559938]),\n",
       " 'test_mae': array([0.7408256 , 0.74025019, 0.74583416, 0.74219813, 0.74042644,\n",
       "        0.74086106, 0.73910079, 0.73410822, 0.74407995, 0.74762788,\n",
       "        0.74303976, 0.73787765, 0.73696066, 0.73059371, 0.73589031,\n",
       "        0.75333169, 0.73534439, 0.7352674 , 0.74078447, 0.73704165,\n",
       "        0.73593744, 0.73698068, 0.73922698, 0.73236818, 0.73693003]),\n",
       " 'fit_time': (10.546465873718262,\n",
       "  11.586823225021362,\n",
       "  11.604610919952393,\n",
       "  12.4130380153656,\n",
       "  11.538708209991455,\n",
       "  11.767252206802368,\n",
       "  11.930396556854248,\n",
       "  11.919605255126953,\n",
       "  11.704459190368652,\n",
       "  11.41018795967102,\n",
       "  12.167648077011108,\n",
       "  11.826277732849121,\n",
       "  11.665881872177124,\n",
       "  11.776043176651001,\n",
       "  12.169557094573975,\n",
       "  12.217321872711182,\n",
       "  11.920876026153564,\n",
       "  11.892756223678589,\n",
       "  11.646590948104858,\n",
       "  11.629017114639282,\n",
       "  11.048024654388428,\n",
       "  11.731931924819946,\n",
       "  11.877271175384521,\n",
       "  11.761127233505249,\n",
       "  11.341691970825195),\n",
       " 'test_time': (0.28853678703308105,\n",
       "  0.28890538215637207,\n",
       "  0.2898876667022705,\n",
       "  0.2899971008300781,\n",
       "  0.29093480110168457,\n",
       "  0.29051804542541504,\n",
       "  0.29071688652038574,\n",
       "  0.2895543575286865,\n",
       "  0.2878599166870117,\n",
       "  0.28981900215148926,\n",
       "  0.29326891899108887,\n",
       "  0.3005521297454834,\n",
       "  0.27722883224487305,\n",
       "  0.29104065895080566,\n",
       "  0.2911839485168457,\n",
       "  0.30288004875183105,\n",
       "  0.29093480110168457,\n",
       "  0.2884228229522705,\n",
       "  0.28406405448913574,\n",
       "  1.307203769683838,\n",
       "  0.27767062187194824,\n",
       "  1.345639705657959,\n",
       "  0.29352879524230957,\n",
       "  0.2794044017791748,\n",
       "  0.28683900833129883)}"
      ]
     },
     "execution_count": 21,
     "metadata": {},
     "output_type": "execute_result"
    }
   ],
   "source": [
    "cross_validate(BaselineOnly(bsl_options = {'method':'sgd',\n",
    "                                           'n_epochs': 20,\n",
    "                                           'reg': .1,\n",
    "                                           'learning_rate': .005}), sidf, cv=25, verbose=True)"
   ]
  },
  {
   "cell_type": "markdown",
   "metadata": {
    "heading_collapsed": true
   },
   "source": [
    "#### Tuning Learning Rate, All Else Same"
   ]
  },
  {
   "cell_type": "markdown",
   "metadata": {
    "hidden": true
   },
   "source": [
    "Tuning learning rate resulted in no better performance than Baseline SGD with default hyperparameters."
   ]
  },
  {
   "cell_type": "markdown",
   "metadata": {
    "hidden": true
   },
   "source": [
    "**Results with Default bsl_options — sgd, 20 epochs, .02 reg, .005 LR:**\n",
    "- mean across folds: **1.2095**  \n",
    "- std across folds: **0.0066**\n",
    "- mean fit time across folds: **11.80**\n",
    "- mean test time across folds: **0.39**"
   ]
  },
  {
   "cell_type": "markdown",
   "metadata": {
    "hidden": true
   },
   "source": [
    "**LR = .00015:**\n",
    "- Mean RMSE: **1.2372**\n",
    "- Std: **0.0075**\n",
    "- Mean Fit Time: **11.65**\n",
    "- Mean Test Time: **0.41**"
   ]
  },
  {
   "cell_type": "markdown",
   "metadata": {
    "hidden": true
   },
   "source": [
    "**LR = .025:**\n",
    "- Mean RMSE: **1.2295**\n",
    "- Std: **0.0072**\n",
    "- Mean Fit Time: **11.54**\n",
    "- Mean Test Time: **0.32**"
   ]
  },
  {
   "cell_type": "code",
   "execution_count": 22,
   "metadata": {
    "ExecuteTime": {
     "end_time": "2021-05-08T20:15:38.217029Z",
     "start_time": "2021-05-08T20:08:40.560907Z"
    },
    "collapsed": true,
    "hidden": true
   },
   "outputs": [
    {
     "name": "stdout",
     "output_type": "stream",
     "text": [
      "Estimating biases using sgd...\n",
      "Estimating biases using sgd...\n",
      "Estimating biases using sgd...\n",
      "Estimating biases using sgd...\n",
      "Estimating biases using sgd...\n",
      "Estimating biases using sgd...\n",
      "Estimating biases using sgd...\n",
      "Estimating biases using sgd...\n",
      "Estimating biases using sgd...\n",
      "Estimating biases using sgd...\n",
      "Estimating biases using sgd...\n",
      "Estimating biases using sgd...\n",
      "Estimating biases using sgd...\n",
      "Estimating biases using sgd...\n",
      "Estimating biases using sgd...\n",
      "Estimating biases using sgd...\n",
      "Estimating biases using sgd...\n",
      "Estimating biases using sgd...\n",
      "Estimating biases using sgd...\n",
      "Estimating biases using sgd...\n",
      "Estimating biases using sgd...\n",
      "Estimating biases using sgd...\n",
      "Estimating biases using sgd...\n",
      "Estimating biases using sgd...\n",
      "Estimating biases using sgd...\n",
      "Evaluating RMSE, MAE of algorithm BaselineOnly on 25 split(s).\n",
      "\n",
      "                  Fold 1  Fold 2  Fold 3  Fold 4  Fold 5  Fold 6  Fold 7  Fold 8  Fold 9  Fold 10 Fold 11 Fold 12 Fold 13 Fold 14 Fold 15 Fold 16 Fold 17 Fold 18 Fold 19 Fold 20 Fold 21 Fold 22 Fold 23 Fold 24 Fold 25 Mean    Std     \n",
      "RMSE (testset)    1.2410  1.2450  1.2331  1.2381  1.2432  1.2297  1.2405  1.2416  1.2312  1.2273  1.2407  1.2409  1.2568  1.2424  1.2440  1.2411  1.2370  1.2303  1.2390  1.2364  1.2383  1.2234  1.2372  1.2315  1.2203  1.2372  0.0075  \n",
      "MAE (testset)     0.7783  0.7788  0.7739  0.7764  0.7788  0.7716  0.7789  0.7781  0.7732  0.7692  0.7778  0.7777  0.7860  0.7789  0.7787  0.7785  0.7729  0.7719  0.7769  0.7756  0.7769  0.7703  0.7764  0.7736  0.7682  0.7759  0.0038  \n",
      "Fit time          10.81   11.84   11.70   11.49   11.77   11.94   11.92   11.85   11.68   11.81   11.81   11.50   11.55   11.68   11.39   11.45   13.27   11.79   11.42   11.22   11.52   11.50   11.34   11.42   11.52   11.65   0.41    \n",
      "Test time         0.29    1.30    0.30    0.29    0.29    0.29    0.29    1.33    0.29    0.29    0.29    0.28    0.28    0.29    0.29    1.32    0.30    0.29    0.28    0.28    0.30    0.29    0.28    0.28    0.28    0.41    0.34    \n"
     ]
    },
    {
     "data": {
      "text/plain": [
       "{'test_rmse': array([1.24098833, 1.24495666, 1.23307736, 1.23809773, 1.24316453,\n",
       "        1.22973449, 1.24048417, 1.24162502, 1.23119878, 1.22725598,\n",
       "        1.2407301 , 1.24085768, 1.25682717, 1.24237145, 1.24403541,\n",
       "        1.24110176, 1.23695429, 1.23025278, 1.23902726, 1.23644369,\n",
       "        1.23831601, 1.22340118, 1.23719541, 1.23149256, 1.22031463]),\n",
       " 'test_mae': array([0.77826692, 0.77881627, 0.77393949, 0.77635113, 0.77876119,\n",
       "        0.77155299, 0.77887529, 0.77805444, 0.77321206, 0.76920757,\n",
       "        0.77776311, 0.7776644 , 0.78596801, 0.77890011, 0.77870606,\n",
       "        0.7785013 , 0.77289368, 0.77191298, 0.77687806, 0.77556484,\n",
       "        0.7769471 , 0.77027307, 0.77636501, 0.77361111, 0.76823686]),\n",
       " 'fit_time': (10.814207315444946,\n",
       "  11.835895776748657,\n",
       "  11.69747543334961,\n",
       "  11.491311073303223,\n",
       "  11.773432731628418,\n",
       "  11.94485592842102,\n",
       "  11.917098760604858,\n",
       "  11.852519512176514,\n",
       "  11.678627729415894,\n",
       "  11.810724258422852,\n",
       "  11.807735919952393,\n",
       "  11.50357985496521,\n",
       "  11.55400037765503,\n",
       "  11.683828115463257,\n",
       "  11.391109228134155,\n",
       "  11.452545642852783,\n",
       "  13.266190767288208,\n",
       "  11.790071487426758,\n",
       "  11.419618606567383,\n",
       "  11.221921682357788,\n",
       "  11.51529598236084,\n",
       "  11.501261949539185,\n",
       "  11.344006776809692,\n",
       "  11.423665523529053,\n",
       "  11.517353057861328),\n",
       " 'test_time': (0.2860891819000244,\n",
       "  1.3047420978546143,\n",
       "  0.29604578018188477,\n",
       "  0.2859354019165039,\n",
       "  0.2941100597381592,\n",
       "  0.2944953441619873,\n",
       "  0.28674912452697754,\n",
       "  1.332627534866333,\n",
       "  0.28507280349731445,\n",
       "  0.29171252250671387,\n",
       "  0.2863152027130127,\n",
       "  0.284024715423584,\n",
       "  0.28400659561157227,\n",
       "  0.28549742698669434,\n",
       "  0.2855570316314697,\n",
       "  1.3194539546966553,\n",
       "  0.29663825035095215,\n",
       "  0.2919962406158447,\n",
       "  0.27971577644348145,\n",
       "  0.2802302837371826,\n",
       "  0.2994976043701172,\n",
       "  0.29198145866394043,\n",
       "  0.2772669792175293,\n",
       "  0.28412699699401855,\n",
       "  0.2827107906341553)}"
      ]
     },
     "execution_count": 22,
     "metadata": {},
     "output_type": "execute_result"
    }
   ],
   "source": [
    "cross_validate(BaselineOnly(bsl_options = {'method':'sgd',\n",
    "                                           'n_epochs': 20,\n",
    "                                           'reg': .02,\n",
    "                                           'learning_rate': .00015}), sidf, cv=25, verbose=True)"
   ]
  },
  {
   "cell_type": "code",
   "execution_count": 23,
   "metadata": {
    "ExecuteTime": {
     "end_time": "2021-05-08T20:23:44.931637Z",
     "start_time": "2021-05-08T20:16:54.124718Z"
    },
    "collapsed": true,
    "hidden": true
   },
   "outputs": [
    {
     "name": "stdout",
     "output_type": "stream",
     "text": [
      "Estimating biases using sgd...\n",
      "Estimating biases using sgd...\n",
      "Estimating biases using sgd...\n",
      "Estimating biases using sgd...\n",
      "Estimating biases using sgd...\n",
      "Estimating biases using sgd...\n",
      "Estimating biases using sgd...\n",
      "Estimating biases using sgd...\n",
      "Estimating biases using sgd...\n",
      "Estimating biases using sgd...\n",
      "Estimating biases using sgd...\n",
      "Estimating biases using sgd...\n",
      "Estimating biases using sgd...\n",
      "Estimating biases using sgd...\n",
      "Estimating biases using sgd...\n",
      "Estimating biases using sgd...\n",
      "Estimating biases using sgd...\n",
      "Estimating biases using sgd...\n",
      "Estimating biases using sgd...\n",
      "Estimating biases using sgd...\n",
      "Estimating biases using sgd...\n",
      "Estimating biases using sgd...\n",
      "Estimating biases using sgd...\n",
      "Estimating biases using sgd...\n",
      "Estimating biases using sgd...\n",
      "Evaluating RMSE, MAE of algorithm BaselineOnly on 25 split(s).\n",
      "\n",
      "                  Fold 1  Fold 2  Fold 3  Fold 4  Fold 5  Fold 6  Fold 7  Fold 8  Fold 9  Fold 10 Fold 11 Fold 12 Fold 13 Fold 14 Fold 15 Fold 16 Fold 17 Fold 18 Fold 19 Fold 20 Fold 21 Fold 22 Fold 23 Fold 24 Fold 25 Mean    Std     \n",
      "RMSE (testset)    1.2357  1.2424  1.2282  1.2269  1.2263  1.2285  1.2309  1.2456  1.2216  1.2226  1.2317  1.2334  1.2311  1.2216  1.2281  1.2404  1.2276  1.2340  1.2300  1.2195  1.2146  1.2232  1.2244  1.2378  1.2325  1.2295  0.0072  \n",
      "MAE (testset)     0.7495  0.7527  0.7453  0.7452  0.7450  0.7434  0.7454  0.7547  0.7422  0.7430  0.7455  0.7492  0.7434  0.7436  0.7478  0.7522  0.7448  0.7473  0.7474  0.7411  0.7380  0.7425  0.7384  0.7487  0.7492  0.7458  0.0040  \n",
      "Fit time          10.69   11.29   11.93   11.46   11.24   11.31   11.77   12.11   11.14   11.40   11.85   11.76   11.59   13.18   11.56   11.69   11.03   10.90   11.33   11.31   11.22   13.03   11.27   11.30   11.01   11.54   0.57    \n",
      "Test time         0.27    0.28    0.29    0.28    0.27    1.36    0.28    0.29    0.28    0.28    0.28    0.27    0.29    0.27    0.30    0.28    0.28    0.28    0.28    0.28    0.28    0.28    0.28    0.27    0.28    0.32    0.21    \n"
     ]
    },
    {
     "data": {
      "text/plain": [
       "{'test_rmse': array([1.23567146, 1.24241263, 1.22816815, 1.22686586, 1.22629292,\n",
       "        1.22847673, 1.23089527, 1.24555107, 1.22163743, 1.22264371,\n",
       "        1.23171067, 1.23336354, 1.23106014, 1.22164156, 1.22810059,\n",
       "        1.24044674, 1.22755975, 1.23404351, 1.23003274, 1.21945979,\n",
       "        1.21462815, 1.22319115, 1.22439443, 1.23782207, 1.23250173]),\n",
       " 'test_mae': array([0.74953279, 0.75274975, 0.74532191, 0.74515823, 0.74496418,\n",
       "        0.74339446, 0.74539375, 0.75465291, 0.74220374, 0.7430333 ,\n",
       "        0.74552355, 0.74920752, 0.7433502 , 0.74359563, 0.74776935,\n",
       "        0.75215029, 0.74481759, 0.74733708, 0.7474043 , 0.74112268,\n",
       "        0.73801361, 0.7424784 , 0.73837651, 0.74867344, 0.7492429 ]),\n",
       " 'fit_time': (10.694491386413574,\n",
       "  11.29405689239502,\n",
       "  11.928758144378662,\n",
       "  11.455387353897095,\n",
       "  11.243992805480957,\n",
       "  11.307096719741821,\n",
       "  11.77086353302002,\n",
       "  12.105730772018433,\n",
       "  11.13573169708252,\n",
       "  11.402637004852295,\n",
       "  11.852785587310791,\n",
       "  11.763862371444702,\n",
       "  11.591462135314941,\n",
       "  13.176098346710205,\n",
       "  11.564255714416504,\n",
       "  11.690320014953613,\n",
       "  11.033286094665527,\n",
       "  10.90462875366211,\n",
       "  11.33407473564148,\n",
       "  11.307596445083618,\n",
       "  11.21903681755066,\n",
       "  13.034844398498535,\n",
       "  11.273723602294922,\n",
       "  11.29859709739685,\n",
       "  11.009386777877808),\n",
       " 'test_time': (0.2706634998321533,\n",
       "  0.2802441120147705,\n",
       "  0.2861645221710205,\n",
       "  0.28255724906921387,\n",
       "  0.2732210159301758,\n",
       "  1.3626840114593506,\n",
       "  0.28402042388916016,\n",
       "  0.28935742378234863,\n",
       "  0.2796204090118408,\n",
       "  0.2776644229888916,\n",
       "  0.2799801826477051,\n",
       "  0.27403855323791504,\n",
       "  0.2862839698791504,\n",
       "  0.2713034152984619,\n",
       "  0.30186891555786133,\n",
       "  0.276043176651001,\n",
       "  0.27904605865478516,\n",
       "  0.27918171882629395,\n",
       "  0.28049588203430176,\n",
       "  0.27889561653137207,\n",
       "  0.2775745391845703,\n",
       "  0.27816009521484375,\n",
       "  0.2760019302368164,\n",
       "  0.27210521697998047,\n",
       "  0.2756481170654297)}"
      ]
     },
     "execution_count": 23,
     "metadata": {},
     "output_type": "execute_result"
    }
   ],
   "source": [
    "cross_validate(BaselineOnly(bsl_options = {'method':'sgd',\n",
    "                                           'n_epochs': 20,\n",
    "                                           'reg': .02,\n",
    "                                           'learning_rate': .025}), sidf, cv=25, verbose=True)"
   ]
  },
  {
   "cell_type": "markdown",
   "metadata": {},
   "source": [
    "### Grid Search Cross Validation Split"
   ]
  },
  {
   "cell_type": "markdown",
   "metadata": {},
   "source": [
    "#### ALS (Failed)"
   ]
  },
  {
   "cell_type": "code",
   "execution_count": null,
   "metadata": {},
   "outputs": [],
   "source": [
    "param_grid = {'bsl_options':{'method':'als',\n",
    "              'n_epochs':[5, 10, 15, 20],  \n",
    "              'reg_u':[10, 15, 20], \n",
    "              'reg_i':[5, 10, 15]}}\n",
    "gs = GridSearchCV(BaselineOnly, param_grid, measures=['rmse'], cv=25)\n",
    "gs.fit(sidf)\n",
    "params = gs.best_params['rmse']\n",
    "gs_als = BaselineOnly(n_factors=params['n_factors'], n_epochs=params['n_epochs'], lr_all=params['lr_all'], reg_all=params['reg_all'])"
   ]
  },
  {
   "cell_type": "markdown",
   "metadata": {},
   "source": [
    "#### Baseline SGD (Failed)"
   ]
  },
  {
   "cell_type": "code",
   "execution_count": null,
   "metadata": {},
   "outputs": [],
   "source": [
    "param_grid = {'bsl_options':{'method':'sgd',\n",
    "                             'n_epochs':[10, 15, 20, 25, 30], \n",
    "                             'reg':[.008, .015, .2, .25, .3], \n",
    "                             'learning_rate':[.003, .005, .01, .015, .025]}}\n",
    "gs = GridSearchCV(BaselineOnly, param_grid, measures=['rmse'], cv=5)\n",
    "gs.fit(sidf)\n",
    "params = gs.best_params['rmse']\n",
    "gs_als = BaselineOnly(n_factors=params['n_factors'], n_epochs=params['n_epochs'], lr_all=params['lr_all'], reg_all=params['reg_all'], verbose=True)"
   ]
  },
  {
   "cell_type": "markdown",
   "metadata": {},
   "source": [
    "#### SVD"
   ]
  },
  {
   "cell_type": "markdown",
   "metadata": {},
   "source": [
    "Here I performed GridSearchCV the SVD function to see if it can be optimized further.  \n",
    "After performing grid search cross validation, the optimum hyperparameters for SVD resulted in the following:\n",
    "- `'n_factors'`: **20** \n",
    "- `'n_epochs'`: **10** \n",
    "- `'lr_all'`: **0.01** \n",
    "- `'reg_all'`: **0.05**  \n",
    "  \n",
    "The with optimized hyperparameters, SVD did <u>**NOT perform better than my baseline models**</u>, with an RMSE of <u>**1.2142**</u>. Note that the optimum `n_factors` and `reg_all` were the minumum values instructed to for the grid search to evaluate, while the `n_epochs` and `lr_all` were the maximum. To evaluate further, I could perform a grid search with hyperparameters adjacent to those above."
   ]
  },
  {
   "cell_type": "code",
   "execution_count": 13,
   "metadata": {},
   "outputs": [],
   "source": [
    "param_grid = {'n_factors':[20, 50],'n_epochs':[5, 10],  'lr_all':[0.005,0.01], 'reg_all':[0.002,0.05]}\n",
    "gs = GridSearchCV(SVD, param_grid, measures=['rmse'], cv=5)\n",
    "gs.fit(sidf)\n",
    "params = gs.best_params['rmse']\n",
    "gs_svd = SVD(n_factors=params['n_factors'], n_epochs=params['n_epochs'], lr_all=params['lr_all'], reg_all=params['reg_all'], verbose=True, random_state=1984)"
   ]
  },
  {
   "cell_type": "code",
   "execution_count": 41,
   "metadata": {},
   "outputs": [
    {
     "name": "stdout",
     "output_type": "stream",
     "text": [
      "Evaluating RMSE, MAE of algorithm SVD on 5 split(s).\n",
      "\n",
      "                  Fold 1  Fold 2  Fold 3  Fold 4  Fold 5  Mean    Std     \n",
      "RMSE (testset)    1.2144  1.2081  1.2217  1.2184  1.2083  1.2142  0.0054  \n",
      "MAE (testset)     0.7393  0.7367  0.7427  0.7424  0.7375  0.7397  0.0025  \n",
      "Fit time          11.14   11.10   11.17   11.25   10.97   11.13   0.09    \n",
      "Test time         1.98    2.05    2.03    2.05    1.96    2.02    0.04    \n"
     ]
    },
    {
     "data": {
      "text/plain": [
       "{'test_rmse': array([1.21435208, 1.20805289, 1.2216954 , 1.21839995, 1.20829103]),\n",
       " 'test_mae': array([0.7393403 , 0.73665142, 0.74265809, 0.7424117 , 0.73749491]),\n",
       " 'fit_time': (11.142059564590454,\n",
       "  11.095774412155151,\n",
       "  11.170443296432495,\n",
       "  11.254150390625,\n",
       "  10.971884965896606),\n",
       " 'test_time': (1.9834518432617188,\n",
       "  2.0528981685638428,\n",
       "  2.032770872116089,\n",
       "  2.0463125705718994,\n",
       "  1.9609873294830322)}"
      ]
     },
     "execution_count": 41,
     "metadata": {},
     "output_type": "execute_result"
    }
   ],
   "source": [
    "cross_validate(gs_svd, sidf, cv=5, verbose=True, n_jobs=-1)"
   ]
  },
  {
   "cell_type": "code",
   "execution_count": 21,
   "metadata": {},
   "outputs": [
    {
     "data": {
      "text/plain": [
       "{'n_factors': 20, 'n_epochs': 10, 'lr_all': 0.01, 'reg_all': 0.05}"
      ]
     },
     "execution_count": 21,
     "metadata": {},
     "output_type": "execute_result"
    }
   ],
   "source": [
    "params"
   ]
  },
  {
   "cell_type": "code",
   "execution_count": 28,
   "metadata": {},
   "outputs": [
    {
     "data": {
      "text/plain": [
       "surprise.prediction_algorithms.matrix_factorization.SVD"
      ]
     },
     "execution_count": 28,
     "metadata": {},
     "output_type": "execute_result"
    }
   ],
   "source": [
    "type(gs_svd)"
   ]
  },
  {
   "cell_type": "markdown",
   "metadata": {},
   "source": [
    "# Model Serialization"
   ]
  },
  {
   "cell_type": "markdown",
   "metadata": {},
   "source": [
    "#### Using Surprise's `dump` module:"
   ]
  },
  {
   "cell_type": "code",
   "execution_count": 38,
   "metadata": {},
   "outputs": [
    {
     "name": "stdout",
     "output_type": "stream",
     "text": [
      "Processing epoch 0\n",
      "Processing epoch 1\n",
      "Processing epoch 2\n",
      "Processing epoch 3\n",
      "Processing epoch 4\n",
      "Processing epoch 5\n",
      "Processing epoch 6\n",
      "Processing epoch 7\n",
      "Processing epoch 8\n",
      "Processing epoch 9\n"
     ]
    }
   ],
   "source": [
    "trainset = sidf.build_full_trainset()\n",
    "\n",
    "algo = gs_svd\n",
    "algo.fit(trainset)\n",
    "\n",
    "# Compute predictions of the 'original' algorithm.\n",
    "predictions = algo.test(trainset.build_testset())\n",
    "\n",
    "# Here we use scikit-surprise's dump module to save the optimized algorithm state.\n",
    "file_name = 'models/serialized_optimum_svd_model'\n",
    "dump.dump(file_name, algo=algo)\n",
    "_, loaded_algo = dump.load(file_name) # ... and here we reload the file...\n",
    "\n",
    "# and now we ensure that the algo is still the same by checking the predictions.\n",
    "predictions_loaded_algo = loaded_algo.test(trainset.build_testset())\n",
    "assert predictions == predictions_loaded_algo\n",
    "print('Predictions are the same')"
   ]
  },
  {
   "cell_type": "markdown",
   "metadata": {},
   "source": [
    "#### Using Pickle"
   ]
  },
  {
   "cell_type": "code",
   "execution_count": null,
   "metadata": {},
   "outputs": [],
   "source": [
    "pickle_out = open(\"optimized_svd_model.pickle\",\"wb\")\n",
    "pickle.dump(gs_svd, pickle_out)\n",
    "pickle_out.close()"
   ]
  },
  {
   "cell_type": "markdown",
   "metadata": {},
   "source": [
    "# Model Parallelism"
   ]
  },
  {
   "cell_type": "markdown",
   "metadata": {},
   "source": [
    "While `scikit-surprise` is not inherently equipped to run computations on cloud distributed network clusters, AWS allows for model parallelism. "
   ]
  },
  {
   "cell_type": "markdown",
   "metadata": {},
   "source": [
    "## Collaborative Filtering Models"
   ]
  },
  {
   "cell_type": "markdown",
   "metadata": {},
   "source": [
    "**KNN with Means**  \n",
    "- First I will run KNN Means on user-user similarity, and will evaluate item-item similarity predictions as well. \n",
    "- I use **Pearson** correlation coefficient as my siilarity metric, as it best accounts for ratings of `0` not actually representing values less than ratings of `1`. \n",
    "- Additionally, I increased the number for nearest `k` to 350, from the default of 40. With a dataset so large, it would be a shame not to consider many users. I could increase this further in later iterations.  \n",
    "- Due to memory restrictions, I've reduced the numebr for `k` to see if we can get the algorithm to function."
   ]
  },
  {
   "cell_type": "code",
   "execution_count": null,
   "metadata": {},
   "outputs": [],
   "source": [
    "cross_validate(KNNWithMeans(k=10, sim_options={'name':'pearson', 'user_based':'True'}), sidf_zero, measures='rmse', cv=5, verbose=True)"
   ]
  },
  {
   "cell_type": "code",
   "execution_count": null,
   "metadata": {},
   "outputs": [],
   "source": []
  },
  {
   "cell_type": "code",
   "execution_count": null,
   "metadata": {},
   "outputs": [],
   "source": []
  },
  {
   "cell_type": "code",
   "execution_count": null,
   "metadata": {},
   "outputs": [],
   "source": [
    "cross_validate(KNNWithMeans(k=10, sim_options={'name':'pearson', 'user_based':'True'}), sidf, measures='rmse', cv=5, verbose=True)"
   ]
  },
  {
   "cell_type": "code",
   "execution_count": null,
   "metadata": {},
   "outputs": [],
   "source": [
    "# param_grid = {'n_factors':[20, 50],'n_epochs':[5, 10],  'lr_all':[0.005,0.01], 'reg_all':[0.002,0.05]}\n",
    "# gs = GridSearchCV(SVD, param_grid, measures=['rmse'], cv=5)\n",
    "# gs.fit(sidf)\n",
    "# params = gs.best_params['rmse']\n",
    "# gs_svd = SVD(n_factors=params['n_factors'], n_epochs=params['n_epochs'], lr_all=params['lr_all'], reg_all=params['reg_all'], verbose=True, random_state=1984)"
   ]
  },
  {
   "cell_type": "markdown",
   "metadata": {},
   "source": [
    "**KNNWithMeans Parameters:**\n",
    "- n_factors: **100** (Default) – The number of factors. \n",
    "- `n_epochs`: **20** (Default) – The number of iteration of the SGD procedure. \n",
    "- `biased`: **True** (Default) (bool) – Whether to use baselines (or biases). See note above. \n",
    "- `init_mean`: **0** (Default) – The mean of the normal distribution for factor vectors initialization. \n",
    "- `init_std_dev`: (Default) – The standard deviation of the normal distribution for factor vectors initialization. \n",
    "- `lr_all`: **0.005** (Default) – The learning rate for all parameters.\n",
    "- `reg_all`: **0.02** (Default) – The regularization term for all parameters. \n",
    "- `lr_bu`: **None** (Default) – The learning rate for 𝑏𝑢. Takes precedence over lr_all if set. \n",
    "- `lr_bi`: **None** (Default) – The learning rate for 𝑏𝑖. Takes precedence over lr_all if set. \n",
    "- `lr_pu`: **None** (Default) – The learning rate for 𝑝𝑢. Takes precedence over lr_all if set. \n",
    "- `lr_qi`: **None** (Default) – The learning rate for 𝑞𝑖. Takes precedence over lr_all if set. \n",
    "- `reg_bu`: **None** (Default) – The regularization term for 𝑏𝑢. Takes precedence over reg_all if set. \n",
    "- `reg_bi`: **None** (Default) – The regularization term for 𝑏𝑖. Takes precedence over reg_all if set. \n",
    "- `reg_pu`: **None** (Default) – The regularization term for 𝑝𝑢. Takes precedence over reg_all if set. \n",
    "- `reg_qi`: **None** (Default) – The regularization term for 𝑞𝑖. Takes precedence over reg_all if set. \n",
    "- `random_state`: **None** (Default) (int, RandomState instance from numpy, or None) – Determines the RNG that will be used for initialization. If int, random_state will be used as a seed for a new RNG. This is useful to get the same initialization over multiple calls to fit(). If RandomState instance, this same instance is used as RNG. If None, the current RNG from numpy is used. Default is None.\n",
    "- `verbose`: **False** (Default) – If True, prints the current epoch. "
   ]
  },
  {
   "cell_type": "code",
   "execution_count": null,
   "metadata": {},
   "outputs": [],
   "source": [
    "cross_validate(KNNWithMeans(k=100, sim_options={'name':'pearson', 'user_based':'True'}), sidf, measures='rmse', cv=5, verbose=True)"
   ]
  },
  {
   "cell_type": "code",
   "execution_count": 13,
   "metadata": {},
   "outputs": [
    {
     "name": "stdout",
     "output_type": "stream",
     "text": [
      "Computing the pearson similarity matrix...\n"
     ]
    },
    {
     "ename": "MemoryError",
     "evalue": "Unable to allocate 371. GiB for an array with shape (223246, 223246) and data type int64",
     "output_type": "error",
     "traceback": [
      "\u001b[0;31m---------------------------------------------------------------------------\u001b[0m",
      "\u001b[0;31mMemoryError\u001b[0m                               Traceback (most recent call last)",
      "\u001b[0;32m<ipython-input-13-185a7234f2c0>\u001b[0m in \u001b[0;36m<module>\u001b[0;34m\u001b[0m\n\u001b[0;32m----> 1\u001b[0;31m \u001b[0mcross_validate\u001b[0m\u001b[0;34m(\u001b[0m\u001b[0mKNNWithMeans\u001b[0m\u001b[0;34m(\u001b[0m\u001b[0mk\u001b[0m\u001b[0;34m=\u001b[0m\u001b[0;36m350\u001b[0m\u001b[0;34m,\u001b[0m \u001b[0msim_options\u001b[0m\u001b[0;34m=\u001b[0m\u001b[0;34m{\u001b[0m\u001b[0;34m'name'\u001b[0m\u001b[0;34m:\u001b[0m\u001b[0;34m'pearson'\u001b[0m\u001b[0;34m,\u001b[0m \u001b[0;34m'user_based'\u001b[0m\u001b[0;34m:\u001b[0m\u001b[0;34m'True'\u001b[0m\u001b[0;34m}\u001b[0m\u001b[0;34m)\u001b[0m\u001b[0;34m,\u001b[0m \u001b[0msidf\u001b[0m\u001b[0;34m,\u001b[0m \u001b[0mmeasures\u001b[0m\u001b[0;34m=\u001b[0m\u001b[0;34m'rmse'\u001b[0m\u001b[0;34m,\u001b[0m \u001b[0mcv\u001b[0m\u001b[0;34m=\u001b[0m\u001b[0;36m50\u001b[0m\u001b[0;34m,\u001b[0m \u001b[0mverbose\u001b[0m\u001b[0;34m=\u001b[0m\u001b[0;32mTrue\u001b[0m\u001b[0;34m)\u001b[0m\u001b[0;34m\u001b[0m\u001b[0;34m\u001b[0m\u001b[0m\n\u001b[0m",
      "\u001b[0;32m~/anaconda3/envs/python3/lib/python3.6/site-packages/surprise/model_selection/validation.py\u001b[0m in \u001b[0;36mcross_validate\u001b[0;34m(algo, data, measures, cv, return_train_measures, n_jobs, pre_dispatch, verbose)\u001b[0m\n\u001b[1;32m    101\u001b[0m                                            return_train_measures)\n\u001b[1;32m    102\u001b[0m                     for (trainset, testset) in cv.split(data))\n\u001b[0;32m--> 103\u001b[0;31m     \u001b[0mout\u001b[0m \u001b[0;34m=\u001b[0m \u001b[0mParallel\u001b[0m\u001b[0;34m(\u001b[0m\u001b[0mn_jobs\u001b[0m\u001b[0;34m=\u001b[0m\u001b[0mn_jobs\u001b[0m\u001b[0;34m,\u001b[0m \u001b[0mpre_dispatch\u001b[0m\u001b[0;34m=\u001b[0m\u001b[0mpre_dispatch\u001b[0m\u001b[0;34m)\u001b[0m\u001b[0;34m(\u001b[0m\u001b[0mdelayed_list\u001b[0m\u001b[0;34m)\u001b[0m\u001b[0;34m\u001b[0m\u001b[0;34m\u001b[0m\u001b[0m\n\u001b[0m\u001b[1;32m    104\u001b[0m \u001b[0;34m\u001b[0m\u001b[0m\n\u001b[1;32m    105\u001b[0m     (test_measures_dicts,\n",
      "\u001b[0;32m~/anaconda3/envs/python3/lib/python3.6/site-packages/joblib/parallel.py\u001b[0m in \u001b[0;36m__call__\u001b[0;34m(self, iterable)\u001b[0m\n\u001b[1;32m   1039\u001b[0m             \u001b[0;31m# remaining jobs.\u001b[0m\u001b[0;34m\u001b[0m\u001b[0;34m\u001b[0m\u001b[0;34m\u001b[0m\u001b[0m\n\u001b[1;32m   1040\u001b[0m             \u001b[0mself\u001b[0m\u001b[0;34m.\u001b[0m\u001b[0m_iterating\u001b[0m \u001b[0;34m=\u001b[0m \u001b[0;32mFalse\u001b[0m\u001b[0;34m\u001b[0m\u001b[0;34m\u001b[0m\u001b[0m\n\u001b[0;32m-> 1041\u001b[0;31m             \u001b[0;32mif\u001b[0m \u001b[0mself\u001b[0m\u001b[0;34m.\u001b[0m\u001b[0mdispatch_one_batch\u001b[0m\u001b[0;34m(\u001b[0m\u001b[0miterator\u001b[0m\u001b[0;34m)\u001b[0m\u001b[0;34m:\u001b[0m\u001b[0;34m\u001b[0m\u001b[0;34m\u001b[0m\u001b[0m\n\u001b[0m\u001b[1;32m   1042\u001b[0m                 \u001b[0mself\u001b[0m\u001b[0;34m.\u001b[0m\u001b[0m_iterating\u001b[0m \u001b[0;34m=\u001b[0m \u001b[0mself\u001b[0m\u001b[0;34m.\u001b[0m\u001b[0m_original_iterator\u001b[0m \u001b[0;32mis\u001b[0m \u001b[0;32mnot\u001b[0m \u001b[0;32mNone\u001b[0m\u001b[0;34m\u001b[0m\u001b[0;34m\u001b[0m\u001b[0m\n\u001b[1;32m   1043\u001b[0m \u001b[0;34m\u001b[0m\u001b[0m\n",
      "\u001b[0;32m~/anaconda3/envs/python3/lib/python3.6/site-packages/joblib/parallel.py\u001b[0m in \u001b[0;36mdispatch_one_batch\u001b[0;34m(self, iterator)\u001b[0m\n\u001b[1;32m    857\u001b[0m                 \u001b[0;32mreturn\u001b[0m \u001b[0;32mFalse\u001b[0m\u001b[0;34m\u001b[0m\u001b[0;34m\u001b[0m\u001b[0m\n\u001b[1;32m    858\u001b[0m             \u001b[0;32melse\u001b[0m\u001b[0;34m:\u001b[0m\u001b[0;34m\u001b[0m\u001b[0;34m\u001b[0m\u001b[0m\n\u001b[0;32m--> 859\u001b[0;31m                 \u001b[0mself\u001b[0m\u001b[0;34m.\u001b[0m\u001b[0m_dispatch\u001b[0m\u001b[0;34m(\u001b[0m\u001b[0mtasks\u001b[0m\u001b[0;34m)\u001b[0m\u001b[0;34m\u001b[0m\u001b[0;34m\u001b[0m\u001b[0m\n\u001b[0m\u001b[1;32m    860\u001b[0m                 \u001b[0;32mreturn\u001b[0m \u001b[0;32mTrue\u001b[0m\u001b[0;34m\u001b[0m\u001b[0;34m\u001b[0m\u001b[0m\n\u001b[1;32m    861\u001b[0m \u001b[0;34m\u001b[0m\u001b[0m\n",
      "\u001b[0;32m~/anaconda3/envs/python3/lib/python3.6/site-packages/joblib/parallel.py\u001b[0m in \u001b[0;36m_dispatch\u001b[0;34m(self, batch)\u001b[0m\n\u001b[1;32m    775\u001b[0m         \u001b[0;32mwith\u001b[0m \u001b[0mself\u001b[0m\u001b[0;34m.\u001b[0m\u001b[0m_lock\u001b[0m\u001b[0;34m:\u001b[0m\u001b[0;34m\u001b[0m\u001b[0;34m\u001b[0m\u001b[0m\n\u001b[1;32m    776\u001b[0m             \u001b[0mjob_idx\u001b[0m \u001b[0;34m=\u001b[0m \u001b[0mlen\u001b[0m\u001b[0;34m(\u001b[0m\u001b[0mself\u001b[0m\u001b[0;34m.\u001b[0m\u001b[0m_jobs\u001b[0m\u001b[0;34m)\u001b[0m\u001b[0;34m\u001b[0m\u001b[0;34m\u001b[0m\u001b[0m\n\u001b[0;32m--> 777\u001b[0;31m             \u001b[0mjob\u001b[0m \u001b[0;34m=\u001b[0m \u001b[0mself\u001b[0m\u001b[0;34m.\u001b[0m\u001b[0m_backend\u001b[0m\u001b[0;34m.\u001b[0m\u001b[0mapply_async\u001b[0m\u001b[0;34m(\u001b[0m\u001b[0mbatch\u001b[0m\u001b[0;34m,\u001b[0m \u001b[0mcallback\u001b[0m\u001b[0;34m=\u001b[0m\u001b[0mcb\u001b[0m\u001b[0;34m)\u001b[0m\u001b[0;34m\u001b[0m\u001b[0;34m\u001b[0m\u001b[0m\n\u001b[0m\u001b[1;32m    778\u001b[0m             \u001b[0;31m# A job can complete so quickly than its callback is\u001b[0m\u001b[0;34m\u001b[0m\u001b[0;34m\u001b[0m\u001b[0;34m\u001b[0m\u001b[0m\n\u001b[1;32m    779\u001b[0m             \u001b[0;31m# called before we get here, causing self._jobs to\u001b[0m\u001b[0;34m\u001b[0m\u001b[0;34m\u001b[0m\u001b[0;34m\u001b[0m\u001b[0m\n",
      "\u001b[0;32m~/anaconda3/envs/python3/lib/python3.6/site-packages/joblib/_parallel_backends.py\u001b[0m in \u001b[0;36mapply_async\u001b[0;34m(self, func, callback)\u001b[0m\n\u001b[1;32m    206\u001b[0m     \u001b[0;32mdef\u001b[0m \u001b[0mapply_async\u001b[0m\u001b[0;34m(\u001b[0m\u001b[0mself\u001b[0m\u001b[0;34m,\u001b[0m \u001b[0mfunc\u001b[0m\u001b[0;34m,\u001b[0m \u001b[0mcallback\u001b[0m\u001b[0;34m=\u001b[0m\u001b[0;32mNone\u001b[0m\u001b[0;34m)\u001b[0m\u001b[0;34m:\u001b[0m\u001b[0;34m\u001b[0m\u001b[0;34m\u001b[0m\u001b[0m\n\u001b[1;32m    207\u001b[0m         \u001b[0;34m\"\"\"Schedule a func to be run\"\"\"\u001b[0m\u001b[0;34m\u001b[0m\u001b[0;34m\u001b[0m\u001b[0m\n\u001b[0;32m--> 208\u001b[0;31m         \u001b[0mresult\u001b[0m \u001b[0;34m=\u001b[0m \u001b[0mImmediateResult\u001b[0m\u001b[0;34m(\u001b[0m\u001b[0mfunc\u001b[0m\u001b[0;34m)\u001b[0m\u001b[0;34m\u001b[0m\u001b[0;34m\u001b[0m\u001b[0m\n\u001b[0m\u001b[1;32m    209\u001b[0m         \u001b[0;32mif\u001b[0m \u001b[0mcallback\u001b[0m\u001b[0;34m:\u001b[0m\u001b[0;34m\u001b[0m\u001b[0;34m\u001b[0m\u001b[0m\n\u001b[1;32m    210\u001b[0m             \u001b[0mcallback\u001b[0m\u001b[0;34m(\u001b[0m\u001b[0mresult\u001b[0m\u001b[0;34m)\u001b[0m\u001b[0;34m\u001b[0m\u001b[0;34m\u001b[0m\u001b[0m\n",
      "\u001b[0;32m~/anaconda3/envs/python3/lib/python3.6/site-packages/joblib/_parallel_backends.py\u001b[0m in \u001b[0;36m__init__\u001b[0;34m(self, batch)\u001b[0m\n\u001b[1;32m    570\u001b[0m         \u001b[0;31m# Don't delay the application, to avoid keeping the input\u001b[0m\u001b[0;34m\u001b[0m\u001b[0;34m\u001b[0m\u001b[0;34m\u001b[0m\u001b[0m\n\u001b[1;32m    571\u001b[0m         \u001b[0;31m# arguments in memory\u001b[0m\u001b[0;34m\u001b[0m\u001b[0;34m\u001b[0m\u001b[0;34m\u001b[0m\u001b[0m\n\u001b[0;32m--> 572\u001b[0;31m         \u001b[0mself\u001b[0m\u001b[0;34m.\u001b[0m\u001b[0mresults\u001b[0m \u001b[0;34m=\u001b[0m \u001b[0mbatch\u001b[0m\u001b[0;34m(\u001b[0m\u001b[0;34m)\u001b[0m\u001b[0;34m\u001b[0m\u001b[0;34m\u001b[0m\u001b[0m\n\u001b[0m\u001b[1;32m    573\u001b[0m \u001b[0;34m\u001b[0m\u001b[0m\n\u001b[1;32m    574\u001b[0m     \u001b[0;32mdef\u001b[0m \u001b[0mget\u001b[0m\u001b[0;34m(\u001b[0m\u001b[0mself\u001b[0m\u001b[0;34m)\u001b[0m\u001b[0;34m:\u001b[0m\u001b[0;34m\u001b[0m\u001b[0;34m\u001b[0m\u001b[0m\n",
      "\u001b[0;32m~/anaconda3/envs/python3/lib/python3.6/site-packages/joblib/parallel.py\u001b[0m in \u001b[0;36m__call__\u001b[0;34m(self)\u001b[0m\n\u001b[1;32m    261\u001b[0m         \u001b[0;32mwith\u001b[0m \u001b[0mparallel_backend\u001b[0m\u001b[0;34m(\u001b[0m\u001b[0mself\u001b[0m\u001b[0;34m.\u001b[0m\u001b[0m_backend\u001b[0m\u001b[0;34m,\u001b[0m \u001b[0mn_jobs\u001b[0m\u001b[0;34m=\u001b[0m\u001b[0mself\u001b[0m\u001b[0;34m.\u001b[0m\u001b[0m_n_jobs\u001b[0m\u001b[0;34m)\u001b[0m\u001b[0;34m:\u001b[0m\u001b[0;34m\u001b[0m\u001b[0;34m\u001b[0m\u001b[0m\n\u001b[1;32m    262\u001b[0m             return [func(*args, **kwargs)\n\u001b[0;32m--> 263\u001b[0;31m                     for func, args, kwargs in self.items]\n\u001b[0m\u001b[1;32m    264\u001b[0m \u001b[0;34m\u001b[0m\u001b[0m\n\u001b[1;32m    265\u001b[0m     \u001b[0;32mdef\u001b[0m \u001b[0m__reduce__\u001b[0m\u001b[0;34m(\u001b[0m\u001b[0mself\u001b[0m\u001b[0;34m)\u001b[0m\u001b[0;34m:\u001b[0m\u001b[0;34m\u001b[0m\u001b[0;34m\u001b[0m\u001b[0m\n",
      "\u001b[0;32m~/anaconda3/envs/python3/lib/python3.6/site-packages/joblib/parallel.py\u001b[0m in \u001b[0;36m<listcomp>\u001b[0;34m(.0)\u001b[0m\n\u001b[1;32m    261\u001b[0m         \u001b[0;32mwith\u001b[0m \u001b[0mparallel_backend\u001b[0m\u001b[0;34m(\u001b[0m\u001b[0mself\u001b[0m\u001b[0;34m.\u001b[0m\u001b[0m_backend\u001b[0m\u001b[0;34m,\u001b[0m \u001b[0mn_jobs\u001b[0m\u001b[0;34m=\u001b[0m\u001b[0mself\u001b[0m\u001b[0;34m.\u001b[0m\u001b[0m_n_jobs\u001b[0m\u001b[0;34m)\u001b[0m\u001b[0;34m:\u001b[0m\u001b[0;34m\u001b[0m\u001b[0;34m\u001b[0m\u001b[0m\n\u001b[1;32m    262\u001b[0m             return [func(*args, **kwargs)\n\u001b[0;32m--> 263\u001b[0;31m                     for func, args, kwargs in self.items]\n\u001b[0m\u001b[1;32m    264\u001b[0m \u001b[0;34m\u001b[0m\u001b[0m\n\u001b[1;32m    265\u001b[0m     \u001b[0;32mdef\u001b[0m \u001b[0m__reduce__\u001b[0m\u001b[0;34m(\u001b[0m\u001b[0mself\u001b[0m\u001b[0;34m)\u001b[0m\u001b[0;34m:\u001b[0m\u001b[0;34m\u001b[0m\u001b[0;34m\u001b[0m\u001b[0m\n",
      "\u001b[0;32m~/anaconda3/envs/python3/lib/python3.6/site-packages/surprise/model_selection/validation.py\u001b[0m in \u001b[0;36mfit_and_score\u001b[0;34m(algo, trainset, testset, measures, return_train_measures)\u001b[0m\n\u001b[1;32m    164\u001b[0m \u001b[0;34m\u001b[0m\u001b[0m\n\u001b[1;32m    165\u001b[0m     \u001b[0mstart_fit\u001b[0m \u001b[0;34m=\u001b[0m \u001b[0mtime\u001b[0m\u001b[0;34m.\u001b[0m\u001b[0mtime\u001b[0m\u001b[0;34m(\u001b[0m\u001b[0;34m)\u001b[0m\u001b[0;34m\u001b[0m\u001b[0;34m\u001b[0m\u001b[0m\n\u001b[0;32m--> 166\u001b[0;31m     \u001b[0malgo\u001b[0m\u001b[0;34m.\u001b[0m\u001b[0mfit\u001b[0m\u001b[0;34m(\u001b[0m\u001b[0mtrainset\u001b[0m\u001b[0;34m)\u001b[0m\u001b[0;34m\u001b[0m\u001b[0;34m\u001b[0m\u001b[0m\n\u001b[0m\u001b[1;32m    167\u001b[0m     \u001b[0mfit_time\u001b[0m \u001b[0;34m=\u001b[0m \u001b[0mtime\u001b[0m\u001b[0;34m.\u001b[0m\u001b[0mtime\u001b[0m\u001b[0;34m(\u001b[0m\u001b[0;34m)\u001b[0m \u001b[0;34m-\u001b[0m \u001b[0mstart_fit\u001b[0m\u001b[0;34m\u001b[0m\u001b[0;34m\u001b[0m\u001b[0m\n\u001b[1;32m    168\u001b[0m     \u001b[0mstart_test\u001b[0m \u001b[0;34m=\u001b[0m \u001b[0mtime\u001b[0m\u001b[0;34m.\u001b[0m\u001b[0mtime\u001b[0m\u001b[0;34m(\u001b[0m\u001b[0;34m)\u001b[0m\u001b[0;34m\u001b[0m\u001b[0;34m\u001b[0m\u001b[0m\n",
      "\u001b[0;32m~/anaconda3/envs/python3/lib/python3.6/site-packages/surprise/prediction_algorithms/knns.py\u001b[0m in \u001b[0;36mfit\u001b[0;34m(self, trainset)\u001b[0m\n\u001b[1;32m    176\u001b[0m \u001b[0;34m\u001b[0m\u001b[0m\n\u001b[1;32m    177\u001b[0m         \u001b[0mSymmetricAlgo\u001b[0m\u001b[0;34m.\u001b[0m\u001b[0mfit\u001b[0m\u001b[0;34m(\u001b[0m\u001b[0mself\u001b[0m\u001b[0;34m,\u001b[0m \u001b[0mtrainset\u001b[0m\u001b[0;34m)\u001b[0m\u001b[0;34m\u001b[0m\u001b[0;34m\u001b[0m\u001b[0m\n\u001b[0;32m--> 178\u001b[0;31m         \u001b[0mself\u001b[0m\u001b[0;34m.\u001b[0m\u001b[0msim\u001b[0m \u001b[0;34m=\u001b[0m \u001b[0mself\u001b[0m\u001b[0;34m.\u001b[0m\u001b[0mcompute_similarities\u001b[0m\u001b[0;34m(\u001b[0m\u001b[0;34m)\u001b[0m\u001b[0;34m\u001b[0m\u001b[0;34m\u001b[0m\u001b[0m\n\u001b[0m\u001b[1;32m    179\u001b[0m \u001b[0;34m\u001b[0m\u001b[0m\n\u001b[1;32m    180\u001b[0m         \u001b[0mself\u001b[0m\u001b[0;34m.\u001b[0m\u001b[0mmeans\u001b[0m \u001b[0;34m=\u001b[0m \u001b[0mnp\u001b[0m\u001b[0;34m.\u001b[0m\u001b[0mzeros\u001b[0m\u001b[0;34m(\u001b[0m\u001b[0mself\u001b[0m\u001b[0;34m.\u001b[0m\u001b[0mn_x\u001b[0m\u001b[0;34m)\u001b[0m\u001b[0;34m\u001b[0m\u001b[0;34m\u001b[0m\u001b[0m\n",
      "\u001b[0;32m~/anaconda3/envs/python3/lib/python3.6/site-packages/surprise/prediction_algorithms/algo_base.py\u001b[0m in \u001b[0;36mcompute_similarities\u001b[0;34m(self)\u001b[0m\n\u001b[1;32m    247\u001b[0m             \u001b[0;32mif\u001b[0m \u001b[0mgetattr\u001b[0m\u001b[0;34m(\u001b[0m\u001b[0mself\u001b[0m\u001b[0;34m,\u001b[0m \u001b[0;34m'verbose'\u001b[0m\u001b[0;34m,\u001b[0m \u001b[0;32mFalse\u001b[0m\u001b[0;34m)\u001b[0m\u001b[0;34m:\u001b[0m\u001b[0;34m\u001b[0m\u001b[0;34m\u001b[0m\u001b[0m\n\u001b[1;32m    248\u001b[0m                 \u001b[0mprint\u001b[0m\u001b[0;34m(\u001b[0m\u001b[0;34m'Computing the {0} similarity matrix...'\u001b[0m\u001b[0;34m.\u001b[0m\u001b[0mformat\u001b[0m\u001b[0;34m(\u001b[0m\u001b[0mname\u001b[0m\u001b[0;34m)\u001b[0m\u001b[0;34m)\u001b[0m\u001b[0;34m\u001b[0m\u001b[0;34m\u001b[0m\u001b[0m\n\u001b[0;32m--> 249\u001b[0;31m             \u001b[0msim\u001b[0m \u001b[0;34m=\u001b[0m \u001b[0mconstruction_func\u001b[0m\u001b[0;34m[\u001b[0m\u001b[0mname\u001b[0m\u001b[0;34m]\u001b[0m\u001b[0;34m(\u001b[0m\u001b[0;34m*\u001b[0m\u001b[0margs\u001b[0m\u001b[0;34m)\u001b[0m\u001b[0;34m\u001b[0m\u001b[0;34m\u001b[0m\u001b[0m\n\u001b[0m\u001b[1;32m    250\u001b[0m             \u001b[0;32mif\u001b[0m \u001b[0mgetattr\u001b[0m\u001b[0;34m(\u001b[0m\u001b[0mself\u001b[0m\u001b[0;34m,\u001b[0m \u001b[0;34m'verbose'\u001b[0m\u001b[0;34m,\u001b[0m \u001b[0;32mFalse\u001b[0m\u001b[0;34m)\u001b[0m\u001b[0;34m:\u001b[0m\u001b[0;34m\u001b[0m\u001b[0;34m\u001b[0m\u001b[0m\n\u001b[1;32m    251\u001b[0m                 \u001b[0mprint\u001b[0m\u001b[0;34m(\u001b[0m\u001b[0;34m'Done computing similarity matrix.'\u001b[0m\u001b[0;34m)\u001b[0m\u001b[0;34m\u001b[0m\u001b[0;34m\u001b[0m\u001b[0m\n",
      "\u001b[0;32m~/anaconda3/envs/python3/lib/python3.6/site-packages/surprise/similarities.pyx\u001b[0m in \u001b[0;36msurprise.similarities.pearson\u001b[0;34m()\u001b[0m\n",
      "\u001b[0;31mMemoryError\u001b[0m: Unable to allocate 371. GiB for an array with shape (223246, 223246) and data type int64"
     ]
    }
   ],
   "source": [
    "cross_validate(KNNWithMeans(k=350, sim_options={'name':'pearson', 'user_based':'True'}), sidf, measures='rmse', cv=50, verbose=True)"
   ]
  },
  {
   "cell_type": "code",
   "execution_count": 17,
   "metadata": {
    "collapsed": true
   },
   "outputs": [
    {
     "name": "stderr",
     "output_type": "stream",
     "text": [
      "[Parallel(n_jobs=1)]: Using backend SequentialBackend with 1 concurrent workers.\n"
     ]
    },
    {
     "ename": "KeyboardInterrupt",
     "evalue": "",
     "output_type": "error",
     "traceback": [
      "\u001b[0;31m---------------------------------------------------------------------------\u001b[0m",
      "\u001b[0;31mKeyboardInterrupt\u001b[0m                         Traceback (most recent call last)",
      "\u001b[0;32m<ipython-input-17-0f12bdf39171>\u001b[0m in \u001b[0;36m<module>\u001b[0;34m\u001b[0m\n\u001b[1;32m      1\u001b[0m \u001b[0mparam_grid\u001b[0m \u001b[0;34m=\u001b[0m \u001b[0;34m{\u001b[0m\u001b[0;34m'n_factors'\u001b[0m\u001b[0;34m:\u001b[0m\u001b[0;34m[\u001b[0m\u001b[0;36m50\u001b[0m\u001b[0;34m,\u001b[0m\u001b[0;36m100\u001b[0m\u001b[0;34m,\u001b[0m\u001b[0;36m150\u001b[0m\u001b[0;34m]\u001b[0m\u001b[0;34m,\u001b[0m\u001b[0;34m'n_epochs'\u001b[0m\u001b[0;34m:\u001b[0m\u001b[0;34m[\u001b[0m\u001b[0;36m20\u001b[0m\u001b[0;34m,\u001b[0m\u001b[0;36m30\u001b[0m\u001b[0;34m]\u001b[0m\u001b[0;34m,\u001b[0m  \u001b[0;34m'lr_all'\u001b[0m\u001b[0;34m:\u001b[0m\u001b[0;34m[\u001b[0m\u001b[0;36m0.005\u001b[0m\u001b[0;34m,\u001b[0m\u001b[0;36m0.01\u001b[0m\u001b[0;34m]\u001b[0m\u001b[0;34m,\u001b[0m\u001b[0;34m'reg_all'\u001b[0m\u001b[0;34m:\u001b[0m\u001b[0;34m[\u001b[0m\u001b[0;36m0.02\u001b[0m\u001b[0;34m,\u001b[0m\u001b[0;36m0.1\u001b[0m\u001b[0;34m]\u001b[0m\u001b[0;34m}\u001b[0m\u001b[0;34m\u001b[0m\u001b[0;34m\u001b[0m\u001b[0m\n\u001b[1;32m      2\u001b[0m \u001b[0mgs\u001b[0m \u001b[0;34m=\u001b[0m \u001b[0mGridSearchCV\u001b[0m\u001b[0;34m(\u001b[0m\u001b[0mSVD\u001b[0m\u001b[0;34m,\u001b[0m \u001b[0mparam_grid\u001b[0m\u001b[0;34m,\u001b[0m \u001b[0mmeasures\u001b[0m\u001b[0;34m=\u001b[0m\u001b[0;34m[\u001b[0m\u001b[0;34m'rmse'\u001b[0m\u001b[0;34m]\u001b[0m\u001b[0;34m,\u001b[0m \u001b[0mcv\u001b[0m\u001b[0;34m=\u001b[0m\u001b[0;36m5\u001b[0m\u001b[0;34m,\u001b[0m \u001b[0mjoblib_verbose\u001b[0m\u001b[0;34m=\u001b[0m\u001b[0;36m1\u001b[0m\u001b[0;34m)\u001b[0m\u001b[0;34m\u001b[0m\u001b[0;34m\u001b[0m\u001b[0m\n\u001b[0;32m----> 3\u001b[0;31m \u001b[0mgs\u001b[0m\u001b[0;34m.\u001b[0m\u001b[0mfit\u001b[0m\u001b[0;34m(\u001b[0m\u001b[0msidf\u001b[0m\u001b[0;34m)\u001b[0m\u001b[0;34m\u001b[0m\u001b[0;34m\u001b[0m\u001b[0m\n\u001b[0m\u001b[1;32m      4\u001b[0m \u001b[0mparams\u001b[0m \u001b[0;34m=\u001b[0m \u001b[0mgs\u001b[0m\u001b[0;34m.\u001b[0m\u001b[0mbest_params\u001b[0m\u001b[0;34m[\u001b[0m\u001b[0;34m'rmse'\u001b[0m\u001b[0;34m]\u001b[0m\u001b[0;34m\u001b[0m\u001b[0;34m\u001b[0m\u001b[0m\n\u001b[1;32m      5\u001b[0m \u001b[0msvdtuned\u001b[0m \u001b[0;34m=\u001b[0m \u001b[0mSVD\u001b[0m\u001b[0;34m(\u001b[0m\u001b[0mn_factors\u001b[0m\u001b[0;34m=\u001b[0m\u001b[0mparams\u001b[0m\u001b[0;34m[\u001b[0m\u001b[0;34m'n_factors'\u001b[0m\u001b[0;34m]\u001b[0m\u001b[0;34m,\u001b[0m \u001b[0mn_epochs\u001b[0m\u001b[0;34m=\u001b[0m\u001b[0mparams\u001b[0m\u001b[0;34m[\u001b[0m\u001b[0;34m'n_epochs'\u001b[0m\u001b[0;34m]\u001b[0m\u001b[0;34m,\u001b[0m\u001b[0mlr_all\u001b[0m\u001b[0;34m=\u001b[0m\u001b[0mparams\u001b[0m\u001b[0;34m[\u001b[0m\u001b[0;34m'lr_all'\u001b[0m\u001b[0;34m]\u001b[0m\u001b[0;34m,\u001b[0m \u001b[0mreg_all\u001b[0m\u001b[0;34m=\u001b[0m\u001b[0mparams\u001b[0m\u001b[0;34m[\u001b[0m\u001b[0;34m'reg_all'\u001b[0m\u001b[0;34m]\u001b[0m\u001b[0;34m)\u001b[0m\u001b[0;34m\u001b[0m\u001b[0;34m\u001b[0m\u001b[0m\n",
      "\u001b[0;32m~/anaconda3/envs/python3/lib/python3.6/site-packages/surprise/model_selection/search.py\u001b[0m in \u001b[0;36mfit\u001b[0;34m(self, data)\u001b[0m\n\u001b[1;32m     88\u001b[0m         out = Parallel(n_jobs=self.n_jobs,\n\u001b[1;32m     89\u001b[0m                        \u001b[0mpre_dispatch\u001b[0m\u001b[0;34m=\u001b[0m\u001b[0mself\u001b[0m\u001b[0;34m.\u001b[0m\u001b[0mpre_dispatch\u001b[0m\u001b[0;34m,\u001b[0m\u001b[0;34m\u001b[0m\u001b[0;34m\u001b[0m\u001b[0m\n\u001b[0;32m---> 90\u001b[0;31m                        verbose=self.joblib_verbose)(delayed_list)\n\u001b[0m\u001b[1;32m     91\u001b[0m \u001b[0;34m\u001b[0m\u001b[0m\n\u001b[1;32m     92\u001b[0m         (test_measures_dicts,\n",
      "\u001b[0;32m~/anaconda3/envs/python3/lib/python3.6/site-packages/joblib/parallel.py\u001b[0m in \u001b[0;36m__call__\u001b[0;34m(self, iterable)\u001b[0m\n\u001b[1;32m   1042\u001b[0m                 \u001b[0mself\u001b[0m\u001b[0;34m.\u001b[0m\u001b[0m_iterating\u001b[0m \u001b[0;34m=\u001b[0m \u001b[0mself\u001b[0m\u001b[0;34m.\u001b[0m\u001b[0m_original_iterator\u001b[0m \u001b[0;32mis\u001b[0m \u001b[0;32mnot\u001b[0m \u001b[0;32mNone\u001b[0m\u001b[0;34m\u001b[0m\u001b[0;34m\u001b[0m\u001b[0m\n\u001b[1;32m   1043\u001b[0m \u001b[0;34m\u001b[0m\u001b[0m\n\u001b[0;32m-> 1044\u001b[0;31m             \u001b[0;32mwhile\u001b[0m \u001b[0mself\u001b[0m\u001b[0;34m.\u001b[0m\u001b[0mdispatch_one_batch\u001b[0m\u001b[0;34m(\u001b[0m\u001b[0miterator\u001b[0m\u001b[0;34m)\u001b[0m\u001b[0;34m:\u001b[0m\u001b[0;34m\u001b[0m\u001b[0;34m\u001b[0m\u001b[0m\n\u001b[0m\u001b[1;32m   1045\u001b[0m                 \u001b[0;32mpass\u001b[0m\u001b[0;34m\u001b[0m\u001b[0;34m\u001b[0m\u001b[0m\n\u001b[1;32m   1046\u001b[0m \u001b[0;34m\u001b[0m\u001b[0m\n",
      "\u001b[0;32m~/anaconda3/envs/python3/lib/python3.6/site-packages/joblib/parallel.py\u001b[0m in \u001b[0;36mdispatch_one_batch\u001b[0;34m(self, iterator)\u001b[0m\n\u001b[1;32m    857\u001b[0m                 \u001b[0;32mreturn\u001b[0m \u001b[0;32mFalse\u001b[0m\u001b[0;34m\u001b[0m\u001b[0;34m\u001b[0m\u001b[0m\n\u001b[1;32m    858\u001b[0m             \u001b[0;32melse\u001b[0m\u001b[0;34m:\u001b[0m\u001b[0;34m\u001b[0m\u001b[0;34m\u001b[0m\u001b[0m\n\u001b[0;32m--> 859\u001b[0;31m                 \u001b[0mself\u001b[0m\u001b[0;34m.\u001b[0m\u001b[0m_dispatch\u001b[0m\u001b[0;34m(\u001b[0m\u001b[0mtasks\u001b[0m\u001b[0;34m)\u001b[0m\u001b[0;34m\u001b[0m\u001b[0;34m\u001b[0m\u001b[0m\n\u001b[0m\u001b[1;32m    860\u001b[0m                 \u001b[0;32mreturn\u001b[0m \u001b[0;32mTrue\u001b[0m\u001b[0;34m\u001b[0m\u001b[0;34m\u001b[0m\u001b[0m\n\u001b[1;32m    861\u001b[0m \u001b[0;34m\u001b[0m\u001b[0m\n",
      "\u001b[0;32m~/anaconda3/envs/python3/lib/python3.6/site-packages/joblib/parallel.py\u001b[0m in \u001b[0;36m_dispatch\u001b[0;34m(self, batch)\u001b[0m\n\u001b[1;32m    775\u001b[0m         \u001b[0;32mwith\u001b[0m \u001b[0mself\u001b[0m\u001b[0;34m.\u001b[0m\u001b[0m_lock\u001b[0m\u001b[0;34m:\u001b[0m\u001b[0;34m\u001b[0m\u001b[0;34m\u001b[0m\u001b[0m\n\u001b[1;32m    776\u001b[0m             \u001b[0mjob_idx\u001b[0m \u001b[0;34m=\u001b[0m \u001b[0mlen\u001b[0m\u001b[0;34m(\u001b[0m\u001b[0mself\u001b[0m\u001b[0;34m.\u001b[0m\u001b[0m_jobs\u001b[0m\u001b[0;34m)\u001b[0m\u001b[0;34m\u001b[0m\u001b[0;34m\u001b[0m\u001b[0m\n\u001b[0;32m--> 777\u001b[0;31m             \u001b[0mjob\u001b[0m \u001b[0;34m=\u001b[0m \u001b[0mself\u001b[0m\u001b[0;34m.\u001b[0m\u001b[0m_backend\u001b[0m\u001b[0;34m.\u001b[0m\u001b[0mapply_async\u001b[0m\u001b[0;34m(\u001b[0m\u001b[0mbatch\u001b[0m\u001b[0;34m,\u001b[0m \u001b[0mcallback\u001b[0m\u001b[0;34m=\u001b[0m\u001b[0mcb\u001b[0m\u001b[0;34m)\u001b[0m\u001b[0;34m\u001b[0m\u001b[0;34m\u001b[0m\u001b[0m\n\u001b[0m\u001b[1;32m    778\u001b[0m             \u001b[0;31m# A job can complete so quickly than its callback is\u001b[0m\u001b[0;34m\u001b[0m\u001b[0;34m\u001b[0m\u001b[0;34m\u001b[0m\u001b[0m\n\u001b[1;32m    779\u001b[0m             \u001b[0;31m# called before we get here, causing self._jobs to\u001b[0m\u001b[0;34m\u001b[0m\u001b[0;34m\u001b[0m\u001b[0;34m\u001b[0m\u001b[0m\n",
      "\u001b[0;32m~/anaconda3/envs/python3/lib/python3.6/site-packages/joblib/_parallel_backends.py\u001b[0m in \u001b[0;36mapply_async\u001b[0;34m(self, func, callback)\u001b[0m\n\u001b[1;32m    206\u001b[0m     \u001b[0;32mdef\u001b[0m \u001b[0mapply_async\u001b[0m\u001b[0;34m(\u001b[0m\u001b[0mself\u001b[0m\u001b[0;34m,\u001b[0m \u001b[0mfunc\u001b[0m\u001b[0;34m,\u001b[0m \u001b[0mcallback\u001b[0m\u001b[0;34m=\u001b[0m\u001b[0;32mNone\u001b[0m\u001b[0;34m)\u001b[0m\u001b[0;34m:\u001b[0m\u001b[0;34m\u001b[0m\u001b[0;34m\u001b[0m\u001b[0m\n\u001b[1;32m    207\u001b[0m         \u001b[0;34m\"\"\"Schedule a func to be run\"\"\"\u001b[0m\u001b[0;34m\u001b[0m\u001b[0;34m\u001b[0m\u001b[0m\n\u001b[0;32m--> 208\u001b[0;31m         \u001b[0mresult\u001b[0m \u001b[0;34m=\u001b[0m \u001b[0mImmediateResult\u001b[0m\u001b[0;34m(\u001b[0m\u001b[0mfunc\u001b[0m\u001b[0;34m)\u001b[0m\u001b[0;34m\u001b[0m\u001b[0;34m\u001b[0m\u001b[0m\n\u001b[0m\u001b[1;32m    209\u001b[0m         \u001b[0;32mif\u001b[0m \u001b[0mcallback\u001b[0m\u001b[0;34m:\u001b[0m\u001b[0;34m\u001b[0m\u001b[0;34m\u001b[0m\u001b[0m\n\u001b[1;32m    210\u001b[0m             \u001b[0mcallback\u001b[0m\u001b[0;34m(\u001b[0m\u001b[0mresult\u001b[0m\u001b[0;34m)\u001b[0m\u001b[0;34m\u001b[0m\u001b[0;34m\u001b[0m\u001b[0m\n",
      "\u001b[0;32m~/anaconda3/envs/python3/lib/python3.6/site-packages/joblib/_parallel_backends.py\u001b[0m in \u001b[0;36m__init__\u001b[0;34m(self, batch)\u001b[0m\n\u001b[1;32m    570\u001b[0m         \u001b[0;31m# Don't delay the application, to avoid keeping the input\u001b[0m\u001b[0;34m\u001b[0m\u001b[0;34m\u001b[0m\u001b[0;34m\u001b[0m\u001b[0m\n\u001b[1;32m    571\u001b[0m         \u001b[0;31m# arguments in memory\u001b[0m\u001b[0;34m\u001b[0m\u001b[0;34m\u001b[0m\u001b[0;34m\u001b[0m\u001b[0m\n\u001b[0;32m--> 572\u001b[0;31m         \u001b[0mself\u001b[0m\u001b[0;34m.\u001b[0m\u001b[0mresults\u001b[0m \u001b[0;34m=\u001b[0m \u001b[0mbatch\u001b[0m\u001b[0;34m(\u001b[0m\u001b[0;34m)\u001b[0m\u001b[0;34m\u001b[0m\u001b[0;34m\u001b[0m\u001b[0m\n\u001b[0m\u001b[1;32m    573\u001b[0m \u001b[0;34m\u001b[0m\u001b[0m\n\u001b[1;32m    574\u001b[0m     \u001b[0;32mdef\u001b[0m \u001b[0mget\u001b[0m\u001b[0;34m(\u001b[0m\u001b[0mself\u001b[0m\u001b[0;34m)\u001b[0m\u001b[0;34m:\u001b[0m\u001b[0;34m\u001b[0m\u001b[0;34m\u001b[0m\u001b[0m\n",
      "\u001b[0;32m~/anaconda3/envs/python3/lib/python3.6/site-packages/joblib/parallel.py\u001b[0m in \u001b[0;36m__call__\u001b[0;34m(self)\u001b[0m\n\u001b[1;32m    261\u001b[0m         \u001b[0;32mwith\u001b[0m \u001b[0mparallel_backend\u001b[0m\u001b[0;34m(\u001b[0m\u001b[0mself\u001b[0m\u001b[0;34m.\u001b[0m\u001b[0m_backend\u001b[0m\u001b[0;34m,\u001b[0m \u001b[0mn_jobs\u001b[0m\u001b[0;34m=\u001b[0m\u001b[0mself\u001b[0m\u001b[0;34m.\u001b[0m\u001b[0m_n_jobs\u001b[0m\u001b[0;34m)\u001b[0m\u001b[0;34m:\u001b[0m\u001b[0;34m\u001b[0m\u001b[0;34m\u001b[0m\u001b[0m\n\u001b[1;32m    262\u001b[0m             return [func(*args, **kwargs)\n\u001b[0;32m--> 263\u001b[0;31m                     for func, args, kwargs in self.items]\n\u001b[0m\u001b[1;32m    264\u001b[0m \u001b[0;34m\u001b[0m\u001b[0m\n\u001b[1;32m    265\u001b[0m     \u001b[0;32mdef\u001b[0m \u001b[0m__reduce__\u001b[0m\u001b[0;34m(\u001b[0m\u001b[0mself\u001b[0m\u001b[0;34m)\u001b[0m\u001b[0;34m:\u001b[0m\u001b[0;34m\u001b[0m\u001b[0;34m\u001b[0m\u001b[0m\n",
      "\u001b[0;32m~/anaconda3/envs/python3/lib/python3.6/site-packages/joblib/parallel.py\u001b[0m in \u001b[0;36m<listcomp>\u001b[0;34m(.0)\u001b[0m\n\u001b[1;32m    261\u001b[0m         \u001b[0;32mwith\u001b[0m \u001b[0mparallel_backend\u001b[0m\u001b[0;34m(\u001b[0m\u001b[0mself\u001b[0m\u001b[0;34m.\u001b[0m\u001b[0m_backend\u001b[0m\u001b[0;34m,\u001b[0m \u001b[0mn_jobs\u001b[0m\u001b[0;34m=\u001b[0m\u001b[0mself\u001b[0m\u001b[0;34m.\u001b[0m\u001b[0m_n_jobs\u001b[0m\u001b[0;34m)\u001b[0m\u001b[0;34m:\u001b[0m\u001b[0;34m\u001b[0m\u001b[0;34m\u001b[0m\u001b[0m\n\u001b[1;32m    262\u001b[0m             return [func(*args, **kwargs)\n\u001b[0;32m--> 263\u001b[0;31m                     for func, args, kwargs in self.items]\n\u001b[0m\u001b[1;32m    264\u001b[0m \u001b[0;34m\u001b[0m\u001b[0m\n\u001b[1;32m    265\u001b[0m     \u001b[0;32mdef\u001b[0m \u001b[0m__reduce__\u001b[0m\u001b[0;34m(\u001b[0m\u001b[0mself\u001b[0m\u001b[0;34m)\u001b[0m\u001b[0;34m:\u001b[0m\u001b[0;34m\u001b[0m\u001b[0;34m\u001b[0m\u001b[0m\n",
      "\u001b[0;32m~/anaconda3/envs/python3/lib/python3.6/site-packages/surprise/model_selection/validation.py\u001b[0m in \u001b[0;36mfit_and_score\u001b[0;34m(algo, trainset, testset, measures, return_train_measures)\u001b[0m\n\u001b[1;32m    164\u001b[0m \u001b[0;34m\u001b[0m\u001b[0m\n\u001b[1;32m    165\u001b[0m     \u001b[0mstart_fit\u001b[0m \u001b[0;34m=\u001b[0m \u001b[0mtime\u001b[0m\u001b[0;34m.\u001b[0m\u001b[0mtime\u001b[0m\u001b[0;34m(\u001b[0m\u001b[0;34m)\u001b[0m\u001b[0;34m\u001b[0m\u001b[0;34m\u001b[0m\u001b[0m\n\u001b[0;32m--> 166\u001b[0;31m     \u001b[0malgo\u001b[0m\u001b[0;34m.\u001b[0m\u001b[0mfit\u001b[0m\u001b[0;34m(\u001b[0m\u001b[0mtrainset\u001b[0m\u001b[0;34m)\u001b[0m\u001b[0;34m\u001b[0m\u001b[0;34m\u001b[0m\u001b[0m\n\u001b[0m\u001b[1;32m    167\u001b[0m     \u001b[0mfit_time\u001b[0m \u001b[0;34m=\u001b[0m \u001b[0mtime\u001b[0m\u001b[0;34m.\u001b[0m\u001b[0mtime\u001b[0m\u001b[0;34m(\u001b[0m\u001b[0;34m)\u001b[0m \u001b[0;34m-\u001b[0m \u001b[0mstart_fit\u001b[0m\u001b[0;34m\u001b[0m\u001b[0;34m\u001b[0m\u001b[0m\n\u001b[1;32m    168\u001b[0m     \u001b[0mstart_test\u001b[0m \u001b[0;34m=\u001b[0m \u001b[0mtime\u001b[0m\u001b[0;34m.\u001b[0m\u001b[0mtime\u001b[0m\u001b[0;34m(\u001b[0m\u001b[0;34m)\u001b[0m\u001b[0;34m\u001b[0m\u001b[0;34m\u001b[0m\u001b[0m\n",
      "\u001b[0;32m~/anaconda3/envs/python3/lib/python3.6/site-packages/surprise/prediction_algorithms/matrix_factorization.pyx\u001b[0m in \u001b[0;36msurprise.prediction_algorithms.matrix_factorization.SVD.fit\u001b[0;34m()\u001b[0m\n",
      "\u001b[0;32m~/anaconda3/envs/python3/lib/python3.6/site-packages/surprise/prediction_algorithms/matrix_factorization.pyx\u001b[0m in \u001b[0;36msurprise.prediction_algorithms.matrix_factorization.SVD.sgd\u001b[0;34m()\u001b[0m\n",
      "\u001b[0;32m~/anaconda3/envs/python3/lib/python3.6/site-packages/surprise/trainset.py\u001b[0m in \u001b[0;36mall_ratings\u001b[0;34m(self)\u001b[0m\n\u001b[1;32m    187\u001b[0m         \u001b[0;32mfor\u001b[0m \u001b[0mu\u001b[0m\u001b[0;34m,\u001b[0m \u001b[0mu_ratings\u001b[0m \u001b[0;32min\u001b[0m \u001b[0miteritems\u001b[0m\u001b[0;34m(\u001b[0m\u001b[0mself\u001b[0m\u001b[0;34m.\u001b[0m\u001b[0mur\u001b[0m\u001b[0;34m)\u001b[0m\u001b[0;34m:\u001b[0m\u001b[0;34m\u001b[0m\u001b[0;34m\u001b[0m\u001b[0m\n\u001b[1;32m    188\u001b[0m             \u001b[0;32mfor\u001b[0m \u001b[0mi\u001b[0m\u001b[0;34m,\u001b[0m \u001b[0mr\u001b[0m \u001b[0;32min\u001b[0m \u001b[0mu_ratings\u001b[0m\u001b[0;34m:\u001b[0m\u001b[0;34m\u001b[0m\u001b[0;34m\u001b[0m\u001b[0m\n\u001b[0;32m--> 189\u001b[0;31m                 \u001b[0;32myield\u001b[0m \u001b[0mu\u001b[0m\u001b[0;34m,\u001b[0m \u001b[0mi\u001b[0m\u001b[0;34m,\u001b[0m \u001b[0mr\u001b[0m\u001b[0;34m\u001b[0m\u001b[0;34m\u001b[0m\u001b[0m\n\u001b[0m\u001b[1;32m    190\u001b[0m \u001b[0;34m\u001b[0m\u001b[0m\n\u001b[1;32m    191\u001b[0m     \u001b[0;32mdef\u001b[0m \u001b[0mbuild_testset\u001b[0m\u001b[0;34m(\u001b[0m\u001b[0mself\u001b[0m\u001b[0;34m)\u001b[0m\u001b[0;34m:\u001b[0m\u001b[0;34m\u001b[0m\u001b[0;34m\u001b[0m\u001b[0m\n",
      "\u001b[0;31mKeyboardInterrupt\u001b[0m: "
     ]
    }
   ],
   "source": [
    "# param_grid = {'n_factors':[50,100,150],'n_epochs':[20,30],  'lr_all':[0.005,0.01],'reg_all':[0.02,0.1]}\n",
    "# gs = GridSearchCV(SVD, param_grid, measures=['rmse'], cv=5, joblib_verbose=1)\n",
    "# gs.fit(sidf)\n",
    "# params = gs.best_params['rmse']\n",
    "# svdtuned = SVD(n_factors=params['n_factors'], n_epochs=params['n_epochs'],lr_all=params['lr_all'], reg_all=params['reg_all'])"
   ]
  },
  {
   "cell_type": "code",
   "execution_count": 47,
   "metadata": {},
   "outputs": [
    {
     "name": "stdout",
     "output_type": "stream",
     "text": [
      "Number of users:  226570 \n",
      "\n",
      "Number of recipes:  231637 \n",
      "\n"
     ]
    }
   ],
   "source": [
    "print('Number of users: ', sidf.df.user_id.value_counts().index.shape[0], '\\n')\n",
    "print('Number of recipes: ', sidf.df.recipe_id.value_counts().index.shape[0], '\\n')\n"
   ]
  },
  {
   "cell_type": "code",
   "execution_count": null,
   "metadata": {},
   "outputs": [],
   "source": [
    "# param_grid = {'n_factors':[20, 100],'n_epochs': [5, 10], 'lr_all': [0.002, 0.005],\n",
    "#               'reg_all': [0.4, 0.6]}\n",
    "# gs_model = GridSearchCV(SVD,param_grid=param_grid,n_jobs = -1,joblib_verbose=5)\n",
    "# gs_model.fit(jokes)\n",
    "\n",
    "# svd = SVD(n_factors=100, n_epochs=10, lr_all=0.005, reg_all=0.4)\n",
    "# svd.fit(trainset)\n",
    "# predictions = svd.test(testset)\n",
    "# print(accuracy.rmse(predictions))"
   ]
  },
  {
   "cell_type": "markdown",
   "metadata": {},
   "source": [
    "## Memory-based"
   ]
  },
  {
   "cell_type": "code",
   "execution_count": 49,
   "metadata": {},
   "outputs": [],
   "source": [
    "trainset, testset = train_test_split(sidf, test_size = 0.2, random_state = 1984)"
   ]
  },
  {
   "cell_type": "code",
   "execution_count": 50,
   "metadata": {},
   "outputs": [
    {
     "name": "stdout",
     "output_type": "stream",
     "text": [
      "Number of users:  192093 \n",
      "\n",
      "Number of items:  211233 \n",
      "\n"
     ]
    }
   ],
   "source": [
    "print('Number of users: ', trainset.n_users, '\\n')\n",
    "print('Number of items: ', trainset.n_items, '\\n')"
   ]
  },
  {
   "cell_type": "code",
   "execution_count": 53,
   "metadata": {},
   "outputs": [],
   "source": [
    "sim_cos = {'name':'cosine', 'user_based':True}"
   ]
  },
  {
   "cell_type": "code",
   "execution_count": 54,
   "metadata": {},
   "outputs": [
    {
     "name": "stdout",
     "output_type": "stream",
     "text": [
      "Computing the cosine similarity matrix...\n"
     ]
    },
    {
     "ename": "MemoryError",
     "evalue": "Unable to allocate 332. GiB for an array with shape (211233, 211233) and data type float64",
     "output_type": "error",
     "traceback": [
      "\u001b[0;31m---------------------------------------------------------------------------\u001b[0m",
      "\u001b[0;31mMemoryError\u001b[0m                               Traceback (most recent call last)",
      "\u001b[0;32m<ipython-input-54-a5c73017299f>\u001b[0m in \u001b[0;36m<module>\u001b[0;34m\u001b[0m\n\u001b[1;32m      1\u001b[0m \u001b[0mbasic\u001b[0m \u001b[0;34m=\u001b[0m \u001b[0mknns\u001b[0m\u001b[0;34m.\u001b[0m\u001b[0mKNNBasic\u001b[0m\u001b[0;34m(\u001b[0m\u001b[0msim_options\u001b[0m\u001b[0;34m=\u001b[0m\u001b[0msim_cos\u001b[0m\u001b[0;34m)\u001b[0m\u001b[0;34m\u001b[0m\u001b[0;34m\u001b[0m\u001b[0m\n\u001b[0;32m----> 2\u001b[0;31m \u001b[0mbasic\u001b[0m\u001b[0;34m.\u001b[0m\u001b[0mfit\u001b[0m\u001b[0;34m(\u001b[0m\u001b[0mtrainset\u001b[0m\u001b[0;34m)\u001b[0m\u001b[0;34m\u001b[0m\u001b[0;34m\u001b[0m\u001b[0m\n\u001b[0m",
      "\u001b[0;32m~/anaconda3/envs/python3/lib/python3.6/site-packages/surprise/prediction_algorithms/knns.py\u001b[0m in \u001b[0;36mfit\u001b[0;34m(self, trainset)\u001b[0m\n\u001b[1;32m     97\u001b[0m \u001b[0;34m\u001b[0m\u001b[0m\n\u001b[1;32m     98\u001b[0m         \u001b[0mSymmetricAlgo\u001b[0m\u001b[0;34m.\u001b[0m\u001b[0mfit\u001b[0m\u001b[0;34m(\u001b[0m\u001b[0mself\u001b[0m\u001b[0;34m,\u001b[0m \u001b[0mtrainset\u001b[0m\u001b[0;34m)\u001b[0m\u001b[0;34m\u001b[0m\u001b[0;34m\u001b[0m\u001b[0m\n\u001b[0;32m---> 99\u001b[0;31m         \u001b[0mself\u001b[0m\u001b[0;34m.\u001b[0m\u001b[0msim\u001b[0m \u001b[0;34m=\u001b[0m \u001b[0mself\u001b[0m\u001b[0;34m.\u001b[0m\u001b[0mcompute_similarities\u001b[0m\u001b[0;34m(\u001b[0m\u001b[0;34m)\u001b[0m\u001b[0;34m\u001b[0m\u001b[0;34m\u001b[0m\u001b[0m\n\u001b[0m\u001b[1;32m    100\u001b[0m \u001b[0;34m\u001b[0m\u001b[0m\n\u001b[1;32m    101\u001b[0m         \u001b[0;32mreturn\u001b[0m \u001b[0mself\u001b[0m\u001b[0;34m\u001b[0m\u001b[0;34m\u001b[0m\u001b[0m\n",
      "\u001b[0;32m~/anaconda3/envs/python3/lib/python3.6/site-packages/surprise/prediction_algorithms/algo_base.py\u001b[0m in \u001b[0;36mcompute_similarities\u001b[0;34m(self)\u001b[0m\n\u001b[1;32m    247\u001b[0m             \u001b[0;32mif\u001b[0m \u001b[0mgetattr\u001b[0m\u001b[0;34m(\u001b[0m\u001b[0mself\u001b[0m\u001b[0;34m,\u001b[0m \u001b[0;34m'verbose'\u001b[0m\u001b[0;34m,\u001b[0m \u001b[0;32mFalse\u001b[0m\u001b[0;34m)\u001b[0m\u001b[0;34m:\u001b[0m\u001b[0;34m\u001b[0m\u001b[0;34m\u001b[0m\u001b[0m\n\u001b[1;32m    248\u001b[0m                 \u001b[0mprint\u001b[0m\u001b[0;34m(\u001b[0m\u001b[0;34m'Computing the {0} similarity matrix...'\u001b[0m\u001b[0;34m.\u001b[0m\u001b[0mformat\u001b[0m\u001b[0;34m(\u001b[0m\u001b[0mname\u001b[0m\u001b[0;34m)\u001b[0m\u001b[0;34m)\u001b[0m\u001b[0;34m\u001b[0m\u001b[0;34m\u001b[0m\u001b[0m\n\u001b[0;32m--> 249\u001b[0;31m             \u001b[0msim\u001b[0m \u001b[0;34m=\u001b[0m \u001b[0mconstruction_func\u001b[0m\u001b[0;34m[\u001b[0m\u001b[0mname\u001b[0m\u001b[0;34m]\u001b[0m\u001b[0;34m(\u001b[0m\u001b[0;34m*\u001b[0m\u001b[0margs\u001b[0m\u001b[0;34m)\u001b[0m\u001b[0;34m\u001b[0m\u001b[0;34m\u001b[0m\u001b[0m\n\u001b[0m\u001b[1;32m    250\u001b[0m             \u001b[0;32mif\u001b[0m \u001b[0mgetattr\u001b[0m\u001b[0;34m(\u001b[0m\u001b[0mself\u001b[0m\u001b[0;34m,\u001b[0m \u001b[0;34m'verbose'\u001b[0m\u001b[0;34m,\u001b[0m \u001b[0;32mFalse\u001b[0m\u001b[0;34m)\u001b[0m\u001b[0;34m:\u001b[0m\u001b[0;34m\u001b[0m\u001b[0;34m\u001b[0m\u001b[0m\n\u001b[1;32m    251\u001b[0m                 \u001b[0mprint\u001b[0m\u001b[0;34m(\u001b[0m\u001b[0;34m'Done computing similarity matrix.'\u001b[0m\u001b[0;34m)\u001b[0m\u001b[0;34m\u001b[0m\u001b[0;34m\u001b[0m\u001b[0m\n",
      "\u001b[0;32m~/anaconda3/envs/python3/lib/python3.6/site-packages/surprise/similarities.pyx\u001b[0m in \u001b[0;36msurprise.similarities.cosine\u001b[0;34m()\u001b[0m\n",
      "\u001b[0;31mMemoryError\u001b[0m: Unable to allocate 332. GiB for an array with shape (211233, 211233) and data type float64"
     ]
    }
   ],
   "source": [
    "basic = knns.KNNBasic(sim_options=sim_cos)\n",
    "basic.fit(trainset)"
   ]
  },
  {
   "cell_type": "markdown",
   "metadata": {},
   "source": [
    "### Collaborative Filtering — User-based Recommender System"
   ]
  },
  {
   "cell_type": "markdown",
   "metadata": {},
   "source": [
    ">- Collaborative Filtering (CF) is currently the most widely used approach to build recommendation systems  \n",
    ">- The key idea behind CF is that similar users have similar interests and that a user generally likes items that are similar to other items they like  \n",
    ">- CF is filling an \"empty cell\" in the utility matrix based on the similarity between users or item. Matrix factorization or decomposition can help us solve this problem by determining what the overall \"topics\" are when a matrix is factored\n",
    "  \n",
    "Note: We will likely need to bring this notebook over to DataBricks or AWS.  \n",
    "  \n",
    "We can use **cosine similarity** between users, or **Pearson Correlation Coefficient**. Different metrics will offer different results, but I don't see why we couldn't offer multiple recommendations using different metrics.\n",
    "\n",
    "**Note: Don't forget to downplay zeros as they are gaps, not values representative of sentiment!**"
   ]
  },
  {
   "cell_type": "markdown",
   "metadata": {},
   "source": [
    "### SVD — Singular Value (Matrix) Decomposition"
   ]
  },
  {
   "cell_type": "markdown",
   "metadata": {},
   "source": [
    "Notes:  \n",
    "- eigendecompositions require square matrices\n",
    "- for SVD, we can create square matrices by taking the dot product of a matrix and its transpose\n",
    "- we can use SVD to draw vectors in a new space to capture as much of the variance in our data as possible"
   ]
  },
  {
   "cell_type": "markdown",
   "metadata": {},
   "source": [
    "~~Below we use the raw interactions dataset to create the rating matrix `A`, with rows representing recipes and columns representing users.~~  \n",
    "NVM LOOKS LIKE WE'RE GONNA NEED DISTRIBUTED COMPUTING FOR EVEN A SIMPLE SVD\n",
    "\n"
   ]
  },
  {
   "cell_type": "code",
   "execution_count": 14,
   "metadata": {},
   "outputs": [
    {
     "ename": "MemoryError",
     "evalue": "Unable to allocate 567. GiB for an array with shape (537716, 1132366) and data type uint8",
     "output_type": "error",
     "traceback": [
      "\u001b[0;31m---------------------------------------------------------------------------\u001b[0m",
      "\u001b[0;31mMemoryError\u001b[0m                               Traceback (most recent call last)",
      "\u001b[0;32m<ipython-input-14-b1ec0466b650>\u001b[0m in \u001b[0;36m<module>\u001b[0;34m\u001b[0m\n\u001b[1;32m      1\u001b[0m A = np.ndarray(\n\u001b[1;32m      2\u001b[0m     \u001b[0mshape\u001b[0m\u001b[0;34m=\u001b[0m\u001b[0;34m(\u001b[0m\u001b[0mnp\u001b[0m\u001b[0;34m.\u001b[0m\u001b[0mmax\u001b[0m\u001b[0;34m(\u001b[0m\u001b[0midf\u001b[0m\u001b[0;34m.\u001b[0m\u001b[0mrecipe_id\u001b[0m\u001b[0;34m.\u001b[0m\u001b[0mvalues\u001b[0m\u001b[0;34m)\u001b[0m\u001b[0;34m,\u001b[0m \u001b[0mnp\u001b[0m\u001b[0;34m.\u001b[0m\u001b[0mmax\u001b[0m\u001b[0;34m(\u001b[0m\u001b[0midf\u001b[0m\u001b[0;34m.\u001b[0m\u001b[0mindex\u001b[0m\u001b[0;34m.\u001b[0m\u001b[0mvalues\u001b[0m\u001b[0;34m)\u001b[0m\u001b[0;34m)\u001b[0m\u001b[0;34m,\u001b[0m\u001b[0;34m\u001b[0m\u001b[0;34m\u001b[0m\u001b[0m\n\u001b[0;32m----> 3\u001b[0;31m     dtype=np.uint8)\n\u001b[0m\u001b[1;32m      4\u001b[0m \u001b[0;34m\u001b[0m\u001b[0m\n\u001b[1;32m      5\u001b[0m \u001b[0mA\u001b[0m\u001b[0;34m[\u001b[0m\u001b[0midf\u001b[0m\u001b[0;34m.\u001b[0m\u001b[0mrecipe_id\u001b[0m\u001b[0;34m.\u001b[0m\u001b[0mvalues\u001b[0m\u001b[0;34m-\u001b[0m\u001b[0;36m1\u001b[0m\u001b[0;34m,\u001b[0m \u001b[0midf\u001b[0m\u001b[0;34m.\u001b[0m\u001b[0mindex\u001b[0m\u001b[0;34m.\u001b[0m\u001b[0mvalues\u001b[0m\u001b[0;34m-\u001b[0m\u001b[0;36m1\u001b[0m\u001b[0;34m]\u001b[0m \u001b[0;34m=\u001b[0m \u001b[0midf\u001b[0m\u001b[0;34m.\u001b[0m\u001b[0mrating\u001b[0m\u001b[0;34m.\u001b[0m\u001b[0mvalues\u001b[0m\u001b[0;34m\u001b[0m\u001b[0;34m\u001b[0m\u001b[0m\n",
      "\u001b[0;31mMemoryError\u001b[0m: Unable to allocate 567. GiB for an array with shape (537716, 1132366) and data type uint8"
     ]
    }
   ],
   "source": [
    "A = np.ndarray(\n",
    "    shape=(np.max(idf.recipe_id.values), np.max(idf.index.values)),\n",
    "    dtype=np.uint8)\n",
    "\n",
    "A[idf.recipe_id.values-1, idf.index.values-1] = idf.rating.values"
   ]
  },
  {
   "cell_type": "markdown",
   "metadata": {},
   "source": [
    "### ALS — Alternating Lease Squares Matrix Decomposition"
   ]
  },
  {
   "cell_type": "markdown",
   "metadata": {},
   "source": [
    "- plug in guess values for P and Q\n",
    "- hold the values of one constant, then use the values for R and the non-constant to find the optimum values for.\n",
    "- repeat for the other"
   ]
  },
  {
   "cell_type": "markdown",
   "metadata": {},
   "source": [
    "> \"When we talk about collaborative filtering for recommender systems we want to solve the problem of our original matrix having millions of different dimensions, but our 'tastes' not being nearly as complex. Even if i’ve \\[sic\\] viewed hundreds of items they might just express a couple of different tastes. Here we can actually use matrix factorization to mathematically reduce the dimensionality of our original 'all users by all items' matrix into something much smaller that represents 'all items by some taste dimensions' and 'all users by some taste dimensions'. These dimensions are called ***latent or hidden features*** and we learn them from our data\" ([Medium article: \"ALS Implicit Collaborative Filtering\"](https://medium.com/radon-dev/als-implicit-collaborative-filtering-5ed653ba39fe))."
   ]
  },
  {
   "cell_type": "markdown",
   "metadata": {},
   "source": [
    "For collaborative ALS, we will want our data to be shaped something like below, where the column numbers represent different recipes.  \n",
    "\n",
    "Recipe->| 1 | 2 | 3 | 4 | 5 | 6 | 7 | 8 | 9 | 10 | 11 | 12 | 13 |...| n  \n",
    ":-------|:--|---|---|---|---|---|---|---|---|---|---|---|---|---|---:  \n",
    "user_01 | 0 | 0 | 5 | 4 | 0 | 0 | 0 | 0 | 0 | 0 | 0 | 5 | 0 | 0 | 0  \n",
    "user_02 | 0 | 0 | 0 | 0 | 0 | 0 | 0 | 0 | 0 | 0 | 0 | 0 | 0 | 0 | 0  \n",
    "user_03 | 5 | 0 | 0 | 0 | 5 | 0 | 0 | 0 | 1 | 0 | 0 | 0 | 5 | 0 | 0  \n",
    "user_04 | 0 | 0 | 0 | 0 | 0 | 0 | 0 | 0 | 0 | 0 | 0 | 0 | 0 | 0 | 0  \n",
    "user_05 | 0 | 0 | 0 | 2 | 0 | 0 | 0 | 0 | 0 | 0 | 0 | 5 | 0 | 0 | 0  \n",
    "user_06 | 0 | 0 | 0 | 0 | 0 | 0 | 0 | 0 | 0 | 0 | 0 | 0 | 0 | 0 | 0  \n",
    "user_07 | 0 | 0 | 5 | 0 | 0 | 0 | 5 | 0 | 0 | 0 | 5 | 0 | 0 | 0 | 0  \n",
    "  ...   \n",
    "user_n  | 0 | 0 | 0 | 0 | 0 | 0 | 0 | 0 | 0 | 0 | 0 | 5 | 0 | 0 | 0  \n"
   ]
  },
  {
   "cell_type": "markdown",
   "metadata": {},
   "source": [
    "# Evaluation"
   ]
  },
  {
   "cell_type": "markdown",
   "metadata": {},
   "source": [
    "# Reference"
   ]
  },
  {
   "cell_type": "markdown",
   "metadata": {},
   "source": [
    "## Reading in Big Data from S3"
   ]
  },
  {
   "cell_type": "markdown",
   "metadata": {},
   "source": [
    "If the above read_csv statements don't work, it's likely because the larger files are not located in the /data folder. To add them to the folder, do so by accessing the S3 bucket where they are located, using the statements below."
   ]
  },
  {
   "cell_type": "code",
   "execution_count": 19,
   "metadata": {},
   "outputs": [],
   "source": [
    "# My Bucket ARN Access Key, just in case\n",
    "arn = 'arn:aws:s3:us-east-2:133716175259:accesspoint/recipe-book-GitHub-t2-exec-to-s3'"
   ]
  },
  {
   "cell_type": "code",
   "execution_count": 17,
   "metadata": {},
   "outputs": [],
   "source": [
    "# try:\n",
    "#     urllib.request.urlretrieve ('https://sagemaker-studio-t1ems8mtnoj.s3.us-east-2.amazonaws.com/RAW_interactions.csv', 'data/RAW_interactions.csv')\n",
    "#     print('Success: downloaded RAW_interactions.csv.')\n",
    "# except Exception as e:\n",
    "#     print('Data load error: ',e)\n",
    "\n",
    "# try:\n",
    "#     idf = pd.read_csv('../data/RAW_interactions.csv',index_col=0)\n",
    "#     print('Success: Data loaded into dataframe.')\n",
    "# except Exception as e:\n",
    "#     print('Data load error: ',e)"
   ]
  },
  {
   "cell_type": "code",
   "execution_count": 18,
   "metadata": {},
   "outputs": [],
   "source": [
    "# try:\n",
    "#     urllib.request.urlretrieve ('https://sagemaker-studio-t1ems8mtnoj.s3.us-east-2.amazonaws.com/RAW_recipes.csv', 'data/RAW_recipes.csv')\n",
    "#     print('Success: downloaded RAW_recipes.csv.')\n",
    "# except Exception as e:\n",
    "#     print('Data load error: ',e)\n",
    "\n",
    "# try:\n",
    "#     rdf = pd.read_csv('../data/RAW_recipes.csv',index_col=0)\n",
    "#     print('Success: Data loaded into dataframe.')\n",
    "# except Exception as e:\n",
    "#     print('Data load error: ',e)"
   ]
  },
  {
   "cell_type": "markdown",
   "metadata": {},
   "source": [
    "Reference:  \n",
    ">(*Both personalized and content-based recommendation systems*) make use of different similarity metrics to determine how \"similar\" items are to one another. The most common similarity metrics are [**Euclidean distance**](https://en.wikipedia.org/wiki/Euclidean_distance), [**cosine similarity**](https://en.wikipedia.org/wiki/Cosine_similarity), [**Pearson correlation**](https://en.wikipedia.org/wiki/Pearson_correlation_coefficient) and the [**Jaccard index**](https://en.wikipedia.org/wiki/Jaccard_index) (useful with binary data). Each one of these distance metrics has its advantages and disadvantages depending on the type of ratings you are using and the characteristics of your data.$_1$  \n",
    "  "
   ]
  },
  {
   "cell_type": "markdown",
   "metadata": {},
   "source": [
    "> The second category covers the Model based approaches, which involve a step to reduce or compress the large but sparse user-item matrix. For understanding this step, a basic understanding of dimensionality reduction can be very helpful."
   ]
  },
  {
   "cell_type": "markdown",
   "metadata": {},
   "source": [
    ">It's worth pointing out that when SVD is calculated for recommendation systems, it is preferred to be done with a modified version called \"Funk's SVD\" that only takes into account the rated values, ignoring whatever items have not been rated by users. The algorithm is named after Simon Funk, who was part of the team who placed 3rd in the Netflix challenge with this innovative way of performing matrix decomposition. Read more about Funk's SVD implementation at his original blog post. There is no simple way to include for this fact with SciPy's implementation of svd(), but luckily the surprise library has Funk's version of SVD implemented to make our lives easier!\n",
    ">\n",
    ">Similar to other sklearn features, we can expedite the process of trying out different parameters by using an implementation of grid search. Let's make use of the grid search here to account for some different configurations of parameters within the SVD pipeline. This might take some time! You'll notice that the n_jobs is parameter set to -1, which ensures that all of the cores on your computer will be used to process fitting and evaluating all of these models. To help keep track of what is occurring here, take note of the different values. This code ended up taking over 16 minutes to complete even with parallelization in effect, so the optimal parameters are given to you for the SVD model below. Use them to train a model and let's see how well it performs. If you want the full grid search experience, feel free to uncomment the code and give it a go!"
   ]
  },
  {
   "cell_type": "markdown",
   "metadata": {},
   "source": [
    "### Addtl. Package Installs & Import Statements"
   ]
  },
  {
   "cell_type": "code",
   "execution_count": null,
   "metadata": {},
   "outputs": [],
   "source": []
  },
  {
   "cell_type": "markdown",
   "metadata": {},
   "source": [
    "#### Additional Rec. System Packages:"
   ]
  },
  {
   "cell_type": "markdown",
   "metadata": {},
   "source": [
    "- implicit\n",
    "- lightfm\n",
    "- pyspark.mlib.recommendation\n",
    "- Amazon Personalize\n",
    "- crab\n",
    "- suggest"
   ]
  },
  {
   "cell_type": "code",
   "execution_count": 12,
   "metadata": {},
   "outputs": [],
   "source": [
    "# %conda install --yes --prefix {sys.prefix} -c conda-forge implicit"
   ]
  },
  {
   "cell_type": "code",
   "execution_count": 13,
   "metadata": {},
   "outputs": [],
   "source": [
    "# %conda install --yes --prefix {sys.prefix} -c conda-forge lightfm"
   ]
  },
  {
   "cell_type": "markdown",
   "metadata": {},
   "source": [
    "#### Unused Packages Import Statements"
   ]
  },
  {
   "cell_type": "code",
   "execution_count": 14,
   "metadata": {},
   "outputs": [],
   "source": [
    "## PYSPARK MODELING NOW IN SEPARATE DOCUMENT\n",
    "\n",
    "# import pyspark\n",
    "# import pyspark.sql.functions as F\n",
    "# from pyspark.sql.types import ArrayType, IntegerType"
   ]
  },
  {
   "cell_type": "markdown",
   "metadata": {},
   "source": [
    "## Further Reading"
   ]
  },
  {
   "cell_type": "markdown",
   "metadata": {},
   "source": [
    "For those of you visiting this page who are interested in reading more about recommender systems, below are fantastic resources that I have collected.  \n",
    "$_n$$_o$$_w$ &nbsp;$_I$ &nbsp;$_a$$_m$ &nbsp;$_t$$_h$$_e$ &nbsp;$_r$$_e$$_c$$_o$$_m$$_m$$_e$$_n$$_d$$_a$$_t$$_i$$_o$$_n$ &nbsp;$_s$$_y$$_s$$_t$$_e$$_m$$_!$"
   ]
  },
  {
   "cell_type": "markdown",
   "metadata": {},
   "source": [
    "[*Mining Massive Datasets: Chapter 9*](http://infolab.stanford.edu/~ullman/mmds/ch9.pdf), © Copyright Stanford University. Stanford, California 94305  \n",
    "[Singular Value Decomposition (SVD) & Its Application In Recommender System](https://analyticsindiamag.com/singular-value-decomposition-svd-application-recommender-system/), Dr. Vaibhav Kumar"
   ]
  },
  {
   "cell_type": "markdown",
   "metadata": {},
   "source": [
    "# Bibliography"
   ]
  },
  {
   "cell_type": "markdown",
   "metadata": {},
   "source": [
    "1. [*Introduction to Recommender Systems* by Flatiron School](https://github.com/learn-co-curriculum/dsc-recommendation-system-introduction) is licensed under CC BY-NC-SA 4.0\n",
    ">© 2018 Flatiron School, Inc.  \n",
    ">© 2021 Flatiron School, LLC"
   ]
  },
  {
   "cell_type": "markdown",
   "metadata": {},
   "source": [
    "# Notes"
   ]
  },
  {
   "cell_type": "code",
   "execution_count": 11,
   "metadata": {},
   "outputs": [
    {
     "data": {
      "text/plain": [
       "{'Key': 'RAW_interactions.csv',\n",
       " 'LastModified': datetime.datetime(2021, 4, 29, 17, 32, 1, tzinfo=tzlocal()),\n",
       " 'ETag': '\"b76f667f757a6e0b6d3b08d23e0bc5e0-21\"',\n",
       " 'Size': 349436524,\n",
       " 'StorageClass': 'STANDARD',\n",
       " 'Owner': {'ID': 'ee74dd80de8b382fe7543b22cf2221ca7e68c76f28d55bec19b96bbe32873a4c'}}"
      ]
     },
     "execution_count": 11,
     "metadata": {},
     "output_type": "execute_result"
    }
   ],
   "source": [
    "contents[0]"
   ]
  },
  {
   "cell_type": "code",
   "execution_count": 12,
   "metadata": {},
   "outputs": [
    {
     "data": {
      "text/plain": [
       "'RAW_interactions.csv'"
      ]
     },
     "execution_count": 12,
     "metadata": {},
     "output_type": "execute_result"
    }
   ],
   "source": [
    "contents[0]['Key']"
   ]
  },
  {
   "cell_type": "code",
   "execution_count": null,
   "metadata": {},
   "outputs": [],
   "source": [
    "# import boto3\n",
    "# import sys\n",
    "\n",
    "# if sys.version_info[0] < 3: \n",
    "#     from StringIO import StringIO # Python 2.x\n",
    "# else:\n",
    "#     from io import StringIO # Python 3.x\n",
    "\n",
    "# # get your credentials from environment variables\n",
    "# aws_id = os.environ['133716175259']\n",
    "# aws_secret = os.environ['AWS_SECRET']\n",
    "\n",
    "# client = boto3.client('s3', aws_access_key_id=aws_id,\n",
    "#         aws_secret_access_key=aws_secret)\n",
    "\n",
    "# bucket_name = 'my_bucket'\n",
    "\n",
    "# object_key = 'my_file.csv'\n",
    "# csv_obj = client.get_object(Bucket=bucket_name, Key=object_key)\n",
    "# body = csv_obj['Body']\n",
    "# csv_string = body.read().decode('utf-8')\n",
    "\n",
    "# df = pd.read_csv(StringIO(csv_string))"
   ]
  }
 ],
 "metadata": {
  "kernelspec": {
   "display_name": "conda_python3",
   "language": "python",
   "name": "conda_python3"
  },
  "language_info": {
   "codemirror_mode": {
    "name": "ipython",
    "version": 3
   },
   "file_extension": ".py",
   "mimetype": "text/x-python",
   "name": "python",
   "nbconvert_exporter": "python",
   "pygments_lexer": "ipython3",
   "version": "3.6.13"
  },
  "toc": {
   "base_numbering": 1,
   "nav_menu": {},
   "number_sections": true,
   "sideBar": true,
   "skip_h1_title": false,
   "title_cell": "Table of Contents",
   "title_sidebar": "Contents",
   "toc_cell": false,
   "toc_position": {
    "height": "calc(100% - 180px)",
    "left": "10px",
    "top": "150px",
    "width": "288px"
   },
   "toc_section_display": true,
   "toc_window_display": true
  },
  "varInspector": {
   "cols": {
    "lenName": 16,
    "lenType": 16,
    "lenVar": 40
   },
   "kernels_config": {
    "python": {
     "delete_cmd_postfix": "",
     "delete_cmd_prefix": "del ",
     "library": "var_list.py",
     "varRefreshCmd": "print(var_dic_list())"
    },
    "r": {
     "delete_cmd_postfix": ") ",
     "delete_cmd_prefix": "rm(",
     "library": "var_list.r",
     "varRefreshCmd": "cat(var_dic_list()) "
    }
   },
   "types_to_exclude": [
    "module",
    "function",
    "builtin_function_or_method",
    "instance",
    "_Feature"
   ],
   "window_display": false
  }
 },
 "nbformat": 4,
 "nbformat_minor": 4
}
