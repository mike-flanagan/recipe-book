{
 "cells": [
  {
   "cell_type": "markdown",
   "id": "03e0b278",
   "metadata": {},
   "source": [
    "<head><h1 align=\"center\">\n",
    "Front End Development\n",
    "</h1></head>  \n",
    "  \n",
    "<head><h3 align=\"center\">Recipe Recommender System Project Notebook</h3></head>  "
   ]
  },
  {
   "cell_type": "markdown",
   "id": "058d042f",
   "metadata": {},
   "source": [
    "`Streamlit` development will be contained in a python file `app.py`. This notebook will purely contain notes to and drafts that coincide with development."
   ]
  },
  {
   "cell_type": "markdown",
   "id": "e50289e8",
   "metadata": {},
   "source": [
    "# Getting Started"
   ]
  },
  {
   "cell_type": "markdown",
   "id": "8b932e39",
   "metadata": {},
   "source": [
    "Run the following via command line in Terminal (not AWS Sagemaker instance command line).\n",
    "> `pip install streamlit`  \n",
    "\n",
    "After installation runs...  \n",
    "> `streamlit hello`"
   ]
  },
  {
   "cell_type": "code",
   "execution_count": 6,
   "id": "74a4985d",
   "metadata": {
    "ExecuteTime": {
     "end_time": "2021-05-11T04:32:15.966904Z",
     "start_time": "2021-05-11T04:32:15.961963Z"
    }
   },
   "outputs": [],
   "source": [
    "# %pip install streamlit\n",
    "# !streamlit hello"
   ]
  }
 ],
 "metadata": {
  "kernelspec": {
   "display_name": "conda_python3",
   "language": "python",
   "name": "conda_python3"
  },
  "language_info": {
   "codemirror_mode": {
    "name": "ipython",
    "version": 3
   },
   "file_extension": ".py",
   "mimetype": "text/x-python",
   "name": "python",
   "nbconvert_exporter": "python",
   "pygments_lexer": "ipython3",
   "version": "3.6.13"
  },
  "toc": {
   "base_numbering": 1,
   "nav_menu": {},
   "number_sections": true,
   "sideBar": true,
   "skip_h1_title": false,
   "title_cell": "Table of Contents",
   "title_sidebar": "Contents",
   "toc_cell": false,
   "toc_position": {},
   "toc_section_display": true,
   "toc_window_display": false
  },
  "varInspector": {
   "cols": {
    "lenName": 16,
    "lenType": 16,
    "lenVar": 40
   },
   "kernels_config": {
    "python": {
     "delete_cmd_postfix": "",
     "delete_cmd_prefix": "del ",
     "library": "var_list.py",
     "varRefreshCmd": "print(var_dic_list())"
    },
    "r": {
     "delete_cmd_postfix": ") ",
     "delete_cmd_prefix": "rm(",
     "library": "var_list.r",
     "varRefreshCmd": "cat(var_dic_list()) "
    }
   },
   "types_to_exclude": [
    "module",
    "function",
    "builtin_function_or_method",
    "instance",
    "_Feature"
   ],
   "window_display": false
  }
 },
 "nbformat": 4,
 "nbformat_minor": 5
}
